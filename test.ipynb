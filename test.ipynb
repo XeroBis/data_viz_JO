{
 "cells": [
  {
   "cell_type": "code",
   "execution_count": 90,
   "metadata": {},
   "outputs": [],
   "source": [
    "from utils.graph import JO\n",
    "import pandas as pd\n",
    "import numpy as np\n",
    "import yaml"
   ]
  },
  {
   "cell_type": "code",
   "execution_count": 3,
   "metadata": {},
   "outputs": [
    {
     "data": {
      "text/plain": [
       "1084"
      ]
     },
     "execution_count": 3,
     "metadata": {},
     "output_type": "execute_result"
    }
   ],
   "source": [
    "\n",
    "jo_inst = JO()\n",
    "#jo_inst.get_repartitition_homme_femme()\n",
    "test = jo_inst.get_list_country()\n",
    "\n",
    "\n",
    "jo_inst.get_number_participant([2012, 2016], noc=\"FRA\")"
   ]
  },
  {
   "cell_type": "code",
   "execution_count": 123,
   "metadata": {},
   "outputs": [
    {
     "name": "stdout",
     "output_type": "stream",
     "text": [
      "--- 0.001224517822265625 seconds ---\n",
      "func :  nb_ofM --- 0.2590475082397461 seconds ---\n",
      "func :  nb_ofF --- 0.04479503631591797 seconds ---\n",
      "func :  list_country --- 0.08892679214477539 seconds ---\n",
      "func :  liste_region --- 0.24101471900939941 seconds ---\n"
     ]
    }
   ],
   "source": [
    "import time\n",
    "start_time = time.time()\n",
    "\n",
    "print(\"--- %s seconds ---\" % (time.time() - start_time))\n",
    "\n",
    "\n",
    "def calculate_time(func, name_func, args=None):\n",
    "    start_time = time.time()\n",
    "    if args:\n",
    "        name_func += str(args)\n",
    "        func(args)\n",
    "    else:\n",
    "        func()\n",
    "    print(\"func : \", name_func, \"--- %s seconds ---\" %\n",
    "          (time.time() - start_time))\n",
    "\n",
    "\n",
    "func = [\n",
    "    [jo_inst.get_number_of_, [\"M\", \"F\"], \"nb_of\"],\n",
    "    [jo_inst.get_list_country, \"list_country\"],\n",
    "    [jo_inst.get_liste_region, \"liste_region\"]\n",
    "]\n",
    "\n",
    "\n",
    "for fun in func:\n",
    "    if len(fun) == 3:\n",
    "        for arg in fun[1]:\n",
    "            calculate_time(func=fun[0], args=arg, name_func=fun[2])\n",
    "    else:\n",
    "        calculate_time(func=fun[0], name_func=fun[1])"
   ]
  },
  {
   "cell_type": "code",
   "execution_count": 14,
   "metadata": {},
   "outputs": [
    {
     "data": {
      "text/html": [
       "<div>\n",
       "<style scoped>\n",
       "    .dataframe tbody tr th:only-of-type {\n",
       "        vertical-align: middle;\n",
       "    }\n",
       "\n",
       "    .dataframe tbody tr th {\n",
       "        vertical-align: top;\n",
       "    }\n",
       "\n",
       "    .dataframe thead th {\n",
       "        text-align: right;\n",
       "    }\n",
       "</style>\n",
       "<table border=\"1\" class=\"dataframe\">\n",
       "  <thead>\n",
       "    <tr style=\"text-align: right;\">\n",
       "      <th></th>\n",
       "      <th>ID</th>\n",
       "      <th>Name</th>\n",
       "      <th>Sex</th>\n",
       "      <th>Age</th>\n",
       "      <th>Height</th>\n",
       "      <th>Weight</th>\n",
       "      <th>Team</th>\n",
       "      <th>NOC</th>\n",
       "      <th>Games</th>\n",
       "      <th>Year</th>\n",
       "      <th>Season</th>\n",
       "      <th>City</th>\n",
       "      <th>Sport</th>\n",
       "      <th>Event</th>\n",
       "      <th>Medal</th>\n",
       "    </tr>\n",
       "  </thead>\n",
       "  <tbody>\n",
       "    <tr>\n",
       "      <th>772</th>\n",
       "      <td>444</td>\n",
       "      <td>Camille Anne Franoise Abily</td>\n",
       "      <td>F</td>\n",
       "      <td>27.0</td>\n",
       "      <td>168.0</td>\n",
       "      <td>60.0</td>\n",
       "      <td>France</td>\n",
       "      <td>FRA</td>\n",
       "      <td>2012 Summer</td>\n",
       "      <td>2012</td>\n",
       "      <td>Summer</td>\n",
       "      <td>London</td>\n",
       "      <td>Football</td>\n",
       "      <td>Football Women's Football</td>\n",
       "      <td>NaN</td>\n",
       "    </tr>\n",
       "    <tr>\n",
       "      <th>24955</th>\n",
       "      <td>13068</td>\n",
       "      <td>Sonia Bompastor</td>\n",
       "      <td>F</td>\n",
       "      <td>32.0</td>\n",
       "      <td>162.0</td>\n",
       "      <td>53.0</td>\n",
       "      <td>France</td>\n",
       "      <td>FRA</td>\n",
       "      <td>2012 Summer</td>\n",
       "      <td>2012</td>\n",
       "      <td>Summer</td>\n",
       "      <td>London</td>\n",
       "      <td>Football</td>\n",
       "      <td>Football Women's Football</td>\n",
       "      <td>NaN</td>\n",
       "    </tr>\n",
       "    <tr>\n",
       "      <th>26928</th>\n",
       "      <td>14001</td>\n",
       "      <td>Sarah Bouhaddi</td>\n",
       "      <td>F</td>\n",
       "      <td>25.0</td>\n",
       "      <td>175.0</td>\n",
       "      <td>69.0</td>\n",
       "      <td>France</td>\n",
       "      <td>FRA</td>\n",
       "      <td>2012 Summer</td>\n",
       "      <td>2012</td>\n",
       "      <td>Summer</td>\n",
       "      <td>London</td>\n",
       "      <td>Football</td>\n",
       "      <td>Football Women's Football</td>\n",
       "      <td>NaN</td>\n",
       "    </tr>\n",
       "    <tr>\n",
       "      <th>26996</th>\n",
       "      <td>14042</td>\n",
       "      <td>Laure Pascale Boulleau</td>\n",
       "      <td>F</td>\n",
       "      <td>25.0</td>\n",
       "      <td>160.0</td>\n",
       "      <td>52.0</td>\n",
       "      <td>France</td>\n",
       "      <td>FRA</td>\n",
       "      <td>2012 Summer</td>\n",
       "      <td>2012</td>\n",
       "      <td>Summer</td>\n",
       "      <td>London</td>\n",
       "      <td>Football</td>\n",
       "      <td>Football Women's Football</td>\n",
       "      <td>NaN</td>\n",
       "    </tr>\n",
       "    <tr>\n",
       "      <th>32791</th>\n",
       "      <td>16851</td>\n",
       "      <td>lise Bussaglia</td>\n",
       "      <td>F</td>\n",
       "      <td>26.0</td>\n",
       "      <td>163.0</td>\n",
       "      <td>56.0</td>\n",
       "      <td>France</td>\n",
       "      <td>FRA</td>\n",
       "      <td>2012 Summer</td>\n",
       "      <td>2012</td>\n",
       "      <td>Summer</td>\n",
       "      <td>London</td>\n",
       "      <td>Football</td>\n",
       "      <td>Football Women's Football</td>\n",
       "      <td>NaN</td>\n",
       "    </tr>\n",
       "    <tr>\n",
       "      <th>37024</th>\n",
       "      <td>19035</td>\n",
       "      <td>Camille Marie Catala</td>\n",
       "      <td>F</td>\n",
       "      <td>21.0</td>\n",
       "      <td>169.0</td>\n",
       "      <td>60.0</td>\n",
       "      <td>France</td>\n",
       "      <td>FRA</td>\n",
       "      <td>2012 Summer</td>\n",
       "      <td>2012</td>\n",
       "      <td>Summer</td>\n",
       "      <td>London</td>\n",
       "      <td>Football</td>\n",
       "      <td>Football Women's Football</td>\n",
       "      <td>NaN</td>\n",
       "    </tr>\n",
       "    <tr>\n",
       "      <th>53211</th>\n",
       "      <td>27314</td>\n",
       "      <td>Marie-Laure Delie</td>\n",
       "      <td>F</td>\n",
       "      <td>24.0</td>\n",
       "      <td>172.0</td>\n",
       "      <td>65.0</td>\n",
       "      <td>France</td>\n",
       "      <td>FRA</td>\n",
       "      <td>2012 Summer</td>\n",
       "      <td>2012</td>\n",
       "      <td>Summer</td>\n",
       "      <td>London</td>\n",
       "      <td>Football</td>\n",
       "      <td>Football Women's Football</td>\n",
       "      <td>NaN</td>\n",
       "    </tr>\n",
       "    <tr>\n",
       "      <th>72130</th>\n",
       "      <td>36700</td>\n",
       "      <td>Corine Ccile Franco (Petit-)</td>\n",
       "      <td>F</td>\n",
       "      <td>28.0</td>\n",
       "      <td>178.0</td>\n",
       "      <td>65.0</td>\n",
       "      <td>France</td>\n",
       "      <td>FRA</td>\n",
       "      <td>2012 Summer</td>\n",
       "      <td>2012</td>\n",
       "      <td>Summer</td>\n",
       "      <td>London</td>\n",
       "      <td>Football</td>\n",
       "      <td>Football Women's Football</td>\n",
       "      <td>NaN</td>\n",
       "    </tr>\n",
       "    <tr>\n",
       "      <th>77934</th>\n",
       "      <td>39578</td>\n",
       "      <td>Laura Stphanie Georges</td>\n",
       "      <td>F</td>\n",
       "      <td>27.0</td>\n",
       "      <td>170.0</td>\n",
       "      <td>62.0</td>\n",
       "      <td>France</td>\n",
       "      <td>FRA</td>\n",
       "      <td>2012 Summer</td>\n",
       "      <td>2012</td>\n",
       "      <td>Summer</td>\n",
       "      <td>London</td>\n",
       "      <td>Football</td>\n",
       "      <td>Football Women's Football</td>\n",
       "      <td>NaN</td>\n",
       "    </tr>\n",
       "    <tr>\n",
       "      <th>134176</th>\n",
       "      <td>67553</td>\n",
       "      <td>Eugnie Anne Claudine Le Sommer</td>\n",
       "      <td>F</td>\n",
       "      <td>23.0</td>\n",
       "      <td>161.0</td>\n",
       "      <td>58.0</td>\n",
       "      <td>France</td>\n",
       "      <td>FRA</td>\n",
       "      <td>2012 Summer</td>\n",
       "      <td>2012</td>\n",
       "      <td>Summer</td>\n",
       "      <td>London</td>\n",
       "      <td>Football</td>\n",
       "      <td>Football Women's Football</td>\n",
       "      <td>NaN</td>\n",
       "    </tr>\n",
       "    <tr>\n",
       "      <th>155887</th>\n",
       "      <td>78270</td>\n",
       "      <td>Ophlie Anne-Laure Meilleroux</td>\n",
       "      <td>F</td>\n",
       "      <td>28.0</td>\n",
       "      <td>164.0</td>\n",
       "      <td>62.0</td>\n",
       "      <td>France</td>\n",
       "      <td>FRA</td>\n",
       "      <td>2012 Summer</td>\n",
       "      <td>2012</td>\n",
       "      <td>Summer</td>\n",
       "      <td>London</td>\n",
       "      <td>Football</td>\n",
       "      <td>Football Women's Football</td>\n",
       "      <td>NaN</td>\n",
       "    </tr>\n",
       "    <tr>\n",
       "      <th>169076</th>\n",
       "      <td>84995</td>\n",
       "      <td>Louisa Ncib-Cadamuro</td>\n",
       "      <td>F</td>\n",
       "      <td>25.0</td>\n",
       "      <td>168.0</td>\n",
       "      <td>56.0</td>\n",
       "      <td>France</td>\n",
       "      <td>FRA</td>\n",
       "      <td>2012 Summer</td>\n",
       "      <td>2012</td>\n",
       "      <td>Summer</td>\n",
       "      <td>London</td>\n",
       "      <td>Football</td>\n",
       "      <td>Football Women's Football</td>\n",
       "      <td>NaN</td>\n",
       "    </tr>\n",
       "    <tr>\n",
       "      <th>198980</th>\n",
       "      <td>99939</td>\n",
       "      <td>Wendie Thrse Renard</td>\n",
       "      <td>F</td>\n",
       "      <td>22.0</td>\n",
       "      <td>187.0</td>\n",
       "      <td>70.0</td>\n",
       "      <td>France</td>\n",
       "      <td>FRA</td>\n",
       "      <td>2012 Summer</td>\n",
       "      <td>2012</td>\n",
       "      <td>Summer</td>\n",
       "      <td>London</td>\n",
       "      <td>Football</td>\n",
       "      <td>Football Women's Football</td>\n",
       "      <td>NaN</td>\n",
       "    </tr>\n",
       "    <tr>\n",
       "      <th>225674</th>\n",
       "      <td>113398</td>\n",
       "      <td>Sandrine Soubeyrand</td>\n",
       "      <td>F</td>\n",
       "      <td>38.0</td>\n",
       "      <td>173.0</td>\n",
       "      <td>59.0</td>\n",
       "      <td>France</td>\n",
       "      <td>FRA</td>\n",
       "      <td>2012 Summer</td>\n",
       "      <td>2012</td>\n",
       "      <td>Summer</td>\n",
       "      <td>London</td>\n",
       "      <td>Football</td>\n",
       "      <td>Football Women's Football</td>\n",
       "      <td>NaN</td>\n",
       "    </tr>\n",
       "    <tr>\n",
       "      <th>238787</th>\n",
       "      <td>119709</td>\n",
       "      <td>Gatane Iza Laure Thiney</td>\n",
       "      <td>F</td>\n",
       "      <td>26.0</td>\n",
       "      <td>169.0</td>\n",
       "      <td>59.0</td>\n",
       "      <td>France</td>\n",
       "      <td>FRA</td>\n",
       "      <td>2012 Summer</td>\n",
       "      <td>2012</td>\n",
       "      <td>Summer</td>\n",
       "      <td>London</td>\n",
       "      <td>Football</td>\n",
       "      <td>Football Women's Football</td>\n",
       "      <td>NaN</td>\n",
       "    </tr>\n",
       "    <tr>\n",
       "      <th>239139</th>\n",
       "      <td>119873</td>\n",
       "      <td>lodie Ginette Thomis</td>\n",
       "      <td>F</td>\n",
       "      <td>25.0</td>\n",
       "      <td>167.0</td>\n",
       "      <td>59.0</td>\n",
       "      <td>France</td>\n",
       "      <td>FRA</td>\n",
       "      <td>2012 Summer</td>\n",
       "      <td>2012</td>\n",
       "      <td>Summer</td>\n",
       "      <td>London</td>\n",
       "      <td>Football</td>\n",
       "      <td>Football Women's Football</td>\n",
       "      <td>NaN</td>\n",
       "    </tr>\n",
       "    <tr>\n",
       "      <th>252580</th>\n",
       "      <td>126487</td>\n",
       "      <td>Sabrina Marie-Christine Viguier</td>\n",
       "      <td>F</td>\n",
       "      <td>31.0</td>\n",
       "      <td>169.0</td>\n",
       "      <td>59.0</td>\n",
       "      <td>France</td>\n",
       "      <td>FRA</td>\n",
       "      <td>2012 Summer</td>\n",
       "      <td>2012</td>\n",
       "      <td>Summer</td>\n",
       "      <td>London</td>\n",
       "      <td>Football</td>\n",
       "      <td>Football Women's Football</td>\n",
       "      <td>NaN</td>\n",
       "    </tr>\n",
       "  </tbody>\n",
       "</table>\n",
       "</div>"
      ],
      "text/plain": [
       "            ID                             Name Sex   Age  Height  Weight  \\\n",
       "772        444      Camille Anne Franoise Abily   F  27.0   168.0    60.0   \n",
       "24955    13068                  Sonia Bompastor   F  32.0   162.0    53.0   \n",
       "26928    14001                   Sarah Bouhaddi   F  25.0   175.0    69.0   \n",
       "26996    14042           Laure Pascale Boulleau   F  25.0   160.0    52.0   \n",
       "32791    16851                   lise Bussaglia   F  26.0   163.0    56.0   \n",
       "37024    19035             Camille Marie Catala   F  21.0   169.0    60.0   \n",
       "53211    27314                Marie-Laure Delie   F  24.0   172.0    65.0   \n",
       "72130    36700     Corine Ccile Franco (Petit-)   F  28.0   178.0    65.0   \n",
       "77934    39578           Laura Stphanie Georges   F  27.0   170.0    62.0   \n",
       "134176   67553   Eugnie Anne Claudine Le Sommer   F  23.0   161.0    58.0   \n",
       "155887   78270     Ophlie Anne-Laure Meilleroux   F  28.0   164.0    62.0   \n",
       "169076   84995             Louisa Ncib-Cadamuro   F  25.0   168.0    56.0   \n",
       "198980   99939              Wendie Thrse Renard   F  22.0   187.0    70.0   \n",
       "225674  113398              Sandrine Soubeyrand   F  38.0   173.0    59.0   \n",
       "238787  119709          Gatane Iza Laure Thiney   F  26.0   169.0    59.0   \n",
       "239139  119873             lodie Ginette Thomis   F  25.0   167.0    59.0   \n",
       "252580  126487  Sabrina Marie-Christine Viguier   F  31.0   169.0    59.0   \n",
       "\n",
       "          Team  NOC        Games  Year  Season    City     Sport  \\\n",
       "772     France  FRA  2012 Summer  2012  Summer  London  Football   \n",
       "24955   France  FRA  2012 Summer  2012  Summer  London  Football   \n",
       "26928   France  FRA  2012 Summer  2012  Summer  London  Football   \n",
       "26996   France  FRA  2012 Summer  2012  Summer  London  Football   \n",
       "32791   France  FRA  2012 Summer  2012  Summer  London  Football   \n",
       "37024   France  FRA  2012 Summer  2012  Summer  London  Football   \n",
       "53211   France  FRA  2012 Summer  2012  Summer  London  Football   \n",
       "72130   France  FRA  2012 Summer  2012  Summer  London  Football   \n",
       "77934   France  FRA  2012 Summer  2012  Summer  London  Football   \n",
       "134176  France  FRA  2012 Summer  2012  Summer  London  Football   \n",
       "155887  France  FRA  2012 Summer  2012  Summer  London  Football   \n",
       "169076  France  FRA  2012 Summer  2012  Summer  London  Football   \n",
       "198980  France  FRA  2012 Summer  2012  Summer  London  Football   \n",
       "225674  France  FRA  2012 Summer  2012  Summer  London  Football   \n",
       "238787  France  FRA  2012 Summer  2012  Summer  London  Football   \n",
       "239139  France  FRA  2012 Summer  2012  Summer  London  Football   \n",
       "252580  France  FRA  2012 Summer  2012  Summer  London  Football   \n",
       "\n",
       "                            Event Medal  \n",
       "772     Football Women's Football   NaN  \n",
       "24955   Football Women's Football   NaN  \n",
       "26928   Football Women's Football   NaN  \n",
       "26996   Football Women's Football   NaN  \n",
       "32791   Football Women's Football   NaN  \n",
       "37024   Football Women's Football   NaN  \n",
       "53211   Football Women's Football   NaN  \n",
       "72130   Football Women's Football   NaN  \n",
       "77934   Football Women's Football   NaN  \n",
       "134176  Football Women's Football   NaN  \n",
       "155887  Football Women's Football   NaN  \n",
       "169076  Football Women's Football   NaN  \n",
       "198980  Football Women's Football   NaN  \n",
       "225674  Football Women's Football   NaN  \n",
       "238787  Football Women's Football   NaN  \n",
       "239139  Football Women's Football   NaN  \n",
       "252580  Football Women's Football   NaN  "
      ]
     },
     "execution_count": 14,
     "metadata": {},
     "output_type": "execute_result"
    }
   ],
   "source": [
    "import pandas as pd\n",
    "import plotly.express as px\n",
    "\n",
    "# Creating a DataFrame\n",
    "df = pd.read_csv(\"data/athlete_events.csv\")\n",
    "\n",
    "df= df[df[\"NOC\"] == \"FRA\"]\n",
    "df= df[df[\"Sport\"] == \"Football\"]\n",
    "df = df[df[\"Year\"] == 2012]\n",
    "\n",
    "df\n"
   ]
  },
  {
   "cell_type": "code",
   "execution_count": 72,
   "metadata": {},
   "outputs": [
    {
     "data": {
      "text/html": [
       "<div>\n",
       "<style scoped>\n",
       "    .dataframe tbody tr th:only-of-type {\n",
       "        vertical-align: middle;\n",
       "    }\n",
       "\n",
       "    .dataframe tbody tr th {\n",
       "        vertical-align: top;\n",
       "    }\n",
       "\n",
       "    .dataframe thead th {\n",
       "        text-align: right;\n",
       "    }\n",
       "</style>\n",
       "<table border=\"1\" class=\"dataframe\">\n",
       "  <thead>\n",
       "    <tr style=\"text-align: right;\">\n",
       "      <th></th>\n",
       "      <th></th>\n",
       "      <th>Medal</th>\n",
       "    </tr>\n",
       "    <tr>\n",
       "      <th>NOC</th>\n",
       "      <th>Year</th>\n",
       "      <th></th>\n",
       "    </tr>\n",
       "  </thead>\n",
       "  <tbody>\n",
       "    <tr>\n",
       "      <th rowspan=\"5\" valign=\"top\">AFG</th>\n",
       "      <th>1936</th>\n",
       "      <td>0</td>\n",
       "    </tr>\n",
       "    <tr>\n",
       "      <th>1948</th>\n",
       "      <td>0</td>\n",
       "    </tr>\n",
       "    <tr>\n",
       "      <th>1956</th>\n",
       "      <td>0</td>\n",
       "    </tr>\n",
       "    <tr>\n",
       "      <th>1960</th>\n",
       "      <td>0</td>\n",
       "    </tr>\n",
       "    <tr>\n",
       "      <th>1964</th>\n",
       "      <td>0</td>\n",
       "    </tr>\n",
       "    <tr>\n",
       "      <th>...</th>\n",
       "      <th>...</th>\n",
       "      <td>...</td>\n",
       "    </tr>\n",
       "    <tr>\n",
       "      <th rowspan=\"5\" valign=\"top\">ZIM</th>\n",
       "      <th>2004</th>\n",
       "      <td>3</td>\n",
       "    </tr>\n",
       "    <tr>\n",
       "      <th>2008</th>\n",
       "      <td>2</td>\n",
       "    </tr>\n",
       "    <tr>\n",
       "      <th>2012</th>\n",
       "      <td>0</td>\n",
       "    </tr>\n",
       "    <tr>\n",
       "      <th>2014</th>\n",
       "      <td>0</td>\n",
       "    </tr>\n",
       "    <tr>\n",
       "      <th>2016</th>\n",
       "      <td>0</td>\n",
       "    </tr>\n",
       "  </tbody>\n",
       "</table>\n",
       "<p>3304 rows × 1 columns</p>\n",
       "</div>"
      ],
      "text/plain": [
       "          Medal\n",
       "NOC Year       \n",
       "AFG 1936      0\n",
       "    1948      0\n",
       "    1956      0\n",
       "    1960      0\n",
       "    1964      0\n",
       "...         ...\n",
       "ZIM 2004      3\n",
       "    2008      2\n",
       "    2012      0\n",
       "    2014      0\n",
       "    2016      0\n",
       "\n",
       "[3304 rows x 1 columns]"
      ]
     },
     "execution_count": 72,
     "metadata": {},
     "output_type": "execute_result"
    }
   ],
   "source": [
    "data = pd.read_csv(\"data/athlete_events.csv\")\n",
    "\n",
    "data = data.groupby([\"NOC\", \"Year\"])[\"Medal\"].nunique()\n",
    "\n",
    "def compute_row(row):\n",
    "    # il n'y a que un Nan\n",
    "    if isinstance(row[\"Medal\"][0], float) and len(row[\"Medal\"]) == 1:\n",
    "        return\n",
    "    return [x for x in row[\"Medal\"] if str(x) != \"nan\"]\n",
    "\n",
    "\n",
    "df = data.to_frame()\n",
    "\n",
    "\n",
    "df"
   ]
  },
  {
   "cell_type": "code",
   "execution_count": 83,
   "metadata": {},
   "outputs": [],
   "source": [
    "res = {}\n",
    "l_country = jo_inst.get_list_country()\n",
    "l_nocs = jo_inst.get_noc_of_list_country(l_country)\n",
    "years = [x for x in range(1896, 2020, 4)]\n",
    "\n",
    "for noc in l_nocs:\n",
    "    res[noc] = {}\n",
    "    for year in years:\n",
    "        medals = jo_inst.get_medals(years=[year, year], noc=noc)\n",
    "        res[noc][year] = medals\n"
   ]
  },
  {
   "cell_type": "code",
   "execution_count": 100,
   "metadata": {},
   "outputs": [],
   "source": [
    "with open(\"config/config.yml\", \"r\", encoding=\"utf-8\") as file:\n",
    "    config = yaml.safe_load(file)\n",
    "\n",
    "\n",
    "def get_continent(noc):\n",
    "    if noc in config[\"ASIE\"]:\n",
    "        return \"ASIE\"\n",
    "    elif noc in config[\"AFRIQUE\"]:\n",
    "        return \"AFRIQUE\"\n",
    "    elif noc in config[\"EUROPE\"]:\n",
    "        return \"EUROPE\"\n",
    "    elif noc in config[\"OCÉANIE\"]:\n",
    "        return \"OCÉANIE\"\n",
    "    elif noc in config[\"AMÉRIQUE\"]:\n",
    "        return \"AMÉRIQUE\"\n",
    "    else:\n",
    "        return \"None\"\n",
    "\n",
    "\n",
    "data = []\n",
    "for id in res:\n",
    "    continent = get_continent(id)\n",
    "    for year in res[id]:\n",
    "        row = {\n",
    "            \"continent\": continent, \"noc\": id,\n",
    "            \"year\": year,\n",
    "            \"or\": res[id][year][\"Or\"],\n",
    "            \"argent\": res[id][year][\"Argent\"],\n",
    "            \"bronze\": res[id][year][\"Bronze\"]\n",
    "        }\n",
    "        data.append(row)\n"
   ]
  },
  {
   "cell_type": "code",
   "execution_count": 107,
   "metadata": {},
   "outputs": [],
   "source": [
    "df = pd.DataFrame(data=data)\n",
    "\n",
    "def process_row(row):\n",
    "    if row[\"or\"] == 0 and row[\"argent\"] == 0 and row[\"bronze\"] == 0:\n",
    "        return 0\n",
    "    return 1\n",
    "\n",
    "df[\"delete\"] = df.apply(process_row, axis=1, result_type=\"expand\")\n",
    "df = df[df[\"delete\"] == 1].reset_index()\n",
    "df.drop(columns=\"delete\", inplace=True)\n",
    "df.drop(columns=\"index\", inplace=True)\n",
    "df.to_csv(\"data/medals.csv\")"
   ]
  },
  {
   "cell_type": "code",
   "execution_count": 9,
   "metadata": {},
   "outputs": [
    {
     "data": {
      "application/vnd.plotly.v1+json": {
       "config": {
        "plotlyServerURL": "https://plot.ly"
       },
       "data": [
        {
         "type": "bar",
         "x": [
          "30. Februar",
          "A North American Team",
          "Acipactli",
          "Acturus",
          "Afghanistan",
          "Akatonbo",
          "Alain IV",
          "Albania",
          "Alcaid",
          "Alcyon-6",
          "Alcyon-7",
          "Aldebaran",
          "Aldebaran II",
          "Aletta",
          "Algeria",
          "Ali-Baba II",
          "Ali-Baba IV",
          "Ali-Baba IX",
          "Ali-Baba VI",
          "Allegro",
          "Almaz",
          "Aloha II",
          "Amateur Athletic Association",
          "American Samoa",
          "Amolgavar",
          "Amstel Amsterdam",
          "Amulet-3",
          "Amulet-7",
          "Ancora",
          "Andorinha",
          "Andorra",
          "Andromeda",
          "Angelita",
          "Angerburg",
          "Angola",
          "Anitra",
          "Antares",
          "Antigua and Barbuda",
          "Antwerpia V",
          "Apache",
          "Aphrodite",
          "Arcturus",
          "Ardilla",
          "Aretusa",
          "Argentina",
          "Argentina-1",
          "Argentina-2",
          "Argeste",
          "Argo II",
          "Argonaut Rowing Club",
          "Argus",
          "Ariel",
          "Ariette-10",
          "Ariette-8",
          "Armenia",
          "Aruba",
          "Aschenbrodel",
          "Astrid III",
          "Atalanta Boat Club-1",
          "Atalanta Boat Club-2",
          "Athens-2",
          "Atlanta",
          "Augsburg",
          "Ausonia",
          "Australasia",
          "Australia",
          "Australia-1",
          "Australia-2",
          "Australia-3",
          "Australia/Great Britain",
          "Austria",
          "Austria-1",
          "Austria-2",
          "Azerbaijan",
          "BLO Polo Club, Rugby",
          "Babe",
          "Baby-1",
          "Baby-9",
          "Baccara",
          "Bagatelle Polo Club, Paris",
          "Bahamas",
          "Bahrain",
          "Bajazzo",
          "Balaton",
          "Ballerina IV",
          "Bamba",
          "Bangladesh",
          "Barbados",
          "Barco Deloro",
          "Barion/Bari-2",
          "Barrenjoey",
          "Beatrijs III-1",
          "Beaver",
          "Belarus",
          "Belarus-1",
          "Belarus-2",
          "Belgium",
          "Belgium-1",
          "Belgium-2",
          "Belgium-3",
          "Belgium-4",
          "Belize",
          "Bella",
          "Bellatrix IX",
          "Bellatrix XIII",
          "Bem II",
          "Benin",
          "Bera",
          "Berliner Ruderclub",
          "Berliner Ruderclub Sport-Borussia-1",
          "Berliner Ruderverein von 1876-2",
          "Bermuda",
          "Bermudes",
          "Bermudian",
          "Bhutan",
          "Bim",
          "Bingo",
          "Bissbi",
          "Blue Red",
          "Bluebottle",
          "Boer Team",
          "Bohemia",
          "Bohemia-1",
          "Bohemia-2",
          "Bohemia-3",
          "Bohemia/Great Britain",
          "Bolivia",
          "Bona Fide",
          "Bonaparte",
          "Bonzo",
          "Boreas",
          "Boreas-2",
          "Bosnia and Herzegovina",
          "Boston Archers",
          "Botswana",
          "Brandenburg",
          "Brat",
          "Brazil",
          "Brazil-1",
          "Brazil-2",
          "Bremen",
          "Brentina",
          "Breslau",
          "Briar",
          "Brigantia",
          "British Virgin Islands",
          "Bronia",
          "Brunei",
          "Brussels Swimming and Water Polo Club",
          "Brynhild-2",
          "Bu III",
          "Bucintoro Venezia",
          "Bucintoro Venezia-1",
          "Bulgaria",
          "Bulgaria-1",
          "Bulgaria-2",
          "Buraddoo",
          "Burevestnik",
          "Burkina Faso",
          "Burundi",
          "Buscape II",
          "Bylina-2",
          "C.V.A.-14",
          "C.V.A.-7",
          "Calcinhas",
          "Calimucho",
          "Calypse II",
          "Cambodia",
          "Cambria",
          "Cambridge University Boat Club-2",
          "Camelia",
          "Cameroon",
          "Camille",
          "Canada",
          "Canada-1",
          "Canada-2",
          "Canada-3",
          "Canopus",
          "Cape Verde",
          "Caprice",
          "Carabinier-15",
          "Carabinier-5",
          "Cayman Islands",
          "Central African Republic",
          "Central Turnverein, Chicago",
          "Century Boat Club-1",
          "Cercle Nautique de Reims-4",
          "Cercle de l'Aviron Roubaix-4",
          "Ceres II",
          "Cha-Cha III",
          "Chad",
          "Chaje II",
          "Chamukina",
          "Chance",
          "Chicago Archers",
          "Chicago Athletic Association",
          "Chicago Athletic Association-2",
          "Chile",
          "China",
          "China-1",
          "China-2",
          "China-3",
          "Chinese Taipei",
          "Chinese Taipei-1",
          "Chinese Taipei-2",
          "Chok",
          "Christian Brothers' College-1",
          "Chuckles",
          "Cicely-1",
          "Cinara-13",
          "Cincinnati Archers",
          "Ciocca",
          "Ciocca II",
          "Ciocca III",
          "Circus",
          "Ciss",
          "Clearwater",
          "Clementine V",
          "Club Nautique de Dieppe-5",
          "Club Nautique de Franais-1",
          "Club Nautique de Lyon-2",
          "Cobweb-1",
          "Colette-10",
          "Colette-12",
          "Colombia",
          "Comanche",
          "Combine",
          "Comoros",
          "Compigne Polo Club",
          "Complex II",
          "Concordia Turnverein, St Louis",
          "Congo (Brazzaville)",
          "Congo (Kinshasa)",
          "Cook Islands",
          "Cornwall",
          "Costa Rica",
          "Cote d'Ivoire",
          "Covunco III",
          "Crabe I-11",
          "Crabe I-2",
          "Crabe I-3",
          "Crabe II-1",
          "Crabe II-12",
          "Crabe II-4",
          "Crete",
          "Croatia",
          "Crocodile-11",
          "Crocodile-13",
          "Cuba",
          "Cuba-1",
          "Cuba-2",
          "Cupidon III",
          "Cupidon Viking",
          "Cuxhaven",
          "Cyprus",
          "Czech Republic",
          "Czech Republic-1",
          "Czech Republic-2",
          "Czechoslovakia",
          "Czechoslovakia-1",
          "Czechoslovakia-2",
          "Czechoslovakia-3",
          "Daisy",
          "Damoiselle",
          "Damoiselle IV",
          "Danaldo",
          "Dansk Idrts Forbund",
          "Danuta",
          "Danzig",
          "Davenport Turngemeinde, Davenport",
          "DeRuyter",
          "Demi-Mondaine-15",
          "Demi-Mondaine-17",
          "Denmark",
          "Denmark-1",
          "Denmark-2",
          "Denmark-3",
          "Denmark-4",
          "Denmark/Sweden",
          "Deutscher Schwimm Verband Berlin",
          "Devon and Somerset Wanderers",
          "Diablo",
          "Diabolo St Maurice",
          "Dick-8",
          "Digby",
          "Dinah V",
          "Djibouti",
          "Djinn",
          "Dolfijn",
          "Dominica",
          "Dominican Republic",
          "Don Schufro",
          "Donar III",
          "Dormy-1",
          "Dow Jones",
          "Dresden",
          "Druzhba",
          "Ducky-16",
          "Ducky-4",
          "Dylan-2",
          "EA II",
          "East Germany",
          "East Germany-1",
          "East Germany-2",
          "East Germany-3",
          "Ecuador",
          "Edelweiss II-1",
          "Egypt",
          "Eissero VI",
          "El Salvador",
          "Eleda",
          "Elisabeth V",
          "Elisabeth X",
          "Elsie",
          "Elvis Va",
          "Emily",
          "Encore",
          "England",
          "England-1",
          "Enotria",
          "Equatorial Guinea",
          "Eritrea",
          "Erna Signe",
          "Escapade",
          "Espadarte",
          "Espardate",
          "Esperia",
          "Espuma del Mar",
          "Essen",
          "Esterel-1",
          "Estonia",
          "Ethiopia",
          "Ethnikos Gymnastikos Syllogos",
          "Evita VI",
          "Fada",
          "Falcon IV",
          "Falcon VI",
          "Faneca",
          "Fantasio III",
          "Fantlet-2",
          "Fantlet-7",
          "Favorite Hammonia-3",
          "Favorite-1",
          "Favorite-17",
          "Federated States of Micronesia",
          "Femur-1",
          "Femur-18",
          "Feo",
          "Fiji",
          "Finland",
          "Finland-1",
          "Finland-2",
          "Finn II",
          "Firebird II",
          "Floresco",
          "Formosa",
          "Fornebo",
          "Fortuna",
          "Foxhunters Hurlingham",
          "Fram",
          "Fram III",
          "France",
          "France-1",
          "France-2",
          "France-3",
          "France-4",
          "France/Great Britain",
          "Frankfurt Club",
          "Freddy",
          "Freia-19",
          "Freia-5",
          "Freja",
          "Frieda",
          "Frimousse",
          "Frip IV",
          "Fruits",
          "Gabbiano",
          "Gabon",
          "Galatea II",
          "Galejan",
          "Galerna",
          "Gallant",
          "Gallia II",
          "Galopin De La Font",
          "Galopin-20",
          "Galopin-9",
          "Galt Football Club",
          "Gam II",
          "Gambia",
          "Gem",
          "Gem II",
          "Gem III",
          "Gem IV",
          "Gem VII",
          "Georgia",
          "Germania II",
          "Germania Ruder Club, Hamburg",
          "Germania Ruder Club, Hamburg-2",
          "Germany",
          "Germany-1",
          "Germany-2",
          "Germany-3",
          "Germany/United States",
          "Ghana",
          "Gilliatt V",
          "Girl Pat",
          "Giselle-6",
          "Gitana-2",
          "Gitana-21",
          "Glider",
          "Glisten",
          "Gran Gesto",
          "Great Britain",
          "Great Britain-1",
          "Great Britain-2",
          "Great Britain-3",
          "Great Britain-4",
          "Great Britain/Germany",
          "Greece",
          "Greece-1",
          "Greece-2",
          "Greece-3",
          "Greece-4",
          "Greenoaks Dundee",
          "Grenada",
          "Grifo III",
          "Grifo IV",
          "Grifone",
          "Gteborgs Roddfrening-2",
          "Gteborgs Roddklubb-1",
          "Guam",
          "Guanahani",
          "Guatemala",
          "Guinea",
          "Guinea Bissau",
          "Gullvinge",
          "Gustel V",
          "Gustel X",
          "Gustl XI",
          "Guyana",
          "Guyoni",
          "Gwendoline-2",
          "Gwendoline-22",
          "GyoshuII",
          "Gyp-23",
          "Gyp-6",
          "Gyrinus-1",
          "Haiti",
          "Hakahana",
          "Hamburg",
          "Hannover",
          "Harmony",
          "Hatuey",
          "Hayama",
          "Hb-20",
          "Hb-24",
          "Heatherbell",
          "Heidelberg",
          "Heira II",
          "Helsingfors R. K.",
          "Hera-1",
          "Heroine",
          "Hi-Hi",
          "Hilarius",
          "Hirondelle",
          "Hojwa",
          "Holland",
          "Hollandia",
          "Honduras",
          "Hong Kong",
          "Hong Kong-1",
          "Hong Kong-2",
          "Hornet",
          "Humbug V",
          "Hungaria",
          "Hungaria Evezos Egylet",
          "Hungary",
          "Hungary-1",
          "Hungary-2",
          "Hungary-3",
          "Hurlingham-2",
          "Iceland",
          "Ilderim",
          "Impala",
          "Inca",
          "Independent Rowing Club-3",
          "India",
          "India-1",
          "India-2",
          "Individual Olympic Athletes",
          "Indonesia",
          "Indonesia-1",
          "Indonesia-2",
          "Inga-Lill XXXXIII",
          "Ingegerd",
          "Iran",
          "Iraq",
          "Ireland",
          "Ireland-1",
          "Ireland-2",
          "Ireland-3",
          "Irene",
          "Israel",
          "Israel-1",
          "Israel-2",
          "Italia",
          "Italy",
          "Italy-1",
          "Italy-2",
          "Italy-3",
          "Jamaica",
          "Jamaica-1",
          "Jamaica-2",
          "Japan",
          "Japan-1",
          "Japan-2",
          "Japan-3",
          "Jeanette-25",
          "Jeannette-18",
          "Jest",
          "Jet",
          "Jill",
          "Jo",
          "Johan",
          "John B",
          "Jordan",
          "Joy",
          "June Climene",
          "Jupiter",
          "K Division Metropolitan Police Team-3",
          "K.S.S.S. 1912-2",
          "KNS",
          "Kalayaan",
          "Kannibaltje",
          "Kathleen",
          "Kazakhstan",
          "Kemphaan",
          "Kenya",
          "Kerstin-1",
          "Kiel",
          "Kingfisher",
          "Kiribati",
          "Kitty-1",
          "Kln",
          "Knigsberg",
          "Kon-Tiki",
          "Konstanz",
          "Korshun",
          "Kosovo",
          "Kristiania Roklub",
          "Kristiania Roklub-1",
          "Kuling",
          "Kullan",
          "Kurush II",
          "Kurush IV",
          "Kuwait",
          "Kyrgyzstan",
          "L'Aile VI",
          "La Salle Turnverein, Chicago",
          "LaBandera",
          "Lady C",
          "Lalage",
          "Lancet",
          "Laos",
          "Large boat, Central Naval Prep School \"Poros\"-1",
          "Lasha",
          "Latvia",
          "Latvia-1",
          "Latvia-2",
          "Laurea-1",
          "Lbeck",
          "Leander Club #1-1",
          "Leander Club #2-2",
          "Leander Club-1",
          "Leander Club-2",
          "Lebanon",
          "Legionario",
          "Leipzig",
          "Lemzos Thorichton \"Psara\"-3",
          "Lemzos Thorichton \"Spetsai\"-4",
          "Lerina",
          "Lesotho",
          "Lett",
          "Libellule de Paris",
          "Libellule de Paris-3",
          "Liberia",
          "Libya",
          "Liechtenstein",
          "Life boat naval ship \"Spetsai\"-1",
          "Linglom",
          "Lithuania",
          "Liverpool Police Team-2",
          "Llanoria",
          "London City Police-1",
          "Lotta IV",
          "Lucky",
          "Lucky Girl-1",
          "Lucky Star",
          "Ludwigshafener Ruder Verein-1",
          "Ludwigshafener Ruderverein",
          "Lully II",
          "Luxembourg",
          "Luxembourg-1",
          "Luxembourg-2",
          "Lyn-2",
          "Lynn",
          "Ma'Lindo",
          "Mac Miche",
          "Macedonia",
          "Macky VI",
          "Mad Dog",
          "Madagascar",
          "Magda IX",
          "Magdalen College Boat Club-1",
          "Maid of Lebanon",
          "Mainz",
          "Malawi",
          "Malaya",
          "Malaysia",
          "Malaysia-1",
          "Malaysia-2",
          "Maldives",
          "Mali",
          "Malta",
          "Mamie-4",
          "Mamie-6",
          "Manana",
          "Marga-2",
          "Margaret",
          "Mari",
          "Marie-Tim",
          "Marinai della nave da guerra \"Varese\"",
          "Marmara",
          "Marmi II-1",
          "Marshall Islands",
          "Marsouin-26",
          "Marsouin-8",
          "Martha-1",
          "Martha-27",
          "Maryke",
          "Mascaret-28",
          "Mascaret-4",
          "Mascotte",
          "Matrero II",
          "Mauritania",
          "Mauritius",
          "Mauritius-1",
          "Mauritius-2",
          "May Be",
          "May Be VII",
          "May-Be 1960",
          "Mebi",
          "Merope",
          "Merope III",
          "Meteor",
          "Mexico",
          "Mexico-1",
          "Mexico-2",
          "Mignon-29",
          "Mignon-3",
          "Milwaukee Athletic Club-1",
          "Milwaukee Turnverein, Milwaukee",
          "Minerva Amsterdam",
          "Minotaur",
          "Mirtala",
          "Miss Denmark 1964",
          "Miss Nippon IV",
          "Miss Nippon V",
          "Missouri Athletic Club-3",
          "Mistral Hojris",
          "MitaII",
          "Mizar",
          "Mohawk Indians-2",
          "Moldova",
          "Monaco",
          "Monaco-1",
          "Monaco-2",
          "Mongolia",
          "Monica",
          "Montenegro",
          "Moorina",
          "Morena",
          "Morocco",
          "Moseley Wanderers",
          "Mosk II",
          "Mouchette-2",
          "Mound City Rowing Club-2",
          "Mozambique",
          "Mutafo",
          "Myanmar",
          "Myojo",
          "Mystery",
          "Mythilus",
          "Nadine",
          "Naiad",
          "Namibia",
          "Namoussa",
          "Nan-2",
          "Nauru",
          "Nausikaa 4",
          "Nautikos Omilos-3",
          "Nepal",
          "Nephos I",
          "Neptun II",
          "Netherlands",
          "Netherlands Antilles",
          "Netherlands-1",
          "Netherlands-2",
          "New College, Oxford-2",
          "New York Athletic Club",
          "New York Athletic Club #1-1",
          "New York Athletic Club #2-4",
          "New York Athletic Club-1",
          "New York Athletic Club-4",
          "New York Turnverein, New York",
          "New Zealand",
          "New Zealand-1",
          "New Zealand-2",
          "Newfoundland",
          "Nicaragua",
          "Niger",
          "Nigeria",
          "Nigeria-1",
          "Nigeria-2",
          "Nikh",
          "Nina",
          "Nina Claire-2",
          "Nina Claire-30",
          "Nirefs",
          "Nirwana",
          "Nokaut II",
          "Nora",
          "Noreg",
          "Norman-1",
          "Norna",
          "Nortazo",
          "North Borneo",
          "North Korea",
          "North Korea-1",
          "North Korea-2",
          "North Yemen",
          "Norway",
          "Norway-1",
          "Norway-2",
          "Norway-3",
          "Norwegian Rowing Association",
          "Norwegier Turnverein, Brooklyn",
          "Notavel",
          "Nrnberg",
          "Nurdug II",
          "Nykjbings paa Falster",
          "Oleander II",
          "Oleander XII",
          "Olen",
          "Olimpia",
          "Olle",
          "Olympion",
          "Oman",
          "Omas Helliniki P. S.",
          "Omilos Ereton Peiraios-2",
          "Omilos Ereton Smyrnis",
          "Oranje",
          "Orion",
          "Ormsund Roklub-2",
          "Osborne Swimming Club, Manchester",
          "Oxalis",
          "Paka",
          "Paka V",
          "Pakaria",
          "Pakistan",
          "Palau",
          "Palestine",
          "Pam",
          "Pampero",
          "Pan",
          "Pan II",
          "Pan-Hellenic Athletic Club",
          "Panama",
          "Pandora",
          "Panhellenios Gymnastikos Syllogos-1",
          "Pannonia RC/National RC",
          "Papua New Guinea",
          "Paraguay",
          "Partenope",
          "Pasodoble",
          "Passaic Turnverein, Passaic",
          "Patricia",
          "Paula",
          "Pegaso",
          "Peiraikos Syndesmos-2",
          "Peri",
          "Peri II",
          "Persey",
          "Peru",
          "Pettit-Poucet-6",
          "Phalainis ton Thorichtou \"Hydra\"-2",
          "Phalainis ton Thorichtou \"Psara\"-3",
          "Philadelphia Turngemeinde, Philadelphia",
          "Philippines",
          "Phoenix",
          "Pierre et Jean-3",
          "Pierre et Jean-4",
          "Pigoule",
          "Pimm",
          "Pirouette-31",
          "Pirouette-5",
          "Pistoja/Firenze",
          "Plume-Patte-5",
          "Plume-patte-32",
          "Poland",
          "Poland-1",
          "Poland-2",
          "Poland-3",
          "Polyteknisk Roklub-1",
          "Pop Art",
          "Portugal",
          "Portugal-1",
          "Portugal-2",
          "Posillipo III",
          "Potomac Archers",
          "Potsdam",
          "Pousse-Moi Pas VII",
          "Primorka",
          "Proteus II",
          "Puerto Rico",
          "Puerto Rico-1",
          "Puerto Rico-2",
          "Pupilles de Neptune de Lille #1-3",
          "Pupilles de Neptune de Lille #2-1",
          "Pupilles de Neptune de Lille-1",
          "Qatar",
          "Qu'Importe",
          "Quand-Mme-2",
          "Quand-Mme-33",
          "Quando Quando",
          "Quicksilver-2",
          "R.-V. Germania, Leitmeritz",
          "Racing Club de France",
          "Raili",
          "Ral-Club Barcelona",
          "Ralia",
          "Rambo",
          "Rampage",
          "Ravel",
          "Ravenswood Boat Club-2",
          "Red Dragon",
          "Red Indian",
          "Refugee Olympic Athletes",
          "Relampago",
          "Rhodesia",
          "Rhythm",
          "Riccar",
          "Rififi",
          "Rika II",
          "Roddklubben af 1912-1",
          "Roddklubben af 1912-2",
          "Roehampton-1",
          "Roklubb Kbnhavn-2",
          "Roma",
          "Romania",
          "Romania-1",
          "Romania-2",
          "Romolo",
          "Rose Pompon",
          "Rostock",
          "Rowing Club Castillon-3",
          "Roy",
          "Royal Club Nautique de Gand",
          "Rozenn-3",
          "Rush IV",
          "Rush V",
          "Rush VII",
          "Russia",
          "Russia-1",
          "Russia-2",
          "Russia-3",
          "Rwanda",
          "Saar",
          "Sabre",
          "Saga-2",
          "SagaII",
          "Saint Kitts and Nevis",
          "Saint Lucia",
          "Saint Vincent and the Grenadines",
          "Salamander",
          "Salinero",
          "Samoa",
          "San Marino",
          "Sandra",
          "Sans Atout-1",
          "Santa Maria",
          "Sao Tome and Principe",
          "Sarcelle-3",
          "Sarcelle-35",
          "Saskia",
          "Sass-2",
          "Satchmo",
          "Saudi Arabia",
          "Scamasaxe-2",
          "Scamasaxe-3",
          "Scamasaxe-34",
          "Scaup",
          "Scotia",
          "Scotland",
          "Scotland-2",
          "Scotland-3",
          "Scram",
          "Sea Dog-2",
          "Seawanhaka Boat Club-1",
          "Senegal",
          "Serbia",
          "Serbia and Montenegro",
          "Serbia-1",
          "Serbia-2",
          "Serendipity",
          "Seychelles",
          "Sheerio",
          "Shoveller",
          "Shrew II",
          "Siames-Cat",
          "Sibindi-2",
          "Sidi Fekkar-36",
          "Sidi-Fekkar-14",
          "Sierra Leone",
          "Sif",
          "Sildra-1",
          "Silja",
          "Singapore",
          "Singapore-1",
          "Singapore-2",
          "Singy-37",
          "Singy-7",
          "Sirene",
          "Sjhxa",
          "Sjovinge",
          "Skidoo",
          "Skum",
          "Slaghoken",
          "Slaghoken II",
          "Slovakia",
          "Slovakia-1",
          "Slovakia-2",
          "Slovenia",
          "Slovenia-1",
          "Slovenia-2",
          "Smyrna",
          "Snap",
          "Snowten III",
          "Snude",
          "Socialer Turnverein, Detroit",
          "Societ Nautique de la Marne",
          "Societ Nautique de la Marne-1",
          "Societ Nautique de la Marne-3",
          "Socit Nautique de Bayonne",
          "Socit Nautique de Bayonne-1",
          "Socit Nautique de Bayonne-2",
          "Socit Nautique de la Basse Seine-1",
          "Socit Nautique de la Basse Seine-2",
          "Solomon Islands",
          "Solos Carex",
          "Somalia",
          "Sonja II",
          "Sorais-2",
          "Souriceau-38",
          "Souriceau-4",
          "South Africa",
          "South Africa-1",
          "South Africa-2",
          "South Korea",
          "South Korea-1",
          "South Korea-2",
          "South St Louis Turnverein, St Louis",
          "South Sudan",
          "South Vietnam",
          "South Yemen",
          "Souvenance",
          "Soviet Union",
          "Soviet Union-1",
          "Soviet Union-2",
          "Soviet Union-3",
          "Spain",
          "Spain-1",
          "Spain-2",
          "Spirit III",
          "Spirit VI",
          "Springbok",
          "Squid III",
          "Sri Lanka",
          "St. Louis Amateur Athletic Association",
          "St. Louis Southwest Turnverein #1-2",
          "St. Louis Southwest Turnverein #2-3",
          "St. Margrite",
          "St. Rose-2",
          "Stade Franais AC-2",
          "Starita",
          "Starlight III",
          "State VI",
          "Stella-2",
          "Struten",
          "Studenternes Roklub-2",
          "Subbnboana",
          "Sudan",
          "Sunrise",
          "Sunshine",
          "Suriname",
          "Surprise",
          "Suzon IV-39",
          "Suzon IV-5",
          "Suzy-2",
          "Swaziland",
          "Sweden",
          "Sweden-1",
          "Sweden-2",
          "Sweden-3",
          "Sweden-4",
          "Swedish Star",
          "Swift",
          "Switzerland",
          "Switzerland-1",
          "Switzerland-2",
          "Sydney Rowing Club",
          "Sylvia",
          "Symphony",
          "Syndi",
          "Syria",
          "Taifun",
          "Tajamar",
          "Tajikistan",
          "Tan-Fe-Pah",
          "Tango",
          "Tantalus",
          "Tanzania",
          "Tengiri",
          "Teresita",
          "Terrible",
          "Thailand",
          "Thailand-1",
          "Thailand-2",
          "Thalatta",
          "Thames Rowing Club",
          "The Cloud",
          "Thessalonki-1",
          "Three Leaves",
          "Three Star Too",
          "Tichiboo",
          "Tilly",
          "Tim-Tam III",
          "Timor Leste",
          "Tineke",
          "Tip",
          "Titia",
          "Tlaloc",
          "Togo",
          "Tom Kyle",
          "Tomahawk II",
          "Tonga",
          "Tornade-16",
          "Tornado",
          "Toronto Argonauts",
          "Tournade-40",
          "Tramontane",
          "Trans-Mississippi Golf Association-2",
          "Trickson VI",
          "Trinidad and Tobago",
          "Trintel II",
          "Tritons Lillois-2",
          "Tu-Fri",
          "Tulilind",
          "Tunisia",
          "Turkey",
          "Turkmenistan",
          "Turnverein Vorwrts, Chicago",
          "Turnverein Vorwrts, Cleveland",
          "Turquoise-1",
          "Turquoise-3",
          "Tutti V",
          "Tuvalu",
          "Twinkle",
          "Twins II",
          "Twins VIII",
          "USFSA",
          "Ubu",
          "Uganda",
          "Ukraine",
          "Ukraine-1",
          "Ukraine-2",
          "Umberta V",
          "Unified Team",
          "Unified Team-1",
          "Unified Team-2",
          "Unified Team-3",
          "Union des Socits Franais de Sports Athletiques",
          "Unique",
          "United Arab Emirates",
          "United Arab Republic",
          "United States",
          "United States Golf Association-3",
          "United States Virgin Islands",
          "United States Virgin Islands-1",
          "United States Virgin Islands-2",
          "United States-1",
          "United States-10",
          "United States-11",
          "United States-12",
          "United States-13",
          "United States-14",
          "United States-2",
          "United States-3",
          "United States-4",
          "United States-5",
          "United States-6",
          "United States-7",
          "United States-8",
          "United States-9",
          "United States/France",
          "United States/Great Britain",
          "Univ. of Brussels",
          "Unknown",
          "Upton Park FC",
          "Uragan",
          "Uruguay",
          "Uzbekistan",
          "Uzbekistan-1",
          "Uzbekistan-2",
          "Vanuatu",
          "Vaxholm Roddklubb",
          "Venezuela",
          "Venilia",
          "Vento Sul",
          "Verveine-19",
          "Verveine-41",
          "Vesania",
          "Vesper Boat Club",
          "Vicking",
          "Vietnam",
          "Viking",
          "Viktoriya",
          "Vim III",
          "Vinga-1",
          "Vinha",
          "Virginie",
          "Vision",
          "Voloira II",
          "Wales-4",
          "Wannsee",
          "Web II",
          "Web III",
          "Wendehals",
          "West Germany",
          "West Germany-1",
          "West Germany-2",
          "West Germany-3",
          "West Indies Federation",
          "Western Golf Association-1",
          "Western Rowing Club-3",
          "Whirlaway",
          "Whisper",
          "White Lady",
          "Whitini Star",
          "Widgeon",
          "Wiking",
          "Willem-Six",
          "Windor",
          "Winnipeg Shamrocks-1",
          "Wolseley-Siddeley-1",
          "Xantippa",
          "Xolotl",
          "Yangon",
          "Yemen",
          "Yeoman",
          "Yeoman V",
          "Yeoman VII",
          "Yeoman XII",
          "Ylliam II",
          "Ylliam VII",
          "Ylliam VIII",
          "Yugoslavia",
          "Yugoslavia-1",
          "Yugoslavia-2",
          "Zambia",
          "Zefyros",
          "Zimbabwe",
          "Zut",
          "rn-2"
         ],
         "y": [
          0,
          4,
          0,
          0,
          2,
          0,
          0,
          0,
          0,
          0,
          0,
          0,
          0,
          0,
          17,
          5,
          0,
          0,
          0,
          0,
          0,
          0,
          5,
          0,
          0,
          4,
          0,
          0,
          4,
          0,
          0,
          0,
          12,
          0,
          0,
          0,
          0,
          0,
          5,
          0,
          3,
          0,
          0,
          0,
          266,
          0,
          0,
          0,
          0,
          6,
          0,
          0,
          0,
          0,
          16,
          0,
          8,
          0,
          2,
          2,
          0,
          9,
          0,
          0,
          29,
          1306,
          4,
          0,
          0,
          2,
          413,
          32,
          4,
          44,
          4,
          0,
          2,
          0,
          0,
          4,
          36,
          3,
          0,
          0,
          3,
          0,
          0,
          1,
          0,
          3,
          3,
          3,
          0,
          139,
          0,
          0,
          409,
          6,
          0,
          0,
          0,
          0,
          0,
          0,
          0,
          2,
          0,
          5,
          2,
          0,
          9,
          1,
          0,
          0,
          0,
          0,
          3,
          4,
          0,
          3,
          0,
          11,
          0,
          0,
          0,
          2,
          0,
          3,
          1,
          3,
          0,
          2,
          0,
          4,
          1,
          0,
          0,
          449,
          20,
          6,
          0,
          0,
          0,
          0,
          0,
          0,
          0,
          0,
          10,
          1,
          0,
          8,
          3,
          342,
          0,
          0,
          3,
          0,
          0,
          2,
          0,
          0,
          0,
          0,
          0,
          0,
          0,
          0,
          0,
          9,
          0,
          22,
          1,
          1243,
          36,
          2,
          0,
          0,
          0,
          4,
          1,
          0,
          0,
          0,
          6,
          4,
          0,
          5,
          0,
          0,
          0,
          0,
          0,
          0,
          0,
          5,
          11,
          32,
          901,
          52,
          34,
          2,
          49,
          0,
          0,
          0,
          11,
          2,
          1,
          0,
          8,
          0,
          0,
          0,
          0,
          0,
          1,
          0,
          0,
          0,
          4,
          5,
          0,
          0,
          27,
          2,
          0,
          0,
          0,
          4,
          0,
          0,
          0,
          0,
          15,
          4,
          3,
          0,
          0,
          0,
          0,
          5,
          0,
          5,
          0,
          149,
          0,
          0,
          407,
          0,
          0,
          0,
          0,
          0,
          1,
          134,
          10,
          0,
          486,
          2,
          0,
          0,
          0,
          0,
          0,
          0,
          0,
          0,
          0,
          0,
          0,
          0,
          0,
          553,
          2,
          2,
          0,
          0,
          6,
          4,
          12,
          0,
          0,
          0,
          1,
          0,
          1,
          5,
          0,
          0,
          7,
          1,
          0,
          3,
          0,
          0,
          0,
          0,
          0,
          0,
          0,
          941,
          42,
          22,
          0,
          2,
          3,
          27,
          0,
          0,
          7,
          3,
          5,
          4,
          1,
          5,
          3,
          1,
          23,
          0,
          0,
          1,
          10,
          0,
          2,
          0,
          0,
          0,
          0,
          2,
          45,
          53,
          2,
          0,
          0,
          2,
          0,
          0,
          0,
          0,
          1,
          6,
          8,
          0,
          0,
          1,
          0,
          0,
          13,
          876,
          0,
          0,
          0,
          0,
          0,
          1,
          4,
          0,
          5,
          0,
          0,
          1550,
          22,
          4,
          4,
          0,
          2,
          15,
          0,
          0,
          0,
          0,
          0,
          1,
          0,
          0,
          0,
          1,
          0,
          0,
          0,
          5,
          7,
          0,
          0,
          0,
          13,
          0,
          0,
          2,
          0,
          0,
          2,
          0,
          32,
          6,
          0,
          5,
          1984,
          70,
          29,
          0,
          0,
          23,
          0,
          0,
          0,
          10,
          0,
          2,
          0,
          0,
          1673,
          34,
          28,
          6,
          0,
          2,
          174,
          6,
          2,
          0,
          0,
          0,
          2,
          0,
          0,
          0,
          0,
          0,
          0,
          0,
          1,
          0,
          0,
          0,
          0,
          3,
          0,
          1,
          3,
          3,
          0,
          0,
          0,
          0,
          6,
          6,
          0,
          0,
          0,
          0,
          0,
          0,
          0,
          0,
          7,
          0,
          9,
          0,
          10,
          4,
          4,
          2,
          0,
          3,
          0,
          6,
          0,
          2,
          0,
          2,
          0,
          2,
          0,
          0,
          1127,
          8,
          0,
          0,
          4,
          17,
          0,
          0,
          0,
          2,
          197,
          0,
          0,
          5,
          27,
          14,
          0,
          0,
          0,
          68,
          1,
          35,
          0,
          12,
          4,
          5,
          9,
          0,
          0,
          6,
          1527,
          36,
          14,
          0,
          157,
          0,
          0,
          911,
          2,
          0,
          0,
          0,
          0,
          2,
          0,
          0,
          3,
          0,
          0,
          1,
          2,
          0,
          2,
          8,
          0,
          0,
          0,
          0,
          2,
          77,
          0,
          106,
          3,
          0,
          0,
          0,
          8,
          0,
          0,
          0,
          0,
          0,
          1,
          0,
          5,
          0,
          3,
          2,
          0,
          2,
          3,
          6,
          0,
          0,
          2,
          5,
          0,
          0,
          17,
          0,
          25,
          10,
          0,
          1,
          0,
          2,
          2,
          18,
          4,
          4,
          0,
          0,
          0,
          0,
          6,
          0,
          0,
          7,
          0,
          0,
          0,
          9,
          7,
          0,
          61,
          8,
          11,
          8,
          0,
          0,
          5,
          0,
          5,
          5,
          5,
          8,
          0,
          0,
          5,
          0,
          2,
          3,
          1,
          3,
          0,
          0,
          10,
          4,
          0,
          0,
          0,
          0,
          12,
          2,
          2,
          0,
          0,
          0,
          0,
          0,
          0,
          0,
          2,
          0,
          0,
          24,
          0,
          3,
          0,
          0,
          0,
          8,
          0,
          0,
          0,
          0,
          3,
          0,
          0,
          1,
          0,
          0,
          5,
          0,
          0,
          0,
          2,
          2,
          0,
          107,
          0,
          0,
          0,
          1,
          5,
          0,
          17,
          3,
          0,
          0,
          0,
          0,
          11,
          0,
          0,
          0,
          12,
          8,
          1,
          0,
          0,
          26,
          0,
          14,
          0,
          0,
          23,
          15,
          7,
          10,
          4,
          2,
          3,
          0,
          0,
          0,
          0,
          1,
          0,
          4,
          5,
          0,
          0,
          0,
          0,
          1,
          0,
          0,
          988,
          1,
          2,
          0,
          9,
          5,
          4,
          0,
          7,
          0,
          6,
          223,
          0,
          0,
          0,
          0,
          2,
          99,
          0,
          0,
          0,
          7,
          4,
          0,
          3,
          0,
          0,
          0,
          0,
          0,
          4,
          0,
          0,
          65,
          2,
          0,
          0,
          910,
          0,
          0,
          0,
          0,
          0,
          0,
          1,
          3,
          5,
          0,
          0,
          0,
          0,
          6,
          0,
          0,
          8,
          0,
          0,
          3,
          0,
          5,
          7,
          0,
          0,
          0,
          0,
          121,
          0,
          0,
          0,
          0,
          6,
          0,
          0,
          3,
          2,
          0,
          0,
          0,
          17,
          0,
          0,
          0,
          0,
          0,
          0,
          0,
          0,
          0,
          0,
          15,
          0,
          24,
          0,
          6,
          10,
          0,
          0,
          0,
          0,
          0,
          0,
          0,
          9,
          0,
          0,
          563,
          2,
          0,
          0,
          5,
          0,
          35,
          0,
          0,
          0,
          4,
          1,
          0,
          0,
          0,
          9,
          0,
          0,
          0,
          8,
          4,
          5,
          0,
          9,
          0,
          0,
          0,
          0,
          11,
          0,
          0,
          5,
          0,
          0,
          0,
          2,
          0,
          0,
          0,
          0,
          0,
          0,
          0,
          0,
          0,
          5,
          0,
          4,
          0,
          0,
          651,
          2,
          0,
          0,
          3,
          1,
          3,
          0,
          21,
          0,
          0,
          3,
          3,
          1110,
          36,
          12,
          0,
          0,
          0,
          0,
          0,
          0,
          0,
          0,
          0,
          0,
          1,
          0,
          0,
          0,
          5,
          6,
          0,
          3,
          0,
          0,
          0,
          1,
          6,
          2,
          2,
          0,
          0,
          6,
          0,
          0,
          11,
          0,
          0,
          2,
          1,
          85,
          64,
          0,
          0,
          0,
          0,
          0,
          0,
          2,
          0,
          0,
          0,
          0,
          0,
          4,
          4,
          6,
          9,
          0,
          0,
          0,
          0,
          2,
          0,
          0,
          0,
          2,
          3,
          3,
          47,
          0,
          0,
          48,
          0,
          0,
          11,
          3,
          0,
          0,
          0,
          0,
          2,
          0,
          0,
          3,
          5,
          8,
          0,
          0,
          0,
          0,
          0,
          5,
          0,
          0,
          131,
          0,
          0,
          592,
          30,
          16,
          0,
          0,
          0,
          0,
          0,
          2451,
          26,
          24,
          0,
          483,
          2,
          4,
          0,
          0,
          0,
          0,
          2,
          12,
          5,
          5,
          0,
          12,
          0,
          2,
          0,
          0,
          3,
          0,
          0,
          0,
          1,
          1,
          2,
          2,
          0,
          0,
          0,
          0,
          0,
          1434,
          2,
          4,
          2,
          0,
          2,
          2,
          588,
          72,
          22,
          0,
          6,
          2,
          0,
          3,
          5,
          0,
          4,
          3,
          3,
          0,
          2,
          0,
          0,
          0,
          30,
          0,
          0,
          0,
          5,
          0,
          11,
          0,
          0,
          0,
          0,
          0,
          0,
          0,
          3,
          0,
          0,
          1,
          0,
          0,
          1,
          0,
          5,
          18,
          0,
          0,
          10,
          0,
          32,
          0,
          5,
          0,
          0,
          13,
          95,
          0,
          0,
          0,
          1,
          0,
          5,
          0,
          0,
          0,
          0,
          13,
          0,
          7,
          197,
          2,
          0,
          0,
          271,
          4,
          4,
          0,
          29,
          0,
          2,
          2,
          5219,
          10,
          1,
          0,
          0,
          101,
          0,
          0,
          0,
          0,
          0,
          51,
          2,
          2,
          0,
          0,
          0,
          0,
          0,
          2,
          2,
          11,
          0,
          11,
          0,
          63,
          34,
          0,
          0,
          0,
          0,
          15,
          3,
          0,
          0,
          0,
          0,
          18,
          0,
          4,
          0,
          0,
          0,
          5,
          0,
          0,
          4,
          0,
          11,
          2,
          3,
          0,
          0,
          558,
          26,
          2,
          0,
          5,
          10,
          6,
          0,
          0,
          3,
          0,
          2,
          0,
          3,
          0,
          12,
          0,
          0,
          0,
          0,
          0,
          0,
          0,
          0,
          0,
          0,
          0,
          0,
          390,
          0,
          0,
          2,
          0,
          22,
          3,
          0
         ]
        }
       ],
       "layout": {
        "template": {
         "data": {
          "bar": [
           {
            "error_x": {
             "color": "#2a3f5f"
            },
            "error_y": {
             "color": "#2a3f5f"
            },
            "marker": {
             "line": {
              "color": "#E5ECF6",
              "width": 0.5
             },
             "pattern": {
              "fillmode": "overlay",
              "size": 10,
              "solidity": 0.2
             }
            },
            "type": "bar"
           }
          ],
          "barpolar": [
           {
            "marker": {
             "line": {
              "color": "#E5ECF6",
              "width": 0.5
             },
             "pattern": {
              "fillmode": "overlay",
              "size": 10,
              "solidity": 0.2
             }
            },
            "type": "barpolar"
           }
          ],
          "carpet": [
           {
            "aaxis": {
             "endlinecolor": "#2a3f5f",
             "gridcolor": "white",
             "linecolor": "white",
             "minorgridcolor": "white",
             "startlinecolor": "#2a3f5f"
            },
            "baxis": {
             "endlinecolor": "#2a3f5f",
             "gridcolor": "white",
             "linecolor": "white",
             "minorgridcolor": "white",
             "startlinecolor": "#2a3f5f"
            },
            "type": "carpet"
           }
          ],
          "choropleth": [
           {
            "colorbar": {
             "outlinewidth": 0,
             "ticks": ""
            },
            "type": "choropleth"
           }
          ],
          "contour": [
           {
            "colorbar": {
             "outlinewidth": 0,
             "ticks": ""
            },
            "colorscale": [
             [
              0,
              "#0d0887"
             ],
             [
              0.1111111111111111,
              "#46039f"
             ],
             [
              0.2222222222222222,
              "#7201a8"
             ],
             [
              0.3333333333333333,
              "#9c179e"
             ],
             [
              0.4444444444444444,
              "#bd3786"
             ],
             [
              0.5555555555555556,
              "#d8576b"
             ],
             [
              0.6666666666666666,
              "#ed7953"
             ],
             [
              0.7777777777777778,
              "#fb9f3a"
             ],
             [
              0.8888888888888888,
              "#fdca26"
             ],
             [
              1,
              "#f0f921"
             ]
            ],
            "type": "contour"
           }
          ],
          "contourcarpet": [
           {
            "colorbar": {
             "outlinewidth": 0,
             "ticks": ""
            },
            "type": "contourcarpet"
           }
          ],
          "heatmap": [
           {
            "colorbar": {
             "outlinewidth": 0,
             "ticks": ""
            },
            "colorscale": [
             [
              0,
              "#0d0887"
             ],
             [
              0.1111111111111111,
              "#46039f"
             ],
             [
              0.2222222222222222,
              "#7201a8"
             ],
             [
              0.3333333333333333,
              "#9c179e"
             ],
             [
              0.4444444444444444,
              "#bd3786"
             ],
             [
              0.5555555555555556,
              "#d8576b"
             ],
             [
              0.6666666666666666,
              "#ed7953"
             ],
             [
              0.7777777777777778,
              "#fb9f3a"
             ],
             [
              0.8888888888888888,
              "#fdca26"
             ],
             [
              1,
              "#f0f921"
             ]
            ],
            "type": "heatmap"
           }
          ],
          "heatmapgl": [
           {
            "colorbar": {
             "outlinewidth": 0,
             "ticks": ""
            },
            "colorscale": [
             [
              0,
              "#0d0887"
             ],
             [
              0.1111111111111111,
              "#46039f"
             ],
             [
              0.2222222222222222,
              "#7201a8"
             ],
             [
              0.3333333333333333,
              "#9c179e"
             ],
             [
              0.4444444444444444,
              "#bd3786"
             ],
             [
              0.5555555555555556,
              "#d8576b"
             ],
             [
              0.6666666666666666,
              "#ed7953"
             ],
             [
              0.7777777777777778,
              "#fb9f3a"
             ],
             [
              0.8888888888888888,
              "#fdca26"
             ],
             [
              1,
              "#f0f921"
             ]
            ],
            "type": "heatmapgl"
           }
          ],
          "histogram": [
           {
            "marker": {
             "pattern": {
              "fillmode": "overlay",
              "size": 10,
              "solidity": 0.2
             }
            },
            "type": "histogram"
           }
          ],
          "histogram2d": [
           {
            "colorbar": {
             "outlinewidth": 0,
             "ticks": ""
            },
            "colorscale": [
             [
              0,
              "#0d0887"
             ],
             [
              0.1111111111111111,
              "#46039f"
             ],
             [
              0.2222222222222222,
              "#7201a8"
             ],
             [
              0.3333333333333333,
              "#9c179e"
             ],
             [
              0.4444444444444444,
              "#bd3786"
             ],
             [
              0.5555555555555556,
              "#d8576b"
             ],
             [
              0.6666666666666666,
              "#ed7953"
             ],
             [
              0.7777777777777778,
              "#fb9f3a"
             ],
             [
              0.8888888888888888,
              "#fdca26"
             ],
             [
              1,
              "#f0f921"
             ]
            ],
            "type": "histogram2d"
           }
          ],
          "histogram2dcontour": [
           {
            "colorbar": {
             "outlinewidth": 0,
             "ticks": ""
            },
            "colorscale": [
             [
              0,
              "#0d0887"
             ],
             [
              0.1111111111111111,
              "#46039f"
             ],
             [
              0.2222222222222222,
              "#7201a8"
             ],
             [
              0.3333333333333333,
              "#9c179e"
             ],
             [
              0.4444444444444444,
              "#bd3786"
             ],
             [
              0.5555555555555556,
              "#d8576b"
             ],
             [
              0.6666666666666666,
              "#ed7953"
             ],
             [
              0.7777777777777778,
              "#fb9f3a"
             ],
             [
              0.8888888888888888,
              "#fdca26"
             ],
             [
              1,
              "#f0f921"
             ]
            ],
            "type": "histogram2dcontour"
           }
          ],
          "mesh3d": [
           {
            "colorbar": {
             "outlinewidth": 0,
             "ticks": ""
            },
            "type": "mesh3d"
           }
          ],
          "parcoords": [
           {
            "line": {
             "colorbar": {
              "outlinewidth": 0,
              "ticks": ""
             }
            },
            "type": "parcoords"
           }
          ],
          "pie": [
           {
            "automargin": true,
            "type": "pie"
           }
          ],
          "scatter": [
           {
            "fillpattern": {
             "fillmode": "overlay",
             "size": 10,
             "solidity": 0.2
            },
            "type": "scatter"
           }
          ],
          "scatter3d": [
           {
            "line": {
             "colorbar": {
              "outlinewidth": 0,
              "ticks": ""
             }
            },
            "marker": {
             "colorbar": {
              "outlinewidth": 0,
              "ticks": ""
             }
            },
            "type": "scatter3d"
           }
          ],
          "scattercarpet": [
           {
            "marker": {
             "colorbar": {
              "outlinewidth": 0,
              "ticks": ""
             }
            },
            "type": "scattercarpet"
           }
          ],
          "scattergeo": [
           {
            "marker": {
             "colorbar": {
              "outlinewidth": 0,
              "ticks": ""
             }
            },
            "type": "scattergeo"
           }
          ],
          "scattergl": [
           {
            "marker": {
             "colorbar": {
              "outlinewidth": 0,
              "ticks": ""
             }
            },
            "type": "scattergl"
           }
          ],
          "scattermapbox": [
           {
            "marker": {
             "colorbar": {
              "outlinewidth": 0,
              "ticks": ""
             }
            },
            "type": "scattermapbox"
           }
          ],
          "scatterpolar": [
           {
            "marker": {
             "colorbar": {
              "outlinewidth": 0,
              "ticks": ""
             }
            },
            "type": "scatterpolar"
           }
          ],
          "scatterpolargl": [
           {
            "marker": {
             "colorbar": {
              "outlinewidth": 0,
              "ticks": ""
             }
            },
            "type": "scatterpolargl"
           }
          ],
          "scatterternary": [
           {
            "marker": {
             "colorbar": {
              "outlinewidth": 0,
              "ticks": ""
             }
            },
            "type": "scatterternary"
           }
          ],
          "surface": [
           {
            "colorbar": {
             "outlinewidth": 0,
             "ticks": ""
            },
            "colorscale": [
             [
              0,
              "#0d0887"
             ],
             [
              0.1111111111111111,
              "#46039f"
             ],
             [
              0.2222222222222222,
              "#7201a8"
             ],
             [
              0.3333333333333333,
              "#9c179e"
             ],
             [
              0.4444444444444444,
              "#bd3786"
             ],
             [
              0.5555555555555556,
              "#d8576b"
             ],
             [
              0.6666666666666666,
              "#ed7953"
             ],
             [
              0.7777777777777778,
              "#fb9f3a"
             ],
             [
              0.8888888888888888,
              "#fdca26"
             ],
             [
              1,
              "#f0f921"
             ]
            ],
            "type": "surface"
           }
          ],
          "table": [
           {
            "cells": {
             "fill": {
              "color": "#EBF0F8"
             },
             "line": {
              "color": "white"
             }
            },
            "header": {
             "fill": {
              "color": "#C8D4E3"
             },
             "line": {
              "color": "white"
             }
            },
            "type": "table"
           }
          ]
         },
         "layout": {
          "annotationdefaults": {
           "arrowcolor": "#2a3f5f",
           "arrowhead": 0,
           "arrowwidth": 1
          },
          "autotypenumbers": "strict",
          "coloraxis": {
           "colorbar": {
            "outlinewidth": 0,
            "ticks": ""
           }
          },
          "colorscale": {
           "diverging": [
            [
             0,
             "#8e0152"
            ],
            [
             0.1,
             "#c51b7d"
            ],
            [
             0.2,
             "#de77ae"
            ],
            [
             0.3,
             "#f1b6da"
            ],
            [
             0.4,
             "#fde0ef"
            ],
            [
             0.5,
             "#f7f7f7"
            ],
            [
             0.6,
             "#e6f5d0"
            ],
            [
             0.7,
             "#b8e186"
            ],
            [
             0.8,
             "#7fbc41"
            ],
            [
             0.9,
             "#4d9221"
            ],
            [
             1,
             "#276419"
            ]
           ],
           "sequential": [
            [
             0,
             "#0d0887"
            ],
            [
             0.1111111111111111,
             "#46039f"
            ],
            [
             0.2222222222222222,
             "#7201a8"
            ],
            [
             0.3333333333333333,
             "#9c179e"
            ],
            [
             0.4444444444444444,
             "#bd3786"
            ],
            [
             0.5555555555555556,
             "#d8576b"
            ],
            [
             0.6666666666666666,
             "#ed7953"
            ],
            [
             0.7777777777777778,
             "#fb9f3a"
            ],
            [
             0.8888888888888888,
             "#fdca26"
            ],
            [
             1,
             "#f0f921"
            ]
           ],
           "sequentialminus": [
            [
             0,
             "#0d0887"
            ],
            [
             0.1111111111111111,
             "#46039f"
            ],
            [
             0.2222222222222222,
             "#7201a8"
            ],
            [
             0.3333333333333333,
             "#9c179e"
            ],
            [
             0.4444444444444444,
             "#bd3786"
            ],
            [
             0.5555555555555556,
             "#d8576b"
            ],
            [
             0.6666666666666666,
             "#ed7953"
            ],
            [
             0.7777777777777778,
             "#fb9f3a"
            ],
            [
             0.8888888888888888,
             "#fdca26"
            ],
            [
             1,
             "#f0f921"
            ]
           ]
          },
          "colorway": [
           "#636efa",
           "#EF553B",
           "#00cc96",
           "#ab63fa",
           "#FFA15A",
           "#19d3f3",
           "#FF6692",
           "#B6E880",
           "#FF97FF",
           "#FECB52"
          ],
          "font": {
           "color": "#2a3f5f"
          },
          "geo": {
           "bgcolor": "white",
           "lakecolor": "white",
           "landcolor": "#E5ECF6",
           "showlakes": true,
           "showland": true,
           "subunitcolor": "white"
          },
          "hoverlabel": {
           "align": "left"
          },
          "hovermode": "closest",
          "mapbox": {
           "style": "light"
          },
          "paper_bgcolor": "white",
          "plot_bgcolor": "#E5ECF6",
          "polar": {
           "angularaxis": {
            "gridcolor": "white",
            "linecolor": "white",
            "ticks": ""
           },
           "bgcolor": "#E5ECF6",
           "radialaxis": {
            "gridcolor": "white",
            "linecolor": "white",
            "ticks": ""
           }
          },
          "scene": {
           "xaxis": {
            "backgroundcolor": "#E5ECF6",
            "gridcolor": "white",
            "gridwidth": 2,
            "linecolor": "white",
            "showbackground": true,
            "ticks": "",
            "zerolinecolor": "white"
           },
           "yaxis": {
            "backgroundcolor": "#E5ECF6",
            "gridcolor": "white",
            "gridwidth": 2,
            "linecolor": "white",
            "showbackground": true,
            "ticks": "",
            "zerolinecolor": "white"
           },
           "zaxis": {
            "backgroundcolor": "#E5ECF6",
            "gridcolor": "white",
            "gridwidth": 2,
            "linecolor": "white",
            "showbackground": true,
            "ticks": "",
            "zerolinecolor": "white"
           }
          },
          "shapedefaults": {
           "line": {
            "color": "#2a3f5f"
           }
          },
          "ternary": {
           "aaxis": {
            "gridcolor": "white",
            "linecolor": "white",
            "ticks": ""
           },
           "baxis": {
            "gridcolor": "white",
            "linecolor": "white",
            "ticks": ""
           },
           "bgcolor": "#E5ECF6",
           "caxis": {
            "gridcolor": "white",
            "linecolor": "white",
            "ticks": ""
           }
          },
          "title": {
           "x": 0.05
          },
          "xaxis": {
           "automargin": true,
           "gridcolor": "white",
           "linecolor": "white",
           "ticks": "",
           "title": {
            "standoff": 15
           },
           "zerolinecolor": "white",
           "zerolinewidth": 2
          },
          "yaxis": {
           "automargin": true,
           "gridcolor": "white",
           "linecolor": "white",
           "ticks": "",
           "title": {
            "standoff": 15
           },
           "zerolinecolor": "white",
           "zerolinewidth": 2
          }
         }
        },
        "title": {
         "text": "Your Graph Title"
        },
        "xaxis": {
         "title": {
          "text": "X-Axis Label"
         }
        },
        "yaxis": {
         "title": {
          "text": "Y-Axis Label"
         }
        }
       }
      }
     },
     "metadata": {},
     "output_type": "display_data"
    }
   ],
   "source": [
    "import pandas as pd\n",
    "import plotly.graph_objs as go\n",
    "\n",
    "\n",
    "# Creating a DataFrame\n",
    "df = pd.read_csv(\"data/athlete_events.csv\")\n",
    "\n",
    "# Example 1: Bar chart for the number of medals by country\n",
    "medal_count_by_country = df.groupby('Team')['Medal'].count().reset_index()\n",
    "bar_chart = go.Bar(x=medal_count_by_country['Team'], y=medal_count_by_country['Medal'])\n",
    "\n",
    "# Example 2: Scatter plot for Height vs. Weight\n",
    "scatter_plot = go.Scatter(x=df['Height'], y=df['Weight'], mode='markers', text=df['Name'], marker=dict(size=10, color='blue'))\n",
    "\n",
    "# Example 3: Line chart for the number of athletes over the years\n",
    "athlete_count_by_year = df.groupby('Year')['ID'].count().reset_index()\n",
    "line_chart = go.Scatter(x=athlete_count_by_year['Year'], y=athlete_count_by_year['ID'], mode='lines+markers')\n",
    "\n",
    "# Creating the layout\n",
    "layout = go.Layout(title='Your Graph Title', xaxis=dict(title='X-Axis Label'), yaxis=dict(title='Y-Axis Label'))\n",
    "\n",
    "# Creating the figure\n",
    "fig = go.Figure(data=[bar_chart], layout=layout)  # Change to scatter_plot or line_chart as needed\n",
    "\n",
    "# Show the figure\n",
    "fig.show()\n"
   ]
  },
  {
   "cell_type": "code",
   "execution_count": 10,
   "metadata": {},
   "outputs": [
    {
     "data": {
      "application/vnd.plotly.v1+json": {
       "config": {
        "plotlyServerURL": "https://plot.ly"
       },
       "data": [
        {
         "name": "Men",
         "type": "bar",
         "x": [
          "Athletics",
          "Gymnastics",
          "Swimming",
          "Shooting",
          "Cycling",
          "Fencing",
          "Rowing",
          "Wrestling",
          "Boxing",
          "Cross Country Skiing",
          "Football",
          "Sailing",
          "Alpine Skiing",
          "Equestrianism",
          "Canoeing",
          "Ice Hockey",
          "Hockey",
          "Speed Skating",
          "Weightlifting",
          "Water Polo",
          "Basketball",
          "Art Competitions",
          "Biathlon",
          "Bobsleigh",
          "Judo",
          "Ski Jumping",
          "Handball",
          "Volleyball",
          "Tennis",
          "Diving",
          "Modern Pentathlon",
          "Nordic Combined",
          "Archery",
          "Figure Skating",
          "Luge",
          "Table Tennis",
          "Baseball",
          "Short Track Speed Skating",
          "Badminton",
          "Snowboarding",
          "Freestyle Skiing",
          "Taekwondo",
          "Beach Volleyball",
          "Triathlon",
          "Curling",
          "Golf",
          "Tug-Of-War",
          "Rugby",
          "Rugby Sevens",
          "Skeleton",
          "Polo",
          "Trampolining",
          "Lacrosse",
          "Cricket",
          "Military Ski Patrol",
          "Alpinism",
          "Motorboating",
          "Croquet",
          "Racquets",
          "Jeu De Paume",
          "Roque",
          "Basque Pelota",
          "Aeronautics",
          "Synchronized Swimming",
          "Rhythmic Gymnastics",
          "Softball"
         ],
         "y": [
          26958,
          17578,
          13345,
          9724,
          9465,
          8735,
          8402,
          6850,
          5975,
          5748,
          5733,
          5660,
          5431,
          5098,
          4791,
          4762,
          3958,
          3532,
          3474,
          3358,
          3280,
          3201,
          3030,
          2915,
          2708,
          2371,
          2264,
          1861,
          1684,
          1632,
          1513,
          1344,
          1319,
          1126,
          1102,
          1002,
          894,
          773,
          717,
          520,
          504,
          307,
          288,
          266,
          241,
          177,
          170,
          162,
          151,
          133,
          95,
          76,
          60,
          24,
          24,
          24,
          16,
          13,
          12,
          11,
          4,
          2,
          1,
          0,
          0,
          0
         ]
        },
        {
         "name": "Women",
         "type": "bar",
         "x": [
          "Athletics",
          "Gymnastics",
          "Swimming",
          "Shooting",
          "Cycling",
          "Fencing",
          "Rowing",
          "Wrestling",
          "Boxing",
          "Cross Country Skiing",
          "Football",
          "Sailing",
          "Alpine Skiing",
          "Equestrianism",
          "Canoeing",
          "Ice Hockey",
          "Hockey",
          "Speed Skating",
          "Weightlifting",
          "Water Polo",
          "Basketball",
          "Art Competitions",
          "Biathlon",
          "Bobsleigh",
          "Judo",
          "Ski Jumping",
          "Handball",
          "Volleyball",
          "Tennis",
          "Diving",
          "Modern Pentathlon",
          "Nordic Combined",
          "Archery",
          "Figure Skating",
          "Luge",
          "Table Tennis",
          "Baseball",
          "Short Track Speed Skating",
          "Badminton",
          "Snowboarding",
          "Freestyle Skiing",
          "Taekwondo",
          "Beach Volleyball",
          "Triathlon",
          "Curling",
          "Golf",
          "Tug-Of-War",
          "Rugby",
          "Rugby Sevens",
          "Skeleton",
          "Polo",
          "Trampolining",
          "Lacrosse",
          "Cricket",
          "Military Ski Patrol",
          "Alpinism",
          "Motorboating",
          "Croquet",
          "Racquets",
          "Jeu De Paume",
          "Roque",
          "Basque Pelota",
          "Aeronautics",
          "Synchronized Swimming",
          "Rhythmic Gymnastics",
          "Softball"
         ],
         "y": [
          11666,
          9129,
          9850,
          1724,
          1394,
          2000,
          2193,
          304,
          72,
          3385,
          1012,
          926,
          3398,
          1246,
          1380,
          754,
          1459,
          2081,
          463,
          488,
          1256,
          377,
          1863,
          143,
          1093,
          30,
          1401,
          1543,
          1178,
          1210,
          164,
          0,
          1015,
          1172,
          377,
          953,
          0,
          761,
          740,
          416,
          433,
          299,
          276,
          263,
          222,
          70,
          0,
          0,
          148,
          66,
          0,
          76,
          0,
          0,
          0,
          1,
          1,
          6,
          0,
          0,
          0,
          0,
          0,
          909,
          658,
          478
         ]
        }
       ],
       "layout": {
        "barmode": "stack",
        "template": {
         "data": {
          "bar": [
           {
            "error_x": {
             "color": "#2a3f5f"
            },
            "error_y": {
             "color": "#2a3f5f"
            },
            "marker": {
             "line": {
              "color": "#E5ECF6",
              "width": 0.5
             },
             "pattern": {
              "fillmode": "overlay",
              "size": 10,
              "solidity": 0.2
             }
            },
            "type": "bar"
           }
          ],
          "barpolar": [
           {
            "marker": {
             "line": {
              "color": "#E5ECF6",
              "width": 0.5
             },
             "pattern": {
              "fillmode": "overlay",
              "size": 10,
              "solidity": 0.2
             }
            },
            "type": "barpolar"
           }
          ],
          "carpet": [
           {
            "aaxis": {
             "endlinecolor": "#2a3f5f",
             "gridcolor": "white",
             "linecolor": "white",
             "minorgridcolor": "white",
             "startlinecolor": "#2a3f5f"
            },
            "baxis": {
             "endlinecolor": "#2a3f5f",
             "gridcolor": "white",
             "linecolor": "white",
             "minorgridcolor": "white",
             "startlinecolor": "#2a3f5f"
            },
            "type": "carpet"
           }
          ],
          "choropleth": [
           {
            "colorbar": {
             "outlinewidth": 0,
             "ticks": ""
            },
            "type": "choropleth"
           }
          ],
          "contour": [
           {
            "colorbar": {
             "outlinewidth": 0,
             "ticks": ""
            },
            "colorscale": [
             [
              0,
              "#0d0887"
             ],
             [
              0.1111111111111111,
              "#46039f"
             ],
             [
              0.2222222222222222,
              "#7201a8"
             ],
             [
              0.3333333333333333,
              "#9c179e"
             ],
             [
              0.4444444444444444,
              "#bd3786"
             ],
             [
              0.5555555555555556,
              "#d8576b"
             ],
             [
              0.6666666666666666,
              "#ed7953"
             ],
             [
              0.7777777777777778,
              "#fb9f3a"
             ],
             [
              0.8888888888888888,
              "#fdca26"
             ],
             [
              1,
              "#f0f921"
             ]
            ],
            "type": "contour"
           }
          ],
          "contourcarpet": [
           {
            "colorbar": {
             "outlinewidth": 0,
             "ticks": ""
            },
            "type": "contourcarpet"
           }
          ],
          "heatmap": [
           {
            "colorbar": {
             "outlinewidth": 0,
             "ticks": ""
            },
            "colorscale": [
             [
              0,
              "#0d0887"
             ],
             [
              0.1111111111111111,
              "#46039f"
             ],
             [
              0.2222222222222222,
              "#7201a8"
             ],
             [
              0.3333333333333333,
              "#9c179e"
             ],
             [
              0.4444444444444444,
              "#bd3786"
             ],
             [
              0.5555555555555556,
              "#d8576b"
             ],
             [
              0.6666666666666666,
              "#ed7953"
             ],
             [
              0.7777777777777778,
              "#fb9f3a"
             ],
             [
              0.8888888888888888,
              "#fdca26"
             ],
             [
              1,
              "#f0f921"
             ]
            ],
            "type": "heatmap"
           }
          ],
          "heatmapgl": [
           {
            "colorbar": {
             "outlinewidth": 0,
             "ticks": ""
            },
            "colorscale": [
             [
              0,
              "#0d0887"
             ],
             [
              0.1111111111111111,
              "#46039f"
             ],
             [
              0.2222222222222222,
              "#7201a8"
             ],
             [
              0.3333333333333333,
              "#9c179e"
             ],
             [
              0.4444444444444444,
              "#bd3786"
             ],
             [
              0.5555555555555556,
              "#d8576b"
             ],
             [
              0.6666666666666666,
              "#ed7953"
             ],
             [
              0.7777777777777778,
              "#fb9f3a"
             ],
             [
              0.8888888888888888,
              "#fdca26"
             ],
             [
              1,
              "#f0f921"
             ]
            ],
            "type": "heatmapgl"
           }
          ],
          "histogram": [
           {
            "marker": {
             "pattern": {
              "fillmode": "overlay",
              "size": 10,
              "solidity": 0.2
             }
            },
            "type": "histogram"
           }
          ],
          "histogram2d": [
           {
            "colorbar": {
             "outlinewidth": 0,
             "ticks": ""
            },
            "colorscale": [
             [
              0,
              "#0d0887"
             ],
             [
              0.1111111111111111,
              "#46039f"
             ],
             [
              0.2222222222222222,
              "#7201a8"
             ],
             [
              0.3333333333333333,
              "#9c179e"
             ],
             [
              0.4444444444444444,
              "#bd3786"
             ],
             [
              0.5555555555555556,
              "#d8576b"
             ],
             [
              0.6666666666666666,
              "#ed7953"
             ],
             [
              0.7777777777777778,
              "#fb9f3a"
             ],
             [
              0.8888888888888888,
              "#fdca26"
             ],
             [
              1,
              "#f0f921"
             ]
            ],
            "type": "histogram2d"
           }
          ],
          "histogram2dcontour": [
           {
            "colorbar": {
             "outlinewidth": 0,
             "ticks": ""
            },
            "colorscale": [
             [
              0,
              "#0d0887"
             ],
             [
              0.1111111111111111,
              "#46039f"
             ],
             [
              0.2222222222222222,
              "#7201a8"
             ],
             [
              0.3333333333333333,
              "#9c179e"
             ],
             [
              0.4444444444444444,
              "#bd3786"
             ],
             [
              0.5555555555555556,
              "#d8576b"
             ],
             [
              0.6666666666666666,
              "#ed7953"
             ],
             [
              0.7777777777777778,
              "#fb9f3a"
             ],
             [
              0.8888888888888888,
              "#fdca26"
             ],
             [
              1,
              "#f0f921"
             ]
            ],
            "type": "histogram2dcontour"
           }
          ],
          "mesh3d": [
           {
            "colorbar": {
             "outlinewidth": 0,
             "ticks": ""
            },
            "type": "mesh3d"
           }
          ],
          "parcoords": [
           {
            "line": {
             "colorbar": {
              "outlinewidth": 0,
              "ticks": ""
             }
            },
            "type": "parcoords"
           }
          ],
          "pie": [
           {
            "automargin": true,
            "type": "pie"
           }
          ],
          "scatter": [
           {
            "fillpattern": {
             "fillmode": "overlay",
             "size": 10,
             "solidity": 0.2
            },
            "type": "scatter"
           }
          ],
          "scatter3d": [
           {
            "line": {
             "colorbar": {
              "outlinewidth": 0,
              "ticks": ""
             }
            },
            "marker": {
             "colorbar": {
              "outlinewidth": 0,
              "ticks": ""
             }
            },
            "type": "scatter3d"
           }
          ],
          "scattercarpet": [
           {
            "marker": {
             "colorbar": {
              "outlinewidth": 0,
              "ticks": ""
             }
            },
            "type": "scattercarpet"
           }
          ],
          "scattergeo": [
           {
            "marker": {
             "colorbar": {
              "outlinewidth": 0,
              "ticks": ""
             }
            },
            "type": "scattergeo"
           }
          ],
          "scattergl": [
           {
            "marker": {
             "colorbar": {
              "outlinewidth": 0,
              "ticks": ""
             }
            },
            "type": "scattergl"
           }
          ],
          "scattermapbox": [
           {
            "marker": {
             "colorbar": {
              "outlinewidth": 0,
              "ticks": ""
             }
            },
            "type": "scattermapbox"
           }
          ],
          "scatterpolar": [
           {
            "marker": {
             "colorbar": {
              "outlinewidth": 0,
              "ticks": ""
             }
            },
            "type": "scatterpolar"
           }
          ],
          "scatterpolargl": [
           {
            "marker": {
             "colorbar": {
              "outlinewidth": 0,
              "ticks": ""
             }
            },
            "type": "scatterpolargl"
           }
          ],
          "scatterternary": [
           {
            "marker": {
             "colorbar": {
              "outlinewidth": 0,
              "ticks": ""
             }
            },
            "type": "scatterternary"
           }
          ],
          "surface": [
           {
            "colorbar": {
             "outlinewidth": 0,
             "ticks": ""
            },
            "colorscale": [
             [
              0,
              "#0d0887"
             ],
             [
              0.1111111111111111,
              "#46039f"
             ],
             [
              0.2222222222222222,
              "#7201a8"
             ],
             [
              0.3333333333333333,
              "#9c179e"
             ],
             [
              0.4444444444444444,
              "#bd3786"
             ],
             [
              0.5555555555555556,
              "#d8576b"
             ],
             [
              0.6666666666666666,
              "#ed7953"
             ],
             [
              0.7777777777777778,
              "#fb9f3a"
             ],
             [
              0.8888888888888888,
              "#fdca26"
             ],
             [
              1,
              "#f0f921"
             ]
            ],
            "type": "surface"
           }
          ],
          "table": [
           {
            "cells": {
             "fill": {
              "color": "#EBF0F8"
             },
             "line": {
              "color": "white"
             }
            },
            "header": {
             "fill": {
              "color": "#C8D4E3"
             },
             "line": {
              "color": "white"
             }
            },
            "type": "table"
           }
          ]
         },
         "layout": {
          "annotationdefaults": {
           "arrowcolor": "#2a3f5f",
           "arrowhead": 0,
           "arrowwidth": 1
          },
          "autotypenumbers": "strict",
          "coloraxis": {
           "colorbar": {
            "outlinewidth": 0,
            "ticks": ""
           }
          },
          "colorscale": {
           "diverging": [
            [
             0,
             "#8e0152"
            ],
            [
             0.1,
             "#c51b7d"
            ],
            [
             0.2,
             "#de77ae"
            ],
            [
             0.3,
             "#f1b6da"
            ],
            [
             0.4,
             "#fde0ef"
            ],
            [
             0.5,
             "#f7f7f7"
            ],
            [
             0.6,
             "#e6f5d0"
            ],
            [
             0.7,
             "#b8e186"
            ],
            [
             0.8,
             "#7fbc41"
            ],
            [
             0.9,
             "#4d9221"
            ],
            [
             1,
             "#276419"
            ]
           ],
           "sequential": [
            [
             0,
             "#0d0887"
            ],
            [
             0.1111111111111111,
             "#46039f"
            ],
            [
             0.2222222222222222,
             "#7201a8"
            ],
            [
             0.3333333333333333,
             "#9c179e"
            ],
            [
             0.4444444444444444,
             "#bd3786"
            ],
            [
             0.5555555555555556,
             "#d8576b"
            ],
            [
             0.6666666666666666,
             "#ed7953"
            ],
            [
             0.7777777777777778,
             "#fb9f3a"
            ],
            [
             0.8888888888888888,
             "#fdca26"
            ],
            [
             1,
             "#f0f921"
            ]
           ],
           "sequentialminus": [
            [
             0,
             "#0d0887"
            ],
            [
             0.1111111111111111,
             "#46039f"
            ],
            [
             0.2222222222222222,
             "#7201a8"
            ],
            [
             0.3333333333333333,
             "#9c179e"
            ],
            [
             0.4444444444444444,
             "#bd3786"
            ],
            [
             0.5555555555555556,
             "#d8576b"
            ],
            [
             0.6666666666666666,
             "#ed7953"
            ],
            [
             0.7777777777777778,
             "#fb9f3a"
            ],
            [
             0.8888888888888888,
             "#fdca26"
            ],
            [
             1,
             "#f0f921"
            ]
           ]
          },
          "colorway": [
           "#636efa",
           "#EF553B",
           "#00cc96",
           "#ab63fa",
           "#FFA15A",
           "#19d3f3",
           "#FF6692",
           "#B6E880",
           "#FF97FF",
           "#FECB52"
          ],
          "font": {
           "color": "#2a3f5f"
          },
          "geo": {
           "bgcolor": "white",
           "lakecolor": "white",
           "landcolor": "#E5ECF6",
           "showlakes": true,
           "showland": true,
           "subunitcolor": "white"
          },
          "hoverlabel": {
           "align": "left"
          },
          "hovermode": "closest",
          "mapbox": {
           "style": "light"
          },
          "paper_bgcolor": "white",
          "plot_bgcolor": "#E5ECF6",
          "polar": {
           "angularaxis": {
            "gridcolor": "white",
            "linecolor": "white",
            "ticks": ""
           },
           "bgcolor": "#E5ECF6",
           "radialaxis": {
            "gridcolor": "white",
            "linecolor": "white",
            "ticks": ""
           }
          },
          "scene": {
           "xaxis": {
            "backgroundcolor": "#E5ECF6",
            "gridcolor": "white",
            "gridwidth": 2,
            "linecolor": "white",
            "showbackground": true,
            "ticks": "",
            "zerolinecolor": "white"
           },
           "yaxis": {
            "backgroundcolor": "#E5ECF6",
            "gridcolor": "white",
            "gridwidth": 2,
            "linecolor": "white",
            "showbackground": true,
            "ticks": "",
            "zerolinecolor": "white"
           },
           "zaxis": {
            "backgroundcolor": "#E5ECF6",
            "gridcolor": "white",
            "gridwidth": 2,
            "linecolor": "white",
            "showbackground": true,
            "ticks": "",
            "zerolinecolor": "white"
           }
          },
          "shapedefaults": {
           "line": {
            "color": "#2a3f5f"
           }
          },
          "ternary": {
           "aaxis": {
            "gridcolor": "white",
            "linecolor": "white",
            "ticks": ""
           },
           "baxis": {
            "gridcolor": "white",
            "linecolor": "white",
            "ticks": ""
           },
           "bgcolor": "#E5ECF6",
           "caxis": {
            "gridcolor": "white",
            "linecolor": "white",
            "ticks": ""
           }
          },
          "title": {
           "x": 0.05
          },
          "xaxis": {
           "automargin": true,
           "gridcolor": "white",
           "linecolor": "white",
           "ticks": "",
           "title": {
            "standoff": 15
           },
           "zerolinecolor": "white",
           "zerolinewidth": 2
          },
          "yaxis": {
           "automargin": true,
           "gridcolor": "white",
           "linecolor": "white",
           "ticks": "",
           "title": {
            "standoff": 15
           },
           "zerolinecolor": "white",
           "zerolinewidth": 2
          }
         }
        },
        "title": {
         "text": "Sport Participation - Number of Athletes in Each Sport (Men and Women)"
        },
        "xaxis": {
         "title": {
          "text": "Sport"
         }
        },
        "yaxis": {
         "title": {
          "text": "Number of Athletes"
         }
        }
       }
      }
     },
     "metadata": {},
     "output_type": "display_data"
    }
   ],
   "source": [
    "import pandas as pd\n",
    "import plotly.graph_objs as go\n",
    "\n",
    "# Your data\n",
    "# Creating a DataFrame\n",
    "df = pd.read_csv(\"data/athlete_events.csv\")\n",
    "\n",
    "men_data = df[df['Sex'] == 'M']\n",
    "women_data = df[df['Sex'] == 'F']\n",
    "\n",
    "# Counting the number of male athletes in each sport\n",
    "men_sport_participation = men_data['Sport'].value_counts().reset_index()\n",
    "men_sport_participation.columns = ['Sport', 'Number of Male Athletes']\n",
    "\n",
    "# Counting the number of female athletes in each sport\n",
    "women_sport_participation = women_data['Sport'].value_counts().reset_index()\n",
    "women_sport_participation.columns = ['Sport', 'Number of Female Athletes']\n",
    "\n",
    "# Merging the two dataframes on 'Sport'\n",
    "merged_sport_participation = pd.merge(men_sport_participation, women_sport_participation, on='Sport', how='outer').fillna(0)\n",
    "\n",
    "# Creating stacked bar chart\n",
    "bar_chart = go.Figure()\n",
    "\n",
    "bar_chart.add_trace(go.Bar(x=merged_sport_participation['Sport'],\n",
    "                           y=merged_sport_participation['Number of Male Athletes'],\n",
    "                           name='Men'))\n",
    "\n",
    "bar_chart.add_trace(go.Bar(x=merged_sport_participation['Sport'],\n",
    "                           y=merged_sport_participation['Number of Female Athletes'],\n",
    "                           name='Women'))\n",
    "\n",
    "# Creating the layout\n",
    "layout = go.Layout(title='Sport Participation - Number of Athletes in Each Sport (Men and Women)',\n",
    "                   xaxis=dict(title='Sport'),\n",
    "                   yaxis=dict(title='Number of Athletes'),\n",
    "                   barmode='stack')\n",
    "\n",
    "# Applying layout to the chart\n",
    "bar_chart.update_layout(layout)\n",
    "\n",
    "# Show the figure\n",
    "bar_chart.show()\n"
   ]
  },
  {
   "cell_type": "code",
   "execution_count": 11,
   "metadata": {},
   "outputs": [
    {
     "name": "stdout",
     "output_type": "stream",
     "text": [
      "['AFG', 'ARM', 'AZE', 'BRN', 'CHN', 'CYP', 'GEO', 'HKG', 'IND', 'IRQ', 'ISR', 'JOR', 'JPN', 'KAZ', 'KGZ', 'KOR', 'LAO', 'MDV', 'PAK', 'PRK', 'QAT', 'SYR', 'THA', 'TJK', 'TKM', 'TLS', 'TUR', 'UZB', 'VNM', 'YEM'] ['ALB', 'AND', 'AUT', 'BEL', 'BIH', 'BLR', 'CZE', 'ESP', 'EST', 'FIN', 'FRA', 'GBR', 'HUN', 'IRL', 'ISL', 'ITA', 'LIE', 'LTU', 'LUX', 'MDA', 'MKD', 'MLT', 'MNE', 'NOR', 'POL', 'ROU', 'RUS', 'SMR', 'SRB', 'SVK', 'SWE', 'UKR'] ['BDI', 'BEN', 'CAF', 'CIV', 'CMR', 'COD', 'COM', 'CPV', 'DJI', 'EGY', 'ERI', 'ETH', 'GAB', 'GHA', 'KEN', 'LBR', 'MAR', 'MLI', 'MOZ', 'NAM', 'RWA', 'SEN', 'SLE', 'SOM', 'SSD', 'STP', 'SWZ', 'TUN', 'UGA'] ['AUS', 'COK', 'FSM', 'GUM', 'KIR', 'MHL', 'NRU', 'NZL', 'PLW', 'PNG', 'TUV'] ['ARG', 'BOL', 'BRA', 'CAN', 'COL', 'CUB', 'DMA', 'DOM', 'ECU', 'GUY', 'JAM', 'LCA', 'MEX', 'PAN', 'PER', 'SUR', 'TTO', 'USA', 'VEN']\n"
     ]
    }
   ],
   "source": [
    "import pandas as pd\n",
    "data = pd.read_csv(\"data/all.csv\")\n",
    "\n",
    "list_asie = data[data[\"region\"] == \"Asia\"][\"alpha-3\"].tolist()\n",
    "list_europe = data[data[\"region\"] == \"Europe\"][\"alpha-3\"].tolist()\n",
    "list_afrique = data[data[\"region\"] == \"Africa\"][\"alpha-3\"].tolist()\n",
    "list_amerique = data[data[\"region\"] == \"Americas\"][\"alpha-3\"].tolist()\n",
    "liste_oceanie = data[data[\"region\"] == \"Oceania\"][\"alpha-3\"].tolist()\n",
    "\n",
    "ASIE = []\n",
    "EUROPE = []\n",
    "AFRIQUE = [] \n",
    "OCÉANIE = [] \n",
    "AMÉRIQUE = []\n",
    "\n",
    "df_noc = pd.read_csv(\"data/noc_regions.csv\")\n",
    "for key, row in df_noc.iterrows():\n",
    "    #print(\"row\", row[\"NOC\"])\n",
    "    if row[\"NOC\"] in list_asie:\n",
    "        ASIE.append(row[\"NOC\"])\n",
    "    if row[\"NOC\"] in list_europe:\n",
    "        EUROPE.append(row[\"NOC\"])\n",
    "    if row[\"NOC\"] in list_afrique:\n",
    "        AFRIQUE.append(row[\"NOC\"])\n",
    "    if row[\"NOC\"] in liste_oceanie:\n",
    "        OCÉANIE.append(row[\"NOC\"])\n",
    "    if row[\"NOC\"] in list_amerique:\n",
    "        AMÉRIQUE.append(row[\"NOC\"])\n",
    "        \n",
    "print(ASIE,\n",
    "EUROPE,\n",
    "AFRIQUE,\n",
    "OCÉANIE,\n",
    "AMÉRIQUE)"
   ]
  },
  {
   "cell_type": "code",
   "execution_count": 12,
   "metadata": {},
   "outputs": [
    {
     "name": "stderr",
     "output_type": "stream",
     "text": [
      "Address already in use\n",
      "Port 8050 is in use by another program. Either identify and stop that program, or start the server with a different port.\n"
     ]
    },
    {
     "ename": "AttributeError",
     "evalue": "'tuple' object has no attribute 'tb_frame'",
     "output_type": "error",
     "traceback": [
      "\u001b[0;31m---------------------------------------------------------------------------\u001b[0m",
      "\u001b[0;31mOSError\u001b[0m                                   Traceback (most recent call last)",
      "File \u001b[0;32m~/anaconda3/envs/visu_projet/lib/python3.11/site-packages/werkzeug/serving.py:710\u001b[0m, in \u001b[0;36mBaseWSGIServer.__init__\u001b[0;34m(self, host, port, app, handler, passthrough_errors, ssl_context, fd)\u001b[0m\n\u001b[1;32m    709\u001b[0m \u001b[39mtry\u001b[39;00m:\n\u001b[0;32m--> 710\u001b[0m     \u001b[39mself\u001b[39;49m\u001b[39m.\u001b[39;49mserver_bind()\n\u001b[1;32m    711\u001b[0m     \u001b[39mself\u001b[39m\u001b[39m.\u001b[39mserver_activate()\n",
      "File \u001b[0;32m~/anaconda3/envs/visu_projet/lib/python3.11/http/server.py:136\u001b[0m, in \u001b[0;36mHTTPServer.server_bind\u001b[0;34m(self)\u001b[0m\n\u001b[1;32m    135\u001b[0m \u001b[39m\u001b[39m\u001b[39m\"\"\"Override server_bind to store the server name.\"\"\"\u001b[39;00m\n\u001b[0;32m--> 136\u001b[0m socketserver\u001b[39m.\u001b[39;49mTCPServer\u001b[39m.\u001b[39;49mserver_bind(\u001b[39mself\u001b[39;49m)\n\u001b[1;32m    137\u001b[0m host, port \u001b[39m=\u001b[39m \u001b[39mself\u001b[39m\u001b[39m.\u001b[39mserver_address[:\u001b[39m2\u001b[39m]\n",
      "File \u001b[0;32m~/anaconda3/envs/visu_projet/lib/python3.11/socketserver.py:472\u001b[0m, in \u001b[0;36mTCPServer.server_bind\u001b[0;34m(self)\u001b[0m\n\u001b[1;32m    471\u001b[0m     \u001b[39mself\u001b[39m\u001b[39m.\u001b[39msocket\u001b[39m.\u001b[39msetsockopt(socket\u001b[39m.\u001b[39mSOL_SOCKET, socket\u001b[39m.\u001b[39mSO_REUSEPORT, \u001b[39m1\u001b[39m)\n\u001b[0;32m--> 472\u001b[0m \u001b[39mself\u001b[39;49m\u001b[39m.\u001b[39;49msocket\u001b[39m.\u001b[39;49mbind(\u001b[39mself\u001b[39;49m\u001b[39m.\u001b[39;49mserver_address)\n\u001b[1;32m    473\u001b[0m \u001b[39mself\u001b[39m\u001b[39m.\u001b[39mserver_address \u001b[39m=\u001b[39m \u001b[39mself\u001b[39m\u001b[39m.\u001b[39msocket\u001b[39m.\u001b[39mgetsockname()\n",
      "\u001b[0;31mOSError\u001b[0m: [Errno 98] Address already in use",
      "\nDuring handling of the above exception, another exception occurred:\n",
      "\u001b[0;31mSystemExit\u001b[0m                                Traceback (most recent call last)",
      "    \u001b[0;31m[... skipping hidden 1 frame]\u001b[0m\n",
      "\u001b[1;32m/home/alan/Documents/M2-ISD/Connaissance_Visualisation/data_viz_JO/test.ipynb Cell 7\u001b[0m line \u001b[0;36m3\n\u001b[1;32m     <a href='vscode-notebook-cell:/home/alan/Documents/M2-ISD/Connaissance_Visualisation/data_viz_JO/test.ipynb#X10sZmlsZQ%3D%3D?line=32'>33</a>\u001b[0m     \u001b[39mreturn\u001b[39;00m fig\n\u001b[0;32m---> <a href='vscode-notebook-cell:/home/alan/Documents/M2-ISD/Connaissance_Visualisation/data_viz_JO/test.ipynb#X10sZmlsZQ%3D%3D?line=35'>36</a>\u001b[0m app\u001b[39m.\u001b[39;49mrun_server(debug\u001b[39m=\u001b[39;49m\u001b[39mTrue\u001b[39;49;00m)\n",
      "File \u001b[0;32m~/anaconda3/envs/visu_projet/lib/python3.11/site-packages/dash/dash.py:2155\u001b[0m, in \u001b[0;36mDash.run_server\u001b[0;34m(self, *args, **kwargs)\u001b[0m\n\u001b[1;32m   2150\u001b[0m \u001b[39m\u001b[39m\u001b[39m\"\"\"`run_server` is a deprecated alias of `run` and may be removed in a\u001b[39;00m\n\u001b[1;32m   2151\u001b[0m \u001b[39mfuture version. We recommend using `app.run` instead.\u001b[39;00m\n\u001b[1;32m   2152\u001b[0m \n\u001b[1;32m   2153\u001b[0m \u001b[39mSee `app.run` for usage information.\u001b[39;00m\n\u001b[1;32m   2154\u001b[0m \u001b[39m\"\"\"\u001b[39;00m\n\u001b[0;32m-> 2155\u001b[0m \u001b[39mself\u001b[39;49m\u001b[39m.\u001b[39;49mrun(\u001b[39m*\u001b[39;49margs, \u001b[39m*\u001b[39;49m\u001b[39m*\u001b[39;49mkwargs)\n",
      "File \u001b[0;32m~/anaconda3/envs/visu_projet/lib/python3.11/site-packages/dash/dash.py:2053\u001b[0m, in \u001b[0;36mDash.run\u001b[0;34m(self, host, port, proxy, debug, jupyter_mode, jupyter_width, jupyter_height, jupyter_server_url, dev_tools_ui, dev_tools_props_check, dev_tools_serve_dev_bundles, dev_tools_hot_reload, dev_tools_hot_reload_interval, dev_tools_hot_reload_watch_interval, dev_tools_hot_reload_max_retry, dev_tools_silence_routes_logging, dev_tools_prune_errors, **flask_run_options)\u001b[0m\n\u001b[1;32m   2052\u001b[0m \u001b[39mif\u001b[39;00m jupyter_dash\u001b[39m.\u001b[39mactive:\n\u001b[0;32m-> 2053\u001b[0m     jupyter_dash\u001b[39m.\u001b[39;49mrun_app(\n\u001b[1;32m   2054\u001b[0m         \u001b[39mself\u001b[39;49m,\n\u001b[1;32m   2055\u001b[0m         mode\u001b[39m=\u001b[39;49mjupyter_mode,\n\u001b[1;32m   2056\u001b[0m         width\u001b[39m=\u001b[39;49mjupyter_width,\n\u001b[1;32m   2057\u001b[0m         height\u001b[39m=\u001b[39;49mjupyter_height,\n\u001b[1;32m   2058\u001b[0m         host\u001b[39m=\u001b[39;49mhost,\n\u001b[1;32m   2059\u001b[0m         port\u001b[39m=\u001b[39;49mport,\n\u001b[1;32m   2060\u001b[0m         server_url\u001b[39m=\u001b[39;49mjupyter_server_url,\n\u001b[1;32m   2061\u001b[0m     )\n\u001b[1;32m   2062\u001b[0m \u001b[39melse\u001b[39;00m:\n",
      "File \u001b[0;32m~/anaconda3/envs/visu_projet/lib/python3.11/site-packages/dash/_jupyter.py:329\u001b[0m, in \u001b[0;36mJupyterDash.run_app\u001b[0;34m(self, app, mode, width, height, host, port, server_url)\u001b[0m\n\u001b[1;32m    327\u001b[0m err_q \u001b[39m=\u001b[39m queue\u001b[39m.\u001b[39mQueue()\n\u001b[0;32m--> 329\u001b[0m server \u001b[39m=\u001b[39m make_server(host, port, app\u001b[39m.\u001b[39;49mserver, threaded\u001b[39m=\u001b[39;49m\u001b[39mTrue\u001b[39;49;00m, processes\u001b[39m=\u001b[39;49m\u001b[39m0\u001b[39;49m)\n\u001b[1;32m    330\u001b[0m logging\u001b[39m.\u001b[39mgetLogger(\u001b[39m\"\u001b[39m\u001b[39mwerkzeug\u001b[39m\u001b[39m\"\u001b[39m)\u001b[39m.\u001b[39msetLevel(logging\u001b[39m.\u001b[39mERROR)\n",
      "File \u001b[0;32m~/anaconda3/envs/visu_projet/lib/python3.11/site-packages/werkzeug/serving.py:877\u001b[0m, in \u001b[0;36mmake_server\u001b[0;34m(host, port, app, threaded, processes, request_handler, passthrough_errors, ssl_context, fd)\u001b[0m\n\u001b[1;32m    876\u001b[0m \u001b[39mif\u001b[39;00m threaded:\n\u001b[0;32m--> 877\u001b[0m     \u001b[39mreturn\u001b[39;00m ThreadedWSGIServer(\n\u001b[1;32m    878\u001b[0m         host, port, app, request_handler, passthrough_errors, ssl_context, fd\u001b[39m=\u001b[39;49mfd\n\u001b[1;32m    879\u001b[0m     )\n\u001b[1;32m    881\u001b[0m \u001b[39mif\u001b[39;00m processes \u001b[39m>\u001b[39m \u001b[39m1\u001b[39m:\n",
      "File \u001b[0;32m~/anaconda3/envs/visu_projet/lib/python3.11/site-packages/werkzeug/serving.py:733\u001b[0m, in \u001b[0;36mBaseWSGIServer.__init__\u001b[0;34m(self, host, port, app, handler, passthrough_errors, ssl_context, fd)\u001b[0m\n\u001b[1;32m    727\u001b[0m             \u001b[39mprint\u001b[39m(\n\u001b[1;32m    728\u001b[0m                 \u001b[39m\"\u001b[39m\u001b[39mOn macOS, try disabling the \u001b[39m\u001b[39m'\u001b[39m\u001b[39mAirPlay Receiver\u001b[39m\u001b[39m'\u001b[39m\u001b[39m service\u001b[39m\u001b[39m\"\u001b[39m\n\u001b[1;32m    729\u001b[0m                 \u001b[39m\"\u001b[39m\u001b[39m from System Preferences -> Sharing.\u001b[39m\u001b[39m\"\u001b[39m,\n\u001b[1;32m    730\u001b[0m                 file\u001b[39m=\u001b[39msys\u001b[39m.\u001b[39mstderr,\n\u001b[1;32m    731\u001b[0m             )\n\u001b[0;32m--> 733\u001b[0m     sys\u001b[39m.\u001b[39;49mexit(\u001b[39m1\u001b[39;49m)\n\u001b[1;32m    734\u001b[0m \u001b[39mexcept\u001b[39;00m \u001b[39mBaseException\u001b[39;00m:\n",
      "\u001b[0;31mSystemExit\u001b[0m: 1",
      "\nDuring handling of the above exception, another exception occurred:\n",
      "\u001b[0;31mAttributeError\u001b[0m                            Traceback (most recent call last)",
      "    \u001b[0;31m[... skipping hidden 1 frame]\u001b[0m\n",
      "File \u001b[0;32m~/anaconda3/envs/visu_projet/lib/python3.11/site-packages/IPython/core/interactiveshell.py:2097\u001b[0m, in \u001b[0;36mInteractiveShell.showtraceback\u001b[0;34m(self, exc_tuple, filename, tb_offset, exception_only, running_compiled_code)\u001b[0m\n\u001b[1;32m   2094\u001b[0m \u001b[39mif\u001b[39;00m exception_only:\n\u001b[1;32m   2095\u001b[0m     stb \u001b[39m=\u001b[39m [\u001b[39m'\u001b[39m\u001b[39mAn exception has occurred, use \u001b[39m\u001b[39m%\u001b[39m\u001b[39mtb to see \u001b[39m\u001b[39m'\u001b[39m\n\u001b[1;32m   2096\u001b[0m            \u001b[39m'\u001b[39m\u001b[39mthe full traceback.\u001b[39m\u001b[39m\\n\u001b[39;00m\u001b[39m'\u001b[39m]\n\u001b[0;32m-> 2097\u001b[0m     stb\u001b[39m.\u001b[39mextend(\u001b[39mself\u001b[39;49m\u001b[39m.\u001b[39;49mInteractiveTB\u001b[39m.\u001b[39;49mget_exception_only(etype,\n\u001b[1;32m   2098\u001b[0m                                                      value))\n\u001b[1;32m   2099\u001b[0m \u001b[39melse\u001b[39;00m:\n\u001b[1;32m   2101\u001b[0m     \u001b[39mdef\u001b[39;00m \u001b[39mcontains_exceptiongroup\u001b[39m(val):\n",
      "File \u001b[0;32m~/anaconda3/envs/visu_projet/lib/python3.11/site-packages/IPython/core/ultratb.py:710\u001b[0m, in \u001b[0;36mListTB.get_exception_only\u001b[0;34m(self, etype, value)\u001b[0m\n\u001b[1;32m    702\u001b[0m \u001b[39mdef\u001b[39;00m \u001b[39mget_exception_only\u001b[39m(\u001b[39mself\u001b[39m, etype, value):\n\u001b[1;32m    703\u001b[0m \u001b[39m    \u001b[39m\u001b[39m\"\"\"Only print the exception type and message, without a traceback.\u001b[39;00m\n\u001b[1;32m    704\u001b[0m \n\u001b[1;32m    705\u001b[0m \u001b[39m    Parameters\u001b[39;00m\n\u001b[0;32m   (...)\u001b[0m\n\u001b[1;32m    708\u001b[0m \u001b[39m    value : exception value\u001b[39;00m\n\u001b[1;32m    709\u001b[0m \u001b[39m    \"\"\"\u001b[39;00m\n\u001b[0;32m--> 710\u001b[0m     \u001b[39mreturn\u001b[39;00m ListTB\u001b[39m.\u001b[39;49mstructured_traceback(\u001b[39mself\u001b[39;49m, etype, value)\n",
      "File \u001b[0;32m~/anaconda3/envs/visu_projet/lib/python3.11/site-packages/IPython/core/ultratb.py:568\u001b[0m, in \u001b[0;36mListTB.structured_traceback\u001b[0;34m(self, etype, evalue, etb, tb_offset, context)\u001b[0m\n\u001b[1;32m    565\u001b[0m     chained_exc_ids\u001b[39m.\u001b[39madd(\u001b[39mid\u001b[39m(exception[\u001b[39m1\u001b[39m]))\n\u001b[1;32m    566\u001b[0m     chained_exceptions_tb_offset \u001b[39m=\u001b[39m \u001b[39m0\u001b[39m\n\u001b[1;32m    567\u001b[0m     out_list \u001b[39m=\u001b[39m (\n\u001b[0;32m--> 568\u001b[0m         \u001b[39mself\u001b[39;49m\u001b[39m.\u001b[39;49mstructured_traceback(\n\u001b[1;32m    569\u001b[0m             etype,\n\u001b[1;32m    570\u001b[0m             evalue,\n\u001b[1;32m    571\u001b[0m             (etb, chained_exc_ids),  \u001b[39m# type: ignore\u001b[39;49;00m\n\u001b[1;32m    572\u001b[0m             chained_exceptions_tb_offset,\n\u001b[1;32m    573\u001b[0m             context,\n\u001b[1;32m    574\u001b[0m         )\n\u001b[1;32m    575\u001b[0m         \u001b[39m+\u001b[39m chained_exception_message\n\u001b[1;32m    576\u001b[0m         \u001b[39m+\u001b[39m out_list)\n\u001b[1;32m    578\u001b[0m \u001b[39mreturn\u001b[39;00m out_list\n",
      "File \u001b[0;32m~/anaconda3/envs/visu_projet/lib/python3.11/site-packages/IPython/core/ultratb.py:1435\u001b[0m, in \u001b[0;36mAutoFormattedTB.structured_traceback\u001b[0;34m(self, etype, evalue, etb, tb_offset, number_of_lines_of_context)\u001b[0m\n\u001b[1;32m   1433\u001b[0m \u001b[39melse\u001b[39;00m:\n\u001b[1;32m   1434\u001b[0m     \u001b[39mself\u001b[39m\u001b[39m.\u001b[39mtb \u001b[39m=\u001b[39m etb\n\u001b[0;32m-> 1435\u001b[0m \u001b[39mreturn\u001b[39;00m FormattedTB\u001b[39m.\u001b[39;49mstructured_traceback(\n\u001b[1;32m   1436\u001b[0m     \u001b[39mself\u001b[39;49m, etype, evalue, etb, tb_offset, number_of_lines_of_context\n\u001b[1;32m   1437\u001b[0m )\n",
      "File \u001b[0;32m~/anaconda3/envs/visu_projet/lib/python3.11/site-packages/IPython/core/ultratb.py:1326\u001b[0m, in \u001b[0;36mFormattedTB.structured_traceback\u001b[0;34m(self, etype, value, tb, tb_offset, number_of_lines_of_context)\u001b[0m\n\u001b[1;32m   1323\u001b[0m mode \u001b[39m=\u001b[39m \u001b[39mself\u001b[39m\u001b[39m.\u001b[39mmode\n\u001b[1;32m   1324\u001b[0m \u001b[39mif\u001b[39;00m mode \u001b[39min\u001b[39;00m \u001b[39mself\u001b[39m\u001b[39m.\u001b[39mverbose_modes:\n\u001b[1;32m   1325\u001b[0m     \u001b[39m# Verbose modes need a full traceback\u001b[39;00m\n\u001b[0;32m-> 1326\u001b[0m     \u001b[39mreturn\u001b[39;00m VerboseTB\u001b[39m.\u001b[39;49mstructured_traceback(\n\u001b[1;32m   1327\u001b[0m         \u001b[39mself\u001b[39;49m, etype, value, tb, tb_offset, number_of_lines_of_context\n\u001b[1;32m   1328\u001b[0m     )\n\u001b[1;32m   1329\u001b[0m \u001b[39melif\u001b[39;00m mode \u001b[39m==\u001b[39m \u001b[39m'\u001b[39m\u001b[39mMinimal\u001b[39m\u001b[39m'\u001b[39m:\n\u001b[1;32m   1330\u001b[0m     \u001b[39mreturn\u001b[39;00m ListTB\u001b[39m.\u001b[39mget_exception_only(\u001b[39mself\u001b[39m, etype, value)\n",
      "File \u001b[0;32m~/anaconda3/envs/visu_projet/lib/python3.11/site-packages/IPython/core/ultratb.py:1173\u001b[0m, in \u001b[0;36mVerboseTB.structured_traceback\u001b[0;34m(self, etype, evalue, etb, tb_offset, number_of_lines_of_context)\u001b[0m\n\u001b[1;32m   1164\u001b[0m \u001b[39mdef\u001b[39;00m \u001b[39mstructured_traceback\u001b[39m(\n\u001b[1;32m   1165\u001b[0m     \u001b[39mself\u001b[39m,\n\u001b[1;32m   1166\u001b[0m     etype: \u001b[39mtype\u001b[39m,\n\u001b[0;32m   (...)\u001b[0m\n\u001b[1;32m   1170\u001b[0m     number_of_lines_of_context: \u001b[39mint\u001b[39m \u001b[39m=\u001b[39m \u001b[39m5\u001b[39m,\n\u001b[1;32m   1171\u001b[0m ):\n\u001b[1;32m   1172\u001b[0m \u001b[39m    \u001b[39m\u001b[39m\"\"\"Return a nice text document describing the traceback.\"\"\"\u001b[39;00m\n\u001b[0;32m-> 1173\u001b[0m     formatted_exception \u001b[39m=\u001b[39m \u001b[39mself\u001b[39;49m\u001b[39m.\u001b[39;49mformat_exception_as_a_whole(etype, evalue, etb, number_of_lines_of_context,\n\u001b[1;32m   1174\u001b[0m                                                            tb_offset)\n\u001b[1;32m   1176\u001b[0m     colors \u001b[39m=\u001b[39m \u001b[39mself\u001b[39m\u001b[39m.\u001b[39mColors  \u001b[39m# just a shorthand + quicker name lookup\u001b[39;00m\n\u001b[1;32m   1177\u001b[0m     colorsnormal \u001b[39m=\u001b[39m colors\u001b[39m.\u001b[39mNormal  \u001b[39m# used a lot\u001b[39;00m\n",
      "File \u001b[0;32m~/anaconda3/envs/visu_projet/lib/python3.11/site-packages/IPython/core/ultratb.py:1063\u001b[0m, in \u001b[0;36mVerboseTB.format_exception_as_a_whole\u001b[0;34m(self, etype, evalue, etb, number_of_lines_of_context, tb_offset)\u001b[0m\n\u001b[1;32m   1060\u001b[0m \u001b[39massert\u001b[39;00m \u001b[39misinstance\u001b[39m(tb_offset, \u001b[39mint\u001b[39m)\n\u001b[1;32m   1061\u001b[0m head \u001b[39m=\u001b[39m \u001b[39mself\u001b[39m\u001b[39m.\u001b[39mprepare_header(\u001b[39mstr\u001b[39m(etype), \u001b[39mself\u001b[39m\u001b[39m.\u001b[39mlong_header)\n\u001b[1;32m   1062\u001b[0m records \u001b[39m=\u001b[39m (\n\u001b[0;32m-> 1063\u001b[0m     \u001b[39mself\u001b[39;49m\u001b[39m.\u001b[39;49mget_records(etb, number_of_lines_of_context, tb_offset) \u001b[39mif\u001b[39;00m etb \u001b[39melse\u001b[39;00m []\n\u001b[1;32m   1064\u001b[0m )\n\u001b[1;32m   1066\u001b[0m frames \u001b[39m=\u001b[39m []\n\u001b[1;32m   1067\u001b[0m skipped \u001b[39m=\u001b[39m \u001b[39m0\u001b[39m\n",
      "File \u001b[0;32m~/anaconda3/envs/visu_projet/lib/python3.11/site-packages/IPython/core/ultratb.py:1131\u001b[0m, in \u001b[0;36mVerboseTB.get_records\u001b[0;34m(self, etb, number_of_lines_of_context, tb_offset)\u001b[0m\n\u001b[1;32m   1129\u001b[0m \u001b[39mwhile\u001b[39;00m cf \u001b[39mis\u001b[39;00m \u001b[39mnot\u001b[39;00m \u001b[39mNone\u001b[39;00m:\n\u001b[1;32m   1130\u001b[0m     \u001b[39mtry\u001b[39;00m:\n\u001b[0;32m-> 1131\u001b[0m         mod \u001b[39m=\u001b[39m inspect\u001b[39m.\u001b[39mgetmodule(cf\u001b[39m.\u001b[39;49mtb_frame)\n\u001b[1;32m   1132\u001b[0m         \u001b[39mif\u001b[39;00m mod \u001b[39mis\u001b[39;00m \u001b[39mnot\u001b[39;00m \u001b[39mNone\u001b[39;00m:\n\u001b[1;32m   1133\u001b[0m             mod_name \u001b[39m=\u001b[39m mod\u001b[39m.\u001b[39m\u001b[39m__name__\u001b[39m\n",
      "\u001b[0;31mAttributeError\u001b[0m: 'tuple' object has no attribute 'tb_frame'"
     ]
    }
   ],
   "source": [
    "from dash import Dash, dcc, html, Input, Output\n",
    "import plotly.express as px\n",
    "\n",
    "app = Dash(__name__)\n",
    "\n",
    "\n",
    "app.layout = html.Div([\n",
    "    html.H4('Polotical candidate voting pool analysis'),\n",
    "    html.P(\"Select a candidate:\"),\n",
    "    dcc.RadioItems(\n",
    "        id='candidate', \n",
    "        options=[\"Joly\", \"Coderre\", \"Bergeron\"],\n",
    "        value=\"Coderre\",\n",
    "        inline=True\n",
    "    ),\n",
    "    dcc.Graph(id=\"graph\"),\n",
    "])\n",
    "\n",
    "\n",
    "@app.callback(\n",
    "    Output(\"graph\", \"figure\"), \n",
    "    Input(\"candidate\", \"value\"))\n",
    "def display_choropleth(candidate):\n",
    "    df = px.data.election() # replace with your own data source\n",
    "    geojson = px.data.election_geojson()\n",
    "    print(geojson)\n",
    "    fig = px.choropleth(\n",
    "        df, geojson=geojson, color=candidate,\n",
    "        locations=\"district\", featureidkey=\"properties.district\",\n",
    "        projection=\"mercator\", range_color=[0, 6500])\n",
    "    fig.update_geos(fitbounds=\"locations\", visible=False)\n",
    "    fig.update_layout(margin={\"r\":0,\"t\":0,\"l\":0,\"b\":0})\n",
    "    return fig\n",
    "\n",
    "\n",
    "app.run_server(debug=True)"
   ]
  },
  {
   "cell_type": "code",
   "execution_count": null,
   "metadata": {},
   "outputs": [
    {
     "data": {
      "application/vnd.plotly.v1+json": {
       "config": {
        "plotlyServerURL": "https://plot.ly"
       },
       "data": [
        {
         "type": "scattergeo"
        }
       ],
       "layout": {
        "geo": {
         "projection": {
          "type": "orthographic"
         }
        },
        "height": 300,
        "margin": {
         "b": 0,
         "l": 0,
         "r": 0,
         "t": 0
        },
        "template": {
         "data": {
          "bar": [
           {
            "error_x": {
             "color": "#2a3f5f"
            },
            "error_y": {
             "color": "#2a3f5f"
            },
            "marker": {
             "line": {
              "color": "#E5ECF6",
              "width": 0.5
             },
             "pattern": {
              "fillmode": "overlay",
              "size": 10,
              "solidity": 0.2
             }
            },
            "type": "bar"
           }
          ],
          "barpolar": [
           {
            "marker": {
             "line": {
              "color": "#E5ECF6",
              "width": 0.5
             },
             "pattern": {
              "fillmode": "overlay",
              "size": 10,
              "solidity": 0.2
             }
            },
            "type": "barpolar"
           }
          ],
          "carpet": [
           {
            "aaxis": {
             "endlinecolor": "#2a3f5f",
             "gridcolor": "white",
             "linecolor": "white",
             "minorgridcolor": "white",
             "startlinecolor": "#2a3f5f"
            },
            "baxis": {
             "endlinecolor": "#2a3f5f",
             "gridcolor": "white",
             "linecolor": "white",
             "minorgridcolor": "white",
             "startlinecolor": "#2a3f5f"
            },
            "type": "carpet"
           }
          ],
          "choropleth": [
           {
            "colorbar": {
             "outlinewidth": 0,
             "ticks": ""
            },
            "type": "choropleth"
           }
          ],
          "contour": [
           {
            "colorbar": {
             "outlinewidth": 0,
             "ticks": ""
            },
            "colorscale": [
             [
              0,
              "#0d0887"
             ],
             [
              0.1111111111111111,
              "#46039f"
             ],
             [
              0.2222222222222222,
              "#7201a8"
             ],
             [
              0.3333333333333333,
              "#9c179e"
             ],
             [
              0.4444444444444444,
              "#bd3786"
             ],
             [
              0.5555555555555556,
              "#d8576b"
             ],
             [
              0.6666666666666666,
              "#ed7953"
             ],
             [
              0.7777777777777778,
              "#fb9f3a"
             ],
             [
              0.8888888888888888,
              "#fdca26"
             ],
             [
              1,
              "#f0f921"
             ]
            ],
            "type": "contour"
           }
          ],
          "contourcarpet": [
           {
            "colorbar": {
             "outlinewidth": 0,
             "ticks": ""
            },
            "type": "contourcarpet"
           }
          ],
          "heatmap": [
           {
            "colorbar": {
             "outlinewidth": 0,
             "ticks": ""
            },
            "colorscale": [
             [
              0,
              "#0d0887"
             ],
             [
              0.1111111111111111,
              "#46039f"
             ],
             [
              0.2222222222222222,
              "#7201a8"
             ],
             [
              0.3333333333333333,
              "#9c179e"
             ],
             [
              0.4444444444444444,
              "#bd3786"
             ],
             [
              0.5555555555555556,
              "#d8576b"
             ],
             [
              0.6666666666666666,
              "#ed7953"
             ],
             [
              0.7777777777777778,
              "#fb9f3a"
             ],
             [
              0.8888888888888888,
              "#fdca26"
             ],
             [
              1,
              "#f0f921"
             ]
            ],
            "type": "heatmap"
           }
          ],
          "heatmapgl": [
           {
            "colorbar": {
             "outlinewidth": 0,
             "ticks": ""
            },
            "colorscale": [
             [
              0,
              "#0d0887"
             ],
             [
              0.1111111111111111,
              "#46039f"
             ],
             [
              0.2222222222222222,
              "#7201a8"
             ],
             [
              0.3333333333333333,
              "#9c179e"
             ],
             [
              0.4444444444444444,
              "#bd3786"
             ],
             [
              0.5555555555555556,
              "#d8576b"
             ],
             [
              0.6666666666666666,
              "#ed7953"
             ],
             [
              0.7777777777777778,
              "#fb9f3a"
             ],
             [
              0.8888888888888888,
              "#fdca26"
             ],
             [
              1,
              "#f0f921"
             ]
            ],
            "type": "heatmapgl"
           }
          ],
          "histogram": [
           {
            "marker": {
             "pattern": {
              "fillmode": "overlay",
              "size": 10,
              "solidity": 0.2
             }
            },
            "type": "histogram"
           }
          ],
          "histogram2d": [
           {
            "colorbar": {
             "outlinewidth": 0,
             "ticks": ""
            },
            "colorscale": [
             [
              0,
              "#0d0887"
             ],
             [
              0.1111111111111111,
              "#46039f"
             ],
             [
              0.2222222222222222,
              "#7201a8"
             ],
             [
              0.3333333333333333,
              "#9c179e"
             ],
             [
              0.4444444444444444,
              "#bd3786"
             ],
             [
              0.5555555555555556,
              "#d8576b"
             ],
             [
              0.6666666666666666,
              "#ed7953"
             ],
             [
              0.7777777777777778,
              "#fb9f3a"
             ],
             [
              0.8888888888888888,
              "#fdca26"
             ],
             [
              1,
              "#f0f921"
             ]
            ],
            "type": "histogram2d"
           }
          ],
          "histogram2dcontour": [
           {
            "colorbar": {
             "outlinewidth": 0,
             "ticks": ""
            },
            "colorscale": [
             [
              0,
              "#0d0887"
             ],
             [
              0.1111111111111111,
              "#46039f"
             ],
             [
              0.2222222222222222,
              "#7201a8"
             ],
             [
              0.3333333333333333,
              "#9c179e"
             ],
             [
              0.4444444444444444,
              "#bd3786"
             ],
             [
              0.5555555555555556,
              "#d8576b"
             ],
             [
              0.6666666666666666,
              "#ed7953"
             ],
             [
              0.7777777777777778,
              "#fb9f3a"
             ],
             [
              0.8888888888888888,
              "#fdca26"
             ],
             [
              1,
              "#f0f921"
             ]
            ],
            "type": "histogram2dcontour"
           }
          ],
          "mesh3d": [
           {
            "colorbar": {
             "outlinewidth": 0,
             "ticks": ""
            },
            "type": "mesh3d"
           }
          ],
          "parcoords": [
           {
            "line": {
             "colorbar": {
              "outlinewidth": 0,
              "ticks": ""
             }
            },
            "type": "parcoords"
           }
          ],
          "pie": [
           {
            "automargin": true,
            "type": "pie"
           }
          ],
          "scatter": [
           {
            "fillpattern": {
             "fillmode": "overlay",
             "size": 10,
             "solidity": 0.2
            },
            "type": "scatter"
           }
          ],
          "scatter3d": [
           {
            "line": {
             "colorbar": {
              "outlinewidth": 0,
              "ticks": ""
             }
            },
            "marker": {
             "colorbar": {
              "outlinewidth": 0,
              "ticks": ""
             }
            },
            "type": "scatter3d"
           }
          ],
          "scattercarpet": [
           {
            "marker": {
             "colorbar": {
              "outlinewidth": 0,
              "ticks": ""
             }
            },
            "type": "scattercarpet"
           }
          ],
          "scattergeo": [
           {
            "marker": {
             "colorbar": {
              "outlinewidth": 0,
              "ticks": ""
             }
            },
            "type": "scattergeo"
           }
          ],
          "scattergl": [
           {
            "marker": {
             "colorbar": {
              "outlinewidth": 0,
              "ticks": ""
             }
            },
            "type": "scattergl"
           }
          ],
          "scattermapbox": [
           {
            "marker": {
             "colorbar": {
              "outlinewidth": 0,
              "ticks": ""
             }
            },
            "type": "scattermapbox"
           }
          ],
          "scatterpolar": [
           {
            "marker": {
             "colorbar": {
              "outlinewidth": 0,
              "ticks": ""
             }
            },
            "type": "scatterpolar"
           }
          ],
          "scatterpolargl": [
           {
            "marker": {
             "colorbar": {
              "outlinewidth": 0,
              "ticks": ""
             }
            },
            "type": "scatterpolargl"
           }
          ],
          "scatterternary": [
           {
            "marker": {
             "colorbar": {
              "outlinewidth": 0,
              "ticks": ""
             }
            },
            "type": "scatterternary"
           }
          ],
          "surface": [
           {
            "colorbar": {
             "outlinewidth": 0,
             "ticks": ""
            },
            "colorscale": [
             [
              0,
              "#0d0887"
             ],
             [
              0.1111111111111111,
              "#46039f"
             ],
             [
              0.2222222222222222,
              "#7201a8"
             ],
             [
              0.3333333333333333,
              "#9c179e"
             ],
             [
              0.4444444444444444,
              "#bd3786"
             ],
             [
              0.5555555555555556,
              "#d8576b"
             ],
             [
              0.6666666666666666,
              "#ed7953"
             ],
             [
              0.7777777777777778,
              "#fb9f3a"
             ],
             [
              0.8888888888888888,
              "#fdca26"
             ],
             [
              1,
              "#f0f921"
             ]
            ],
            "type": "surface"
           }
          ],
          "table": [
           {
            "cells": {
             "fill": {
              "color": "#EBF0F8"
             },
             "line": {
              "color": "white"
             }
            },
            "header": {
             "fill": {
              "color": "#C8D4E3"
             },
             "line": {
              "color": "white"
             }
            },
            "type": "table"
           }
          ]
         },
         "layout": {
          "annotationdefaults": {
           "arrowcolor": "#2a3f5f",
           "arrowhead": 0,
           "arrowwidth": 1
          },
          "autotypenumbers": "strict",
          "coloraxis": {
           "colorbar": {
            "outlinewidth": 0,
            "ticks": ""
           }
          },
          "colorscale": {
           "diverging": [
            [
             0,
             "#8e0152"
            ],
            [
             0.1,
             "#c51b7d"
            ],
            [
             0.2,
             "#de77ae"
            ],
            [
             0.3,
             "#f1b6da"
            ],
            [
             0.4,
             "#fde0ef"
            ],
            [
             0.5,
             "#f7f7f7"
            ],
            [
             0.6,
             "#e6f5d0"
            ],
            [
             0.7,
             "#b8e186"
            ],
            [
             0.8,
             "#7fbc41"
            ],
            [
             0.9,
             "#4d9221"
            ],
            [
             1,
             "#276419"
            ]
           ],
           "sequential": [
            [
             0,
             "#0d0887"
            ],
            [
             0.1111111111111111,
             "#46039f"
            ],
            [
             0.2222222222222222,
             "#7201a8"
            ],
            [
             0.3333333333333333,
             "#9c179e"
            ],
            [
             0.4444444444444444,
             "#bd3786"
            ],
            [
             0.5555555555555556,
             "#d8576b"
            ],
            [
             0.6666666666666666,
             "#ed7953"
            ],
            [
             0.7777777777777778,
             "#fb9f3a"
            ],
            [
             0.8888888888888888,
             "#fdca26"
            ],
            [
             1,
             "#f0f921"
            ]
           ],
           "sequentialminus": [
            [
             0,
             "#0d0887"
            ],
            [
             0.1111111111111111,
             "#46039f"
            ],
            [
             0.2222222222222222,
             "#7201a8"
            ],
            [
             0.3333333333333333,
             "#9c179e"
            ],
            [
             0.4444444444444444,
             "#bd3786"
            ],
            [
             0.5555555555555556,
             "#d8576b"
            ],
            [
             0.6666666666666666,
             "#ed7953"
            ],
            [
             0.7777777777777778,
             "#fb9f3a"
            ],
            [
             0.8888888888888888,
             "#fdca26"
            ],
            [
             1,
             "#f0f921"
            ]
           ]
          },
          "colorway": [
           "#636efa",
           "#EF553B",
           "#00cc96",
           "#ab63fa",
           "#FFA15A",
           "#19d3f3",
           "#FF6692",
           "#B6E880",
           "#FF97FF",
           "#FECB52"
          ],
          "font": {
           "color": "#2a3f5f"
          },
          "geo": {
           "bgcolor": "white",
           "lakecolor": "white",
           "landcolor": "#E5ECF6",
           "showlakes": true,
           "showland": true,
           "subunitcolor": "white"
          },
          "hoverlabel": {
           "align": "left"
          },
          "hovermode": "closest",
          "mapbox": {
           "style": "light"
          },
          "paper_bgcolor": "white",
          "plot_bgcolor": "#E5ECF6",
          "polar": {
           "angularaxis": {
            "gridcolor": "white",
            "linecolor": "white",
            "ticks": ""
           },
           "bgcolor": "#E5ECF6",
           "radialaxis": {
            "gridcolor": "white",
            "linecolor": "white",
            "ticks": ""
           }
          },
          "scene": {
           "xaxis": {
            "backgroundcolor": "#E5ECF6",
            "gridcolor": "white",
            "gridwidth": 2,
            "linecolor": "white",
            "showbackground": true,
            "ticks": "",
            "zerolinecolor": "white"
           },
           "yaxis": {
            "backgroundcolor": "#E5ECF6",
            "gridcolor": "white",
            "gridwidth": 2,
            "linecolor": "white",
            "showbackground": true,
            "ticks": "",
            "zerolinecolor": "white"
           },
           "zaxis": {
            "backgroundcolor": "#E5ECF6",
            "gridcolor": "white",
            "gridwidth": 2,
            "linecolor": "white",
            "showbackground": true,
            "ticks": "",
            "zerolinecolor": "white"
           }
          },
          "shapedefaults": {
           "line": {
            "color": "#2a3f5f"
           }
          },
          "ternary": {
           "aaxis": {
            "gridcolor": "white",
            "linecolor": "white",
            "ticks": ""
           },
           "baxis": {
            "gridcolor": "white",
            "linecolor": "white",
            "ticks": ""
           },
           "bgcolor": "#E5ECF6",
           "caxis": {
            "gridcolor": "white",
            "linecolor": "white",
            "ticks": ""
           }
          },
          "title": {
           "x": 0.05
          },
          "xaxis": {
           "automargin": true,
           "gridcolor": "white",
           "linecolor": "white",
           "ticks": "",
           "title": {
            "standoff": 15
           },
           "zerolinecolor": "white",
           "zerolinewidth": 2
          },
          "yaxis": {
           "automargin": true,
           "gridcolor": "white",
           "linecolor": "white",
           "ticks": "",
           "title": {
            "standoff": 15
           },
           "zerolinecolor": "white",
           "zerolinewidth": 2
          }
         }
        }
       }
      }
     },
     "metadata": {},
     "output_type": "display_data"
    }
   ],
   "source": [
    "import plotly.graph_objects as go\n",
    "\n",
    "fig = go.Figure(go.Scattergeo())\n",
    "fig.update_geos(projection_type=\"orthographic\")\n",
    "fig.update_layout(height=300, margin={\"r\":0,\"t\":0,\"l\":0,\"b\":0})\n",
    "fig.show()"
   ]
  },
  {
   "cell_type": "code",
   "execution_count": null,
   "metadata": {},
   "outputs": [
    {
     "data": {
      "application/vnd.plotly.v1+json": {
       "config": {
        "plotlyServerURL": "https://plot.ly"
       },
       "data": [
        {
         "type": "scattergeo"
        }
       ],
       "layout": {
        "geo": {
         "projection": {
          "type": "natural earth"
         }
        },
        "height": 300,
        "margin": {
         "b": 0,
         "l": 0,
         "r": 0,
         "t": 0
        },
        "template": {
         "data": {
          "bar": [
           {
            "error_x": {
             "color": "#2a3f5f"
            },
            "error_y": {
             "color": "#2a3f5f"
            },
            "marker": {
             "line": {
              "color": "#E5ECF6",
              "width": 0.5
             },
             "pattern": {
              "fillmode": "overlay",
              "size": 10,
              "solidity": 0.2
             }
            },
            "type": "bar"
           }
          ],
          "barpolar": [
           {
            "marker": {
             "line": {
              "color": "#E5ECF6",
              "width": 0.5
             },
             "pattern": {
              "fillmode": "overlay",
              "size": 10,
              "solidity": 0.2
             }
            },
            "type": "barpolar"
           }
          ],
          "carpet": [
           {
            "aaxis": {
             "endlinecolor": "#2a3f5f",
             "gridcolor": "white",
             "linecolor": "white",
             "minorgridcolor": "white",
             "startlinecolor": "#2a3f5f"
            },
            "baxis": {
             "endlinecolor": "#2a3f5f",
             "gridcolor": "white",
             "linecolor": "white",
             "minorgridcolor": "white",
             "startlinecolor": "#2a3f5f"
            },
            "type": "carpet"
           }
          ],
          "choropleth": [
           {
            "colorbar": {
             "outlinewidth": 0,
             "ticks": ""
            },
            "type": "choropleth"
           }
          ],
          "contour": [
           {
            "colorbar": {
             "outlinewidth": 0,
             "ticks": ""
            },
            "colorscale": [
             [
              0,
              "#0d0887"
             ],
             [
              0.1111111111111111,
              "#46039f"
             ],
             [
              0.2222222222222222,
              "#7201a8"
             ],
             [
              0.3333333333333333,
              "#9c179e"
             ],
             [
              0.4444444444444444,
              "#bd3786"
             ],
             [
              0.5555555555555556,
              "#d8576b"
             ],
             [
              0.6666666666666666,
              "#ed7953"
             ],
             [
              0.7777777777777778,
              "#fb9f3a"
             ],
             [
              0.8888888888888888,
              "#fdca26"
             ],
             [
              1,
              "#f0f921"
             ]
            ],
            "type": "contour"
           }
          ],
          "contourcarpet": [
           {
            "colorbar": {
             "outlinewidth": 0,
             "ticks": ""
            },
            "type": "contourcarpet"
           }
          ],
          "heatmap": [
           {
            "colorbar": {
             "outlinewidth": 0,
             "ticks": ""
            },
            "colorscale": [
             [
              0,
              "#0d0887"
             ],
             [
              0.1111111111111111,
              "#46039f"
             ],
             [
              0.2222222222222222,
              "#7201a8"
             ],
             [
              0.3333333333333333,
              "#9c179e"
             ],
             [
              0.4444444444444444,
              "#bd3786"
             ],
             [
              0.5555555555555556,
              "#d8576b"
             ],
             [
              0.6666666666666666,
              "#ed7953"
             ],
             [
              0.7777777777777778,
              "#fb9f3a"
             ],
             [
              0.8888888888888888,
              "#fdca26"
             ],
             [
              1,
              "#f0f921"
             ]
            ],
            "type": "heatmap"
           }
          ],
          "heatmapgl": [
           {
            "colorbar": {
             "outlinewidth": 0,
             "ticks": ""
            },
            "colorscale": [
             [
              0,
              "#0d0887"
             ],
             [
              0.1111111111111111,
              "#46039f"
             ],
             [
              0.2222222222222222,
              "#7201a8"
             ],
             [
              0.3333333333333333,
              "#9c179e"
             ],
             [
              0.4444444444444444,
              "#bd3786"
             ],
             [
              0.5555555555555556,
              "#d8576b"
             ],
             [
              0.6666666666666666,
              "#ed7953"
             ],
             [
              0.7777777777777778,
              "#fb9f3a"
             ],
             [
              0.8888888888888888,
              "#fdca26"
             ],
             [
              1,
              "#f0f921"
             ]
            ],
            "type": "heatmapgl"
           }
          ],
          "histogram": [
           {
            "marker": {
             "pattern": {
              "fillmode": "overlay",
              "size": 10,
              "solidity": 0.2
             }
            },
            "type": "histogram"
           }
          ],
          "histogram2d": [
           {
            "colorbar": {
             "outlinewidth": 0,
             "ticks": ""
            },
            "colorscale": [
             [
              0,
              "#0d0887"
             ],
             [
              0.1111111111111111,
              "#46039f"
             ],
             [
              0.2222222222222222,
              "#7201a8"
             ],
             [
              0.3333333333333333,
              "#9c179e"
             ],
             [
              0.4444444444444444,
              "#bd3786"
             ],
             [
              0.5555555555555556,
              "#d8576b"
             ],
             [
              0.6666666666666666,
              "#ed7953"
             ],
             [
              0.7777777777777778,
              "#fb9f3a"
             ],
             [
              0.8888888888888888,
              "#fdca26"
             ],
             [
              1,
              "#f0f921"
             ]
            ],
            "type": "histogram2d"
           }
          ],
          "histogram2dcontour": [
           {
            "colorbar": {
             "outlinewidth": 0,
             "ticks": ""
            },
            "colorscale": [
             [
              0,
              "#0d0887"
             ],
             [
              0.1111111111111111,
              "#46039f"
             ],
             [
              0.2222222222222222,
              "#7201a8"
             ],
             [
              0.3333333333333333,
              "#9c179e"
             ],
             [
              0.4444444444444444,
              "#bd3786"
             ],
             [
              0.5555555555555556,
              "#d8576b"
             ],
             [
              0.6666666666666666,
              "#ed7953"
             ],
             [
              0.7777777777777778,
              "#fb9f3a"
             ],
             [
              0.8888888888888888,
              "#fdca26"
             ],
             [
              1,
              "#f0f921"
             ]
            ],
            "type": "histogram2dcontour"
           }
          ],
          "mesh3d": [
           {
            "colorbar": {
             "outlinewidth": 0,
             "ticks": ""
            },
            "type": "mesh3d"
           }
          ],
          "parcoords": [
           {
            "line": {
             "colorbar": {
              "outlinewidth": 0,
              "ticks": ""
             }
            },
            "type": "parcoords"
           }
          ],
          "pie": [
           {
            "automargin": true,
            "type": "pie"
           }
          ],
          "scatter": [
           {
            "fillpattern": {
             "fillmode": "overlay",
             "size": 10,
             "solidity": 0.2
            },
            "type": "scatter"
           }
          ],
          "scatter3d": [
           {
            "line": {
             "colorbar": {
              "outlinewidth": 0,
              "ticks": ""
             }
            },
            "marker": {
             "colorbar": {
              "outlinewidth": 0,
              "ticks": ""
             }
            },
            "type": "scatter3d"
           }
          ],
          "scattercarpet": [
           {
            "marker": {
             "colorbar": {
              "outlinewidth": 0,
              "ticks": ""
             }
            },
            "type": "scattercarpet"
           }
          ],
          "scattergeo": [
           {
            "marker": {
             "colorbar": {
              "outlinewidth": 0,
              "ticks": ""
             }
            },
            "type": "scattergeo"
           }
          ],
          "scattergl": [
           {
            "marker": {
             "colorbar": {
              "outlinewidth": 0,
              "ticks": ""
             }
            },
            "type": "scattergl"
           }
          ],
          "scattermapbox": [
           {
            "marker": {
             "colorbar": {
              "outlinewidth": 0,
              "ticks": ""
             }
            },
            "type": "scattermapbox"
           }
          ],
          "scatterpolar": [
           {
            "marker": {
             "colorbar": {
              "outlinewidth": 0,
              "ticks": ""
             }
            },
            "type": "scatterpolar"
           }
          ],
          "scatterpolargl": [
           {
            "marker": {
             "colorbar": {
              "outlinewidth": 0,
              "ticks": ""
             }
            },
            "type": "scatterpolargl"
           }
          ],
          "scatterternary": [
           {
            "marker": {
             "colorbar": {
              "outlinewidth": 0,
              "ticks": ""
             }
            },
            "type": "scatterternary"
           }
          ],
          "surface": [
           {
            "colorbar": {
             "outlinewidth": 0,
             "ticks": ""
            },
            "colorscale": [
             [
              0,
              "#0d0887"
             ],
             [
              0.1111111111111111,
              "#46039f"
             ],
             [
              0.2222222222222222,
              "#7201a8"
             ],
             [
              0.3333333333333333,
              "#9c179e"
             ],
             [
              0.4444444444444444,
              "#bd3786"
             ],
             [
              0.5555555555555556,
              "#d8576b"
             ],
             [
              0.6666666666666666,
              "#ed7953"
             ],
             [
              0.7777777777777778,
              "#fb9f3a"
             ],
             [
              0.8888888888888888,
              "#fdca26"
             ],
             [
              1,
              "#f0f921"
             ]
            ],
            "type": "surface"
           }
          ],
          "table": [
           {
            "cells": {
             "fill": {
              "color": "#EBF0F8"
             },
             "line": {
              "color": "white"
             }
            },
            "header": {
             "fill": {
              "color": "#C8D4E3"
             },
             "line": {
              "color": "white"
             }
            },
            "type": "table"
           }
          ]
         },
         "layout": {
          "annotationdefaults": {
           "arrowcolor": "#2a3f5f",
           "arrowhead": 0,
           "arrowwidth": 1
          },
          "autotypenumbers": "strict",
          "coloraxis": {
           "colorbar": {
            "outlinewidth": 0,
            "ticks": ""
           }
          },
          "colorscale": {
           "diverging": [
            [
             0,
             "#8e0152"
            ],
            [
             0.1,
             "#c51b7d"
            ],
            [
             0.2,
             "#de77ae"
            ],
            [
             0.3,
             "#f1b6da"
            ],
            [
             0.4,
             "#fde0ef"
            ],
            [
             0.5,
             "#f7f7f7"
            ],
            [
             0.6,
             "#e6f5d0"
            ],
            [
             0.7,
             "#b8e186"
            ],
            [
             0.8,
             "#7fbc41"
            ],
            [
             0.9,
             "#4d9221"
            ],
            [
             1,
             "#276419"
            ]
           ],
           "sequential": [
            [
             0,
             "#0d0887"
            ],
            [
             0.1111111111111111,
             "#46039f"
            ],
            [
             0.2222222222222222,
             "#7201a8"
            ],
            [
             0.3333333333333333,
             "#9c179e"
            ],
            [
             0.4444444444444444,
             "#bd3786"
            ],
            [
             0.5555555555555556,
             "#d8576b"
            ],
            [
             0.6666666666666666,
             "#ed7953"
            ],
            [
             0.7777777777777778,
             "#fb9f3a"
            ],
            [
             0.8888888888888888,
             "#fdca26"
            ],
            [
             1,
             "#f0f921"
            ]
           ],
           "sequentialminus": [
            [
             0,
             "#0d0887"
            ],
            [
             0.1111111111111111,
             "#46039f"
            ],
            [
             0.2222222222222222,
             "#7201a8"
            ],
            [
             0.3333333333333333,
             "#9c179e"
            ],
            [
             0.4444444444444444,
             "#bd3786"
            ],
            [
             0.5555555555555556,
             "#d8576b"
            ],
            [
             0.6666666666666666,
             "#ed7953"
            ],
            [
             0.7777777777777778,
             "#fb9f3a"
            ],
            [
             0.8888888888888888,
             "#fdca26"
            ],
            [
             1,
             "#f0f921"
            ]
           ]
          },
          "colorway": [
           "#636efa",
           "#EF553B",
           "#00cc96",
           "#ab63fa",
           "#FFA15A",
           "#19d3f3",
           "#FF6692",
           "#B6E880",
           "#FF97FF",
           "#FECB52"
          ],
          "font": {
           "color": "#2a3f5f"
          },
          "geo": {
           "bgcolor": "white",
           "lakecolor": "white",
           "landcolor": "#E5ECF6",
           "showlakes": true,
           "showland": true,
           "subunitcolor": "white"
          },
          "hoverlabel": {
           "align": "left"
          },
          "hovermode": "closest",
          "mapbox": {
           "style": "light"
          },
          "paper_bgcolor": "white",
          "plot_bgcolor": "#E5ECF6",
          "polar": {
           "angularaxis": {
            "gridcolor": "white",
            "linecolor": "white",
            "ticks": ""
           },
           "bgcolor": "#E5ECF6",
           "radialaxis": {
            "gridcolor": "white",
            "linecolor": "white",
            "ticks": ""
           }
          },
          "scene": {
           "xaxis": {
            "backgroundcolor": "#E5ECF6",
            "gridcolor": "white",
            "gridwidth": 2,
            "linecolor": "white",
            "showbackground": true,
            "ticks": "",
            "zerolinecolor": "white"
           },
           "yaxis": {
            "backgroundcolor": "#E5ECF6",
            "gridcolor": "white",
            "gridwidth": 2,
            "linecolor": "white",
            "showbackground": true,
            "ticks": "",
            "zerolinecolor": "white"
           },
           "zaxis": {
            "backgroundcolor": "#E5ECF6",
            "gridcolor": "white",
            "gridwidth": 2,
            "linecolor": "white",
            "showbackground": true,
            "ticks": "",
            "zerolinecolor": "white"
           }
          },
          "shapedefaults": {
           "line": {
            "color": "#2a3f5f"
           }
          },
          "ternary": {
           "aaxis": {
            "gridcolor": "white",
            "linecolor": "white",
            "ticks": ""
           },
           "baxis": {
            "gridcolor": "white",
            "linecolor": "white",
            "ticks": ""
           },
           "bgcolor": "#E5ECF6",
           "caxis": {
            "gridcolor": "white",
            "linecolor": "white",
            "ticks": ""
           }
          },
          "title": {
           "x": 0.05
          },
          "xaxis": {
           "automargin": true,
           "gridcolor": "white",
           "linecolor": "white",
           "ticks": "",
           "title": {
            "standoff": 15
           },
           "zerolinecolor": "white",
           "zerolinewidth": 2
          },
          "yaxis": {
           "automargin": true,
           "gridcolor": "white",
           "linecolor": "white",
           "ticks": "",
           "title": {
            "standoff": 15
           },
           "zerolinecolor": "white",
           "zerolinewidth": 2
          }
         }
        }
       }
      }
     },
     "metadata": {},
     "output_type": "display_data"
    }
   ],
   "source": [
    "import plotly.graph_objects as go\n",
    "\n",
    "fig = go.Figure(go.Scattergeo())\n",
    "fig.update_geos(projection_type=\"natural earth\")\n",
    "fig.update_layout(height=300, margin={\"r\":0,\"t\":0,\"l\":0,\"b\":0})\n",
    "fig.show()"
   ]
  },
  {
   "cell_type": "code",
   "execution_count": null,
   "metadata": {},
   "outputs": [
    {
     "data": {
      "application/vnd.plotly.v1+json": {
       "config": {
        "plotlyServerURL": "https://plot.ly"
       },
       "data": [
        {
         "autocolorscale": false,
         "colorbar": {
          "title": {
           "text": "Points donnés"
          }
         },
         "colorscale": [
          [
           0,
           "#440154"
          ],
          [
           0.1111111111111111,
           "#482878"
          ],
          [
           0.2222222222222222,
           "#3e4989"
          ],
          [
           0.3333333333333333,
           "#31688e"
          ],
          [
           0.4444444444444444,
           "#26828e"
          ],
          [
           0.5555555555555556,
           "#1f9e89"
          ],
          [
           0.6666666666666666,
           "#35b779"
          ],
          [
           0.7777777777777778,
           "#6ece58"
          ],
          [
           0.8888888888888888,
           "#b5de2b"
          ],
          [
           1,
           "#fde725"
          ]
         ],
         "locationmode": "country names",
         "locations": [
          "Afghanistan",
          "Curacao",
          "Albania",
          "Algeria",
          "Andorra",
          "Angola",
          "Antigua",
          "Australasia",
          "Argentina",
          "Armenia",
          "Aruba",
          "American Samoa",
          "Australia",
          "Austria",
          "Azerbaijan",
          "Bahamas",
          "Bangladesh",
          "Barbados",
          "Burundi",
          "Belgium",
          "Benin",
          "Bermuda",
          "Bhutan",
          "Bosnia and Herzegovina",
          "Belize",
          "Belarus",
          "Czech Republic",
          "Boliva",
          "Botswana",
          "Brazil",
          "Bahrain",
          "Brunei",
          "Bulgaria",
          "Burkina Faso",
          "Central African Republic",
          "Cambodia",
          "Canada",
          "Cayman Islands",
          "Republic of Congo",
          "Chad",
          "Chile",
          "China",
          "Ivory Coast",
          "Cameroon",
          "Democratic Republic of the Congo",
          "Cook Islands",
          "Colombia",
          "Comoros",
          "Cape Verde",
          "Costa Rica",
          "Croatia",
          "Crete",
          "Cuba",
          "Cyprus",
          "Czech Republic",
          "Denmark",
          "Djibouti",
          "Dominica",
          "Dominican Republic",
          "Ecuador",
          "Egypt",
          "Eritrea",
          "El Salvador",
          "Spain",
          "Estonia",
          "Ethiopia",
          "Russia",
          "Fiji",
          "Finland",
          "France",
          "Germany",
          "Micronesia",
          "Gabon",
          "Gambia",
          "UK",
          "Guinea-Bissau",
          "Germany",
          "Georgia",
          "Equatorial Guinea",
          "Germany",
          "Ghana",
          "Greece",
          "Grenada",
          "Guatemala",
          "Guinea",
          "Guam",
          "Guyana",
          "Haiti",
          "Hong Kong",
          "Honduras",
          "Hungary",
          "Indonesia",
          "India",
          "Individual Olympic Athletes",
          "Iran",
          "Ireland",
          "Iraq",
          "Iceland",
          "Israel",
          "Virgin Islands, US",
          "Italy",
          "Virgin Islands, British",
          "Jamaica",
          "Jordan",
          "Japan",
          "Kazakhstan",
          "Kenya",
          "Kyrgyzstan",
          "Kiribati",
          "South Korea",
          "Kosovo",
          "Saudi Arabia",
          "Kuwait",
          "Laos",
          "Latvia",
          "Libya",
          "Liberia",
          "Saint Lucia",
          "Lesotho",
          "Lebanon",
          "Liechtenstein",
          "Lithuania",
          "Luxembourg",
          "Madagascar",
          "Malaysia",
          "Morocco",
          "Malaysia",
          "Malawi",
          "Moldova",
          "Maldives",
          "Mexico",
          "Mongolia",
          "Marshall Islands",
          "Macedonia",
          "Mali",
          "Malta",
          "Montenegro",
          "Monaco",
          "Mozambique",
          "Mauritius",
          "Mauritania",
          "Myanmar",
          "Namibia",
          "Malaysia",
          "Nicaragua",
          "Netherlands",
          "Nepal",
          "Canada",
          "Nigeria",
          "Niger",
          "Norway",
          "Nauru",
          "New Zealand",
          "Oman",
          "Pakistan",
          "Panama",
          "Paraguay",
          "Peru",
          "Philippines",
          "Palestine",
          "Palau",
          "Papua New Guinea",
          "Poland",
          "Portugal",
          "North Korea",
          "Puerto Rico",
          "Qatar",
          "Zimbabwe",
          null,
          "Romania",
          "South Africa",
          "Russia",
          "Rwanda",
          "Germany",
          "Samoa",
          "Serbia",
          "Senegal",
          "Seychelles",
          "Singapore",
          "Saint Kitts",
          "Sierra Leone",
          "Slovenia",
          "San Marino",
          "Solomon Islands",
          "Somalia",
          "Serbia",
          "Sri Lanka",
          "South Sudan",
          "Sao Tome and Principe",
          "Sudan",
          "Switzerland",
          "Suriname",
          "Slovakia",
          "Sweden",
          "Swaziland",
          "Syria",
          "Tanzania",
          "Czech Republic",
          "Tonga",
          "Thailand",
          "Tajikistan",
          "Turkmenistan",
          "Timor-Leste",
          "Togo",
          "Taiwan",
          "Trinidad",
          "Tunisia",
          "Turkey",
          null,
          "United Arab Emirates",
          "Syria",
          "Uganda",
          "Ukraine",
          null,
          "Russia",
          "Uruguay",
          "USA",
          "Uzbekistan",
          "Vanuatu",
          "Venezuela",
          "Vietnam",
          "Saint Vincent",
          "Vietnam",
          "Trinidad",
          "Yemen",
          "Yemen",
          "Yemen",
          "Serbia",
          "Zambia",
          "Zimbabwe"
         ],
         "text": [
          "Afghanistan",
          "Curacao",
          "Albania",
          "Algeria",
          "Andorra",
          "Angola",
          "Antigua",
          "Australasia",
          "Argentina",
          "Armenia",
          "Aruba",
          "American Samoa",
          "Australia",
          "Austria",
          "Azerbaijan",
          "Bahamas",
          "Bangladesh",
          "Barbados",
          "Burundi",
          "Belgium",
          "Benin",
          "Bermuda",
          "Bhutan",
          "Bosnia and Herzegovina",
          "Belize",
          "Belarus",
          "Czech Republic",
          "Boliva",
          "Botswana",
          "Brazil",
          "Bahrain",
          "Brunei",
          "Bulgaria",
          "Burkina Faso",
          "Central African Republic",
          "Cambodia",
          "Canada",
          "Cayman Islands",
          "Republic of Congo",
          "Chad",
          "Chile",
          "China",
          "Ivory Coast",
          "Cameroon",
          "Democratic Republic of the Congo",
          "Cook Islands",
          "Colombia",
          "Comoros",
          "Cape Verde",
          "Costa Rica",
          "Croatia",
          "Crete",
          "Cuba",
          "Cyprus",
          "Czech Republic",
          "Denmark",
          "Djibouti",
          "Dominica",
          "Dominican Republic",
          "Ecuador",
          "Egypt",
          "Eritrea",
          "El Salvador",
          "Spain",
          "Estonia",
          "Ethiopia",
          "Russia",
          "Fiji",
          "Finland",
          "France",
          "Germany",
          "Micronesia",
          "Gabon",
          "Gambia",
          "UK",
          "Guinea-Bissau",
          "Germany",
          "Georgia",
          "Equatorial Guinea",
          "Germany",
          "Ghana",
          "Greece",
          "Grenada",
          "Guatemala",
          "Guinea",
          "Guam",
          "Guyana",
          "Haiti",
          "Hong Kong",
          "Honduras",
          "Hungary",
          "Indonesia",
          "India",
          "Individual Olympic Athletes",
          "Iran",
          "Ireland",
          "Iraq",
          "Iceland",
          "Israel",
          "Virgin Islands, US",
          "Italy",
          "Virgin Islands, British",
          "Jamaica",
          "Jordan",
          "Japan",
          "Kazakhstan",
          "Kenya",
          "Kyrgyzstan",
          "Kiribati",
          "South Korea",
          "Kosovo",
          "Saudi Arabia",
          "Kuwait",
          "Laos",
          "Latvia",
          "Libya",
          "Liberia",
          "Saint Lucia",
          "Lesotho",
          "Lebanon",
          "Liechtenstein",
          "Lithuania",
          "Luxembourg",
          "Madagascar",
          "Malaysia",
          "Morocco",
          "Malaysia",
          "Malawi",
          "Moldova",
          "Maldives",
          "Mexico",
          "Mongolia",
          "Marshall Islands",
          "Macedonia",
          "Mali",
          "Malta",
          "Montenegro",
          "Monaco",
          "Mozambique",
          "Mauritius",
          "Mauritania",
          "Myanmar",
          "Namibia",
          "Malaysia",
          "Nicaragua",
          "Netherlands",
          "Nepal",
          "Canada",
          "Nigeria",
          "Niger",
          "Norway",
          "Nauru",
          "New Zealand",
          "Oman",
          "Pakistan",
          "Panama",
          "Paraguay",
          "Peru",
          "Philippines",
          "Palestine",
          "Palau",
          "Papua New Guinea",
          "Poland",
          "Portugal",
          "North Korea",
          "Puerto Rico",
          "Qatar",
          "Zimbabwe",
          null,
          "Romania",
          "South Africa",
          "Russia",
          "Rwanda",
          "Germany",
          "Samoa",
          "Serbia",
          "Senegal",
          "Seychelles",
          "Singapore",
          "Saint Kitts",
          "Sierra Leone",
          "Slovenia",
          "San Marino",
          "Solomon Islands",
          "Somalia",
          "Serbia",
          "Sri Lanka",
          "South Sudan",
          "Sao Tome and Principe",
          "Sudan",
          "Switzerland",
          "Suriname",
          "Slovakia",
          "Sweden",
          "Swaziland",
          "Syria",
          "Tanzania",
          "Czech Republic",
          "Tonga",
          "Thailand",
          "Tajikistan",
          "Turkmenistan",
          "Timor-Leste",
          "Togo",
          "Taiwan",
          "Trinidad",
          "Tunisia",
          "Turkey",
          null,
          "United Arab Emirates",
          "Syria",
          "Uganda",
          "Ukraine",
          null,
          "Russia",
          "Uruguay",
          "USA",
          "Uzbekistan",
          "Vanuatu",
          "Venezuela",
          "Vietnam",
          "Saint Vincent",
          "Vietnam",
          "Trinidad",
          "Yemen",
          "Yemen",
          "Yemen",
          "Serbia",
          "Zambia",
          "Zimbabwe"
         ],
         "type": "choropleth",
         "z": [
          "Afghanistan",
          "Curacao",
          "Albania",
          "Algeria",
          "Andorra",
          "Angola",
          "Antigua",
          "Australasia",
          "Argentina",
          "Armenia",
          "Aruba",
          "American Samoa",
          "Australia",
          "Austria",
          "Azerbaijan",
          "Bahamas",
          "Bangladesh",
          "Barbados",
          "Burundi",
          "Belgium",
          "Benin",
          "Bermuda",
          "Bhutan",
          "Bosnia and Herzegovina",
          "Belize",
          "Belarus",
          "Czech Republic",
          "Boliva",
          "Botswana",
          "Brazil",
          "Bahrain",
          "Brunei",
          "Bulgaria",
          "Burkina Faso",
          "Central African Republic",
          "Cambodia",
          "Canada",
          "Cayman Islands",
          "Republic of Congo",
          "Chad",
          "Chile",
          "China",
          "Ivory Coast",
          "Cameroon",
          "Democratic Republic of the Congo",
          "Cook Islands",
          "Colombia",
          "Comoros",
          "Cape Verde",
          "Costa Rica",
          "Croatia",
          "Crete",
          "Cuba",
          "Cyprus",
          "Czech Republic",
          "Denmark",
          "Djibouti",
          "Dominica",
          "Dominican Republic",
          "Ecuador",
          "Egypt",
          "Eritrea",
          "El Salvador",
          "Spain",
          "Estonia",
          "Ethiopia",
          "Russia",
          "Fiji",
          "Finland",
          "France",
          "Germany",
          "Micronesia",
          "Gabon",
          "Gambia",
          "UK",
          "Guinea-Bissau",
          "Germany",
          "Georgia",
          "Equatorial Guinea",
          "Germany",
          "Ghana",
          "Greece",
          "Grenada",
          "Guatemala",
          "Guinea",
          "Guam",
          "Guyana",
          "Haiti",
          "Hong Kong",
          "Honduras",
          "Hungary",
          "Indonesia",
          "India",
          "Individual Olympic Athletes",
          "Iran",
          "Ireland",
          "Iraq",
          "Iceland",
          "Israel",
          "Virgin Islands, US",
          "Italy",
          "Virgin Islands, British",
          "Jamaica",
          "Jordan",
          "Japan",
          "Kazakhstan",
          "Kenya",
          "Kyrgyzstan",
          "Kiribati",
          "South Korea",
          "Kosovo",
          "Saudi Arabia",
          "Kuwait",
          "Laos",
          "Latvia",
          "Libya",
          "Liberia",
          "Saint Lucia",
          "Lesotho",
          "Lebanon",
          "Liechtenstein",
          "Lithuania",
          "Luxembourg",
          "Madagascar",
          "Malaysia",
          "Morocco",
          "Malaysia",
          "Malawi",
          "Moldova",
          "Maldives",
          "Mexico",
          "Mongolia",
          "Marshall Islands",
          "Macedonia",
          "Mali",
          "Malta",
          "Montenegro",
          "Monaco",
          "Mozambique",
          "Mauritius",
          "Mauritania",
          "Myanmar",
          "Namibia",
          "Malaysia",
          "Nicaragua",
          "Netherlands",
          "Nepal",
          "Canada",
          "Nigeria",
          "Niger",
          "Norway",
          "Nauru",
          "New Zealand",
          "Oman",
          "Pakistan",
          "Panama",
          "Paraguay",
          "Peru",
          "Philippines",
          "Palestine",
          "Palau",
          "Papua New Guinea",
          "Poland",
          "Portugal",
          "North Korea",
          "Puerto Rico",
          "Qatar",
          "Zimbabwe",
          null,
          "Romania",
          "South Africa",
          "Russia",
          "Rwanda",
          "Germany",
          "Samoa",
          "Serbia",
          "Senegal",
          "Seychelles",
          "Singapore",
          "Saint Kitts",
          "Sierra Leone",
          "Slovenia",
          "San Marino",
          "Solomon Islands",
          "Somalia",
          "Serbia",
          "Sri Lanka",
          "South Sudan",
          "Sao Tome and Principe",
          "Sudan",
          "Switzerland",
          "Suriname",
          "Slovakia",
          "Sweden",
          "Swaziland",
          "Syria",
          "Tanzania",
          "Czech Republic",
          "Tonga",
          "Thailand",
          "Tajikistan",
          "Turkmenistan",
          "Timor-Leste",
          "Togo",
          "Taiwan",
          "Trinidad",
          "Tunisia",
          "Turkey",
          null,
          "United Arab Emirates",
          "Syria",
          "Uganda",
          "Ukraine",
          null,
          "Russia",
          "Uruguay",
          "USA",
          "Uzbekistan",
          "Vanuatu",
          "Venezuela",
          "Vietnam",
          "Saint Vincent",
          "Vietnam",
          "Trinidad",
          "Yemen",
          "Yemen",
          "Yemen",
          "Serbia",
          "Zambia",
          "Zimbabwe"
         ]
        },
        {
         "locationmode": "country names",
         "locations": [
          "Afghanistan",
          "Curacao",
          "Albania",
          "Algeria",
          "Andorra",
          "Angola",
          "Antigua",
          "Australasia",
          "Argentina",
          "Armenia",
          "Aruba",
          "American Samoa",
          "Australia",
          "Austria",
          "Azerbaijan",
          "Bahamas",
          "Bangladesh",
          "Barbados",
          "Burundi",
          "Belgium",
          "Benin",
          "Bermuda",
          "Bhutan",
          "Bosnia and Herzegovina",
          "Belize",
          "Belarus",
          "Czech Republic",
          "Boliva",
          "Botswana",
          "Brazil",
          "Bahrain",
          "Brunei",
          "Bulgaria",
          "Burkina Faso",
          "Central African Republic",
          "Cambodia",
          "Canada",
          "Cayman Islands",
          "Republic of Congo",
          "Chad",
          "Chile",
          "China",
          "Ivory Coast",
          "Cameroon",
          "Democratic Republic of the Congo",
          "Cook Islands",
          "Colombia",
          "Comoros",
          "Cape Verde",
          "Costa Rica",
          "Croatia",
          "Crete",
          "Cuba",
          "Cyprus",
          "Czech Republic",
          "Denmark",
          "Djibouti",
          "Dominica",
          "Dominican Republic",
          "Ecuador",
          "Egypt",
          "Eritrea",
          "El Salvador",
          "Spain",
          "Estonia",
          "Ethiopia",
          "Russia",
          "Fiji",
          "Finland",
          "France",
          "Germany",
          "Micronesia",
          "Gabon",
          "Gambia",
          "UK",
          "Guinea-Bissau",
          "Germany",
          "Georgia",
          "Equatorial Guinea",
          "Germany",
          "Ghana",
          "Greece",
          "Grenada",
          "Guatemala",
          "Guinea",
          "Guam",
          "Guyana",
          "Haiti",
          "Hong Kong",
          "Honduras",
          "Hungary",
          "Indonesia",
          "India",
          "Individual Olympic Athletes",
          "Iran",
          "Ireland",
          "Iraq",
          "Iceland",
          "Israel",
          "Virgin Islands, US",
          "Italy",
          "Virgin Islands, British",
          "Jamaica",
          "Jordan",
          "Japan",
          "Kazakhstan",
          "Kenya",
          "Kyrgyzstan",
          "Kiribati",
          "South Korea",
          "Kosovo",
          "Saudi Arabia",
          "Kuwait",
          "Laos",
          "Latvia",
          "Libya",
          "Liberia",
          "Saint Lucia",
          "Lesotho",
          "Lebanon",
          "Liechtenstein",
          "Lithuania",
          "Luxembourg",
          "Madagascar",
          "Malaysia",
          "Morocco",
          "Malaysia",
          "Malawi",
          "Moldova",
          "Maldives",
          "Mexico",
          "Mongolia",
          "Marshall Islands",
          "Macedonia",
          "Mali",
          "Malta",
          "Montenegro",
          "Monaco",
          "Mozambique",
          "Mauritius",
          "Mauritania",
          "Myanmar",
          "Namibia",
          "Malaysia",
          "Nicaragua",
          "Netherlands",
          "Nepal",
          "Canada",
          "Nigeria",
          "Niger",
          "Norway",
          "Nauru",
          "New Zealand",
          "Oman",
          "Pakistan",
          "Panama",
          "Paraguay",
          "Peru",
          "Philippines",
          "Palestine",
          "Palau",
          "Papua New Guinea",
          "Poland",
          "Portugal",
          "North Korea",
          "Puerto Rico",
          "Qatar",
          "Zimbabwe",
          null,
          "Romania",
          "South Africa",
          "Russia",
          "Rwanda",
          "Germany",
          "Samoa",
          "Serbia",
          "Senegal",
          "Seychelles",
          "Singapore",
          "Saint Kitts",
          "Sierra Leone",
          "Slovenia",
          "San Marino",
          "Solomon Islands",
          "Somalia",
          "Serbia",
          "Sri Lanka",
          "South Sudan",
          "Sao Tome and Principe",
          "Sudan",
          "Switzerland",
          "Suriname",
          "Slovakia",
          "Sweden",
          "Swaziland",
          "Syria",
          "Tanzania",
          "Czech Republic",
          "Tonga",
          "Thailand",
          "Tajikistan",
          "Turkmenistan",
          "Timor-Leste",
          "Togo",
          "Taiwan",
          "Trinidad",
          "Tunisia",
          "Turkey",
          null,
          "United Arab Emirates",
          "Syria",
          "Uganda",
          "Ukraine",
          null,
          "Russia",
          "Uruguay",
          "USA",
          "Uzbekistan",
          "Vanuatu",
          "Venezuela",
          "Vietnam",
          "Saint Vincent",
          "Vietnam",
          "Trinidad",
          "Yemen",
          "Yemen",
          "Yemen",
          "Serbia",
          "Zambia",
          "Zimbabwe"
         ],
         "showscale": false,
         "type": "choropleth",
         "z": [
          0,
          1,
          2,
          3,
          4,
          5,
          6,
          7,
          8,
          9,
          10,
          11,
          12,
          13,
          14,
          15,
          16,
          17,
          18,
          19,
          20,
          21,
          22,
          23,
          24,
          25,
          26,
          27,
          28,
          29,
          30,
          31,
          32,
          33,
          34,
          35,
          36,
          37,
          38,
          39,
          40,
          41,
          42,
          43,
          44,
          45,
          46,
          47,
          48,
          49,
          50,
          51,
          52,
          53,
          54,
          55,
          56,
          57,
          58,
          59,
          60,
          61,
          62,
          63,
          64,
          65,
          66,
          67,
          68,
          69,
          70,
          71,
          72,
          73,
          74,
          75,
          76,
          77,
          78,
          79,
          80,
          81,
          82,
          83,
          84,
          85,
          86,
          87,
          88,
          89,
          90,
          91,
          92,
          93,
          94,
          95,
          96,
          97,
          98,
          99,
          100,
          101,
          102,
          103,
          104,
          105,
          106,
          107,
          108,
          109,
          110,
          111,
          112,
          113,
          114,
          115,
          116,
          117,
          118,
          119,
          120,
          121,
          122,
          123,
          124,
          125,
          126,
          127,
          128,
          129,
          130,
          131,
          132,
          133,
          134,
          135,
          136,
          137,
          138,
          139,
          140,
          141,
          142,
          143,
          144,
          145,
          146,
          147,
          148,
          149,
          150,
          151,
          152,
          153,
          154,
          155,
          156,
          157,
          158,
          159,
          160,
          161,
          162,
          163,
          164,
          165,
          166,
          167,
          168,
          169,
          170,
          171,
          172,
          173,
          174,
          175,
          176,
          177,
          178,
          179,
          180,
          181,
          182,
          183,
          184,
          185,
          186,
          187,
          188,
          189,
          190,
          191,
          192,
          193,
          194,
          195,
          196,
          197,
          198,
          199,
          200,
          201,
          202,
          203,
          204,
          205,
          206,
          207,
          208,
          209,
          210,
          211,
          212,
          213,
          214,
          215,
          216,
          217,
          218,
          219,
          220,
          221,
          222,
          223,
          224,
          225,
          226,
          227,
          228,
          229,
          230
         ]
        }
       ],
       "layout": {
        "template": {
         "data": {
          "bar": [
           {
            "error_x": {
             "color": "#2a3f5f"
            },
            "error_y": {
             "color": "#2a3f5f"
            },
            "marker": {
             "line": {
              "color": "#E5ECF6",
              "width": 0.5
             },
             "pattern": {
              "fillmode": "overlay",
              "size": 10,
              "solidity": 0.2
             }
            },
            "type": "bar"
           }
          ],
          "barpolar": [
           {
            "marker": {
             "line": {
              "color": "#E5ECF6",
              "width": 0.5
             },
             "pattern": {
              "fillmode": "overlay",
              "size": 10,
              "solidity": 0.2
             }
            },
            "type": "barpolar"
           }
          ],
          "carpet": [
           {
            "aaxis": {
             "endlinecolor": "#2a3f5f",
             "gridcolor": "white",
             "linecolor": "white",
             "minorgridcolor": "white",
             "startlinecolor": "#2a3f5f"
            },
            "baxis": {
             "endlinecolor": "#2a3f5f",
             "gridcolor": "white",
             "linecolor": "white",
             "minorgridcolor": "white",
             "startlinecolor": "#2a3f5f"
            },
            "type": "carpet"
           }
          ],
          "choropleth": [
           {
            "colorbar": {
             "outlinewidth": 0,
             "ticks": ""
            },
            "type": "choropleth"
           }
          ],
          "contour": [
           {
            "colorbar": {
             "outlinewidth": 0,
             "ticks": ""
            },
            "colorscale": [
             [
              0,
              "#0d0887"
             ],
             [
              0.1111111111111111,
              "#46039f"
             ],
             [
              0.2222222222222222,
              "#7201a8"
             ],
             [
              0.3333333333333333,
              "#9c179e"
             ],
             [
              0.4444444444444444,
              "#bd3786"
             ],
             [
              0.5555555555555556,
              "#d8576b"
             ],
             [
              0.6666666666666666,
              "#ed7953"
             ],
             [
              0.7777777777777778,
              "#fb9f3a"
             ],
             [
              0.8888888888888888,
              "#fdca26"
             ],
             [
              1,
              "#f0f921"
             ]
            ],
            "type": "contour"
           }
          ],
          "contourcarpet": [
           {
            "colorbar": {
             "outlinewidth": 0,
             "ticks": ""
            },
            "type": "contourcarpet"
           }
          ],
          "heatmap": [
           {
            "colorbar": {
             "outlinewidth": 0,
             "ticks": ""
            },
            "colorscale": [
             [
              0,
              "#0d0887"
             ],
             [
              0.1111111111111111,
              "#46039f"
             ],
             [
              0.2222222222222222,
              "#7201a8"
             ],
             [
              0.3333333333333333,
              "#9c179e"
             ],
             [
              0.4444444444444444,
              "#bd3786"
             ],
             [
              0.5555555555555556,
              "#d8576b"
             ],
             [
              0.6666666666666666,
              "#ed7953"
             ],
             [
              0.7777777777777778,
              "#fb9f3a"
             ],
             [
              0.8888888888888888,
              "#fdca26"
             ],
             [
              1,
              "#f0f921"
             ]
            ],
            "type": "heatmap"
           }
          ],
          "heatmapgl": [
           {
            "colorbar": {
             "outlinewidth": 0,
             "ticks": ""
            },
            "colorscale": [
             [
              0,
              "#0d0887"
             ],
             [
              0.1111111111111111,
              "#46039f"
             ],
             [
              0.2222222222222222,
              "#7201a8"
             ],
             [
              0.3333333333333333,
              "#9c179e"
             ],
             [
              0.4444444444444444,
              "#bd3786"
             ],
             [
              0.5555555555555556,
              "#d8576b"
             ],
             [
              0.6666666666666666,
              "#ed7953"
             ],
             [
              0.7777777777777778,
              "#fb9f3a"
             ],
             [
              0.8888888888888888,
              "#fdca26"
             ],
             [
              1,
              "#f0f921"
             ]
            ],
            "type": "heatmapgl"
           }
          ],
          "histogram": [
           {
            "marker": {
             "pattern": {
              "fillmode": "overlay",
              "size": 10,
              "solidity": 0.2
             }
            },
            "type": "histogram"
           }
          ],
          "histogram2d": [
           {
            "colorbar": {
             "outlinewidth": 0,
             "ticks": ""
            },
            "colorscale": [
             [
              0,
              "#0d0887"
             ],
             [
              0.1111111111111111,
              "#46039f"
             ],
             [
              0.2222222222222222,
              "#7201a8"
             ],
             [
              0.3333333333333333,
              "#9c179e"
             ],
             [
              0.4444444444444444,
              "#bd3786"
             ],
             [
              0.5555555555555556,
              "#d8576b"
             ],
             [
              0.6666666666666666,
              "#ed7953"
             ],
             [
              0.7777777777777778,
              "#fb9f3a"
             ],
             [
              0.8888888888888888,
              "#fdca26"
             ],
             [
              1,
              "#f0f921"
             ]
            ],
            "type": "histogram2d"
           }
          ],
          "histogram2dcontour": [
           {
            "colorbar": {
             "outlinewidth": 0,
             "ticks": ""
            },
            "colorscale": [
             [
              0,
              "#0d0887"
             ],
             [
              0.1111111111111111,
              "#46039f"
             ],
             [
              0.2222222222222222,
              "#7201a8"
             ],
             [
              0.3333333333333333,
              "#9c179e"
             ],
             [
              0.4444444444444444,
              "#bd3786"
             ],
             [
              0.5555555555555556,
              "#d8576b"
             ],
             [
              0.6666666666666666,
              "#ed7953"
             ],
             [
              0.7777777777777778,
              "#fb9f3a"
             ],
             [
              0.8888888888888888,
              "#fdca26"
             ],
             [
              1,
              "#f0f921"
             ]
            ],
            "type": "histogram2dcontour"
           }
          ],
          "mesh3d": [
           {
            "colorbar": {
             "outlinewidth": 0,
             "ticks": ""
            },
            "type": "mesh3d"
           }
          ],
          "parcoords": [
           {
            "line": {
             "colorbar": {
              "outlinewidth": 0,
              "ticks": ""
             }
            },
            "type": "parcoords"
           }
          ],
          "pie": [
           {
            "automargin": true,
            "type": "pie"
           }
          ],
          "scatter": [
           {
            "fillpattern": {
             "fillmode": "overlay",
             "size": 10,
             "solidity": 0.2
            },
            "type": "scatter"
           }
          ],
          "scatter3d": [
           {
            "line": {
             "colorbar": {
              "outlinewidth": 0,
              "ticks": ""
             }
            },
            "marker": {
             "colorbar": {
              "outlinewidth": 0,
              "ticks": ""
             }
            },
            "type": "scatter3d"
           }
          ],
          "scattercarpet": [
           {
            "marker": {
             "colorbar": {
              "outlinewidth": 0,
              "ticks": ""
             }
            },
            "type": "scattercarpet"
           }
          ],
          "scattergeo": [
           {
            "marker": {
             "colorbar": {
              "outlinewidth": 0,
              "ticks": ""
             }
            },
            "type": "scattergeo"
           }
          ],
          "scattergl": [
           {
            "marker": {
             "colorbar": {
              "outlinewidth": 0,
              "ticks": ""
             }
            },
            "type": "scattergl"
           }
          ],
          "scattermapbox": [
           {
            "marker": {
             "colorbar": {
              "outlinewidth": 0,
              "ticks": ""
             }
            },
            "type": "scattermapbox"
           }
          ],
          "scatterpolar": [
           {
            "marker": {
             "colorbar": {
              "outlinewidth": 0,
              "ticks": ""
             }
            },
            "type": "scatterpolar"
           }
          ],
          "scatterpolargl": [
           {
            "marker": {
             "colorbar": {
              "outlinewidth": 0,
              "ticks": ""
             }
            },
            "type": "scatterpolargl"
           }
          ],
          "scatterternary": [
           {
            "marker": {
             "colorbar": {
              "outlinewidth": 0,
              "ticks": ""
             }
            },
            "type": "scatterternary"
           }
          ],
          "surface": [
           {
            "colorbar": {
             "outlinewidth": 0,
             "ticks": ""
            },
            "colorscale": [
             [
              0,
              "#0d0887"
             ],
             [
              0.1111111111111111,
              "#46039f"
             ],
             [
              0.2222222222222222,
              "#7201a8"
             ],
             [
              0.3333333333333333,
              "#9c179e"
             ],
             [
              0.4444444444444444,
              "#bd3786"
             ],
             [
              0.5555555555555556,
              "#d8576b"
             ],
             [
              0.6666666666666666,
              "#ed7953"
             ],
             [
              0.7777777777777778,
              "#fb9f3a"
             ],
             [
              0.8888888888888888,
              "#fdca26"
             ],
             [
              1,
              "#f0f921"
             ]
            ],
            "type": "surface"
           }
          ],
          "table": [
           {
            "cells": {
             "fill": {
              "color": "#EBF0F8"
             },
             "line": {
              "color": "white"
             }
            },
            "header": {
             "fill": {
              "color": "#C8D4E3"
             },
             "line": {
              "color": "white"
             }
            },
            "type": "table"
           }
          ]
         },
         "layout": {
          "annotationdefaults": {
           "arrowcolor": "#2a3f5f",
           "arrowhead": 0,
           "arrowwidth": 1
          },
          "autotypenumbers": "strict",
          "coloraxis": {
           "colorbar": {
            "outlinewidth": 0,
            "ticks": ""
           }
          },
          "colorscale": {
           "diverging": [
            [
             0,
             "#8e0152"
            ],
            [
             0.1,
             "#c51b7d"
            ],
            [
             0.2,
             "#de77ae"
            ],
            [
             0.3,
             "#f1b6da"
            ],
            [
             0.4,
             "#fde0ef"
            ],
            [
             0.5,
             "#f7f7f7"
            ],
            [
             0.6,
             "#e6f5d0"
            ],
            [
             0.7,
             "#b8e186"
            ],
            [
             0.8,
             "#7fbc41"
            ],
            [
             0.9,
             "#4d9221"
            ],
            [
             1,
             "#276419"
            ]
           ],
           "sequential": [
            [
             0,
             "#0d0887"
            ],
            [
             0.1111111111111111,
             "#46039f"
            ],
            [
             0.2222222222222222,
             "#7201a8"
            ],
            [
             0.3333333333333333,
             "#9c179e"
            ],
            [
             0.4444444444444444,
             "#bd3786"
            ],
            [
             0.5555555555555556,
             "#d8576b"
            ],
            [
             0.6666666666666666,
             "#ed7953"
            ],
            [
             0.7777777777777778,
             "#fb9f3a"
            ],
            [
             0.8888888888888888,
             "#fdca26"
            ],
            [
             1,
             "#f0f921"
            ]
           ],
           "sequentialminus": [
            [
             0,
             "#0d0887"
            ],
            [
             0.1111111111111111,
             "#46039f"
            ],
            [
             0.2222222222222222,
             "#7201a8"
            ],
            [
             0.3333333333333333,
             "#9c179e"
            ],
            [
             0.4444444444444444,
             "#bd3786"
            ],
            [
             0.5555555555555556,
             "#d8576b"
            ],
            [
             0.6666666666666666,
             "#ed7953"
            ],
            [
             0.7777777777777778,
             "#fb9f3a"
            ],
            [
             0.8888888888888888,
             "#fdca26"
            ],
            [
             1,
             "#f0f921"
            ]
           ]
          },
          "colorway": [
           "#636efa",
           "#EF553B",
           "#00cc96",
           "#ab63fa",
           "#FFA15A",
           "#19d3f3",
           "#FF6692",
           "#B6E880",
           "#FF97FF",
           "#FECB52"
          ],
          "font": {
           "color": "#2a3f5f"
          },
          "geo": {
           "bgcolor": "white",
           "lakecolor": "white",
           "landcolor": "#E5ECF6",
           "showlakes": true,
           "showland": true,
           "subunitcolor": "white"
          },
          "hoverlabel": {
           "align": "left"
          },
          "hovermode": "closest",
          "mapbox": {
           "style": "light"
          },
          "paper_bgcolor": "white",
          "plot_bgcolor": "#E5ECF6",
          "polar": {
           "angularaxis": {
            "gridcolor": "white",
            "linecolor": "white",
            "ticks": ""
           },
           "bgcolor": "#E5ECF6",
           "radialaxis": {
            "gridcolor": "white",
            "linecolor": "white",
            "ticks": ""
           }
          },
          "scene": {
           "xaxis": {
            "backgroundcolor": "#E5ECF6",
            "gridcolor": "white",
            "gridwidth": 2,
            "linecolor": "white",
            "showbackground": true,
            "ticks": "",
            "zerolinecolor": "white"
           },
           "yaxis": {
            "backgroundcolor": "#E5ECF6",
            "gridcolor": "white",
            "gridwidth": 2,
            "linecolor": "white",
            "showbackground": true,
            "ticks": "",
            "zerolinecolor": "white"
           },
           "zaxis": {
            "backgroundcolor": "#E5ECF6",
            "gridcolor": "white",
            "gridwidth": 2,
            "linecolor": "white",
            "showbackground": true,
            "ticks": "",
            "zerolinecolor": "white"
           }
          },
          "shapedefaults": {
           "line": {
            "color": "#2a3f5f"
           }
          },
          "ternary": {
           "aaxis": {
            "gridcolor": "white",
            "linecolor": "white",
            "ticks": ""
           },
           "baxis": {
            "gridcolor": "white",
            "linecolor": "white",
            "ticks": ""
           },
           "bgcolor": "#E5ECF6",
           "caxis": {
            "gridcolor": "white",
            "linecolor": "white",
            "ticks": ""
           }
          },
          "title": {
           "x": 0.05
          },
          "xaxis": {
           "automargin": true,
           "gridcolor": "white",
           "linecolor": "white",
           "ticks": "",
           "title": {
            "standoff": 15
           },
           "zerolinecolor": "white",
           "zerolinewidth": 2
          },
          "yaxis": {
           "automargin": true,
           "gridcolor": "white",
           "linecolor": "white",
           "ticks": "",
           "title": {
            "standoff": 15
           },
           "zerolinecolor": "white",
           "zerolinewidth": 2
          }
         }
        }
       }
      }
     },
     "metadata": {},
     "output_type": "display_data"
    }
   ],
   "source": [
    "import pandas as pd\n",
    "import numpy as np\n",
    "import plotly.express as px\n",
    "import plotly.graph_objects as go \n",
    "\n",
    "data = pd.read_csv(\"data/noc_regions.csv\")\n",
    "\n",
    "Graphe=go.Figure(\n",
    "    data=go.Choropleth(\n",
    "        locations=data['region'], # Spatial coordinates\n",
    "        z = data[\"region\"], # Data to be color-coded\n",
    "        locationmode = \"country names\",\n",
    "        colorbar_title = \"Points donnés\",\n",
    "        autocolorscale= False,\n",
    "        colorscale=\"viridis\",\n",
    "        text=data['region'],\n",
    "    )\n",
    ")\n",
    "# Graphe.update_geos(\n",
    "#     center=dict(lon= 23, lat= 54),\n",
    "#     lataxis_range=[31.0529,-40.4296], lonaxis_range=[-24, 88.2421],\n",
    "#     projection_scale=3\n",
    "# )\n",
    "# for idx, row in data.iterrows():\n",
    "#     Graphe.add_traces(\n",
    "#         go.Choropleth(\n",
    "#             locations=[row['region']],\n",
    "#             locationmode = \"country names\",\n",
    "#             z = [1],\n",
    "#             colorbar=None,\n",
    "#             showscale = False))\n",
    "    \n",
    "Graphe.add_traces(\n",
    "        go.Choropleth(\n",
    "            locations=data['region'],\n",
    "            locationmode = \"country names\",\n",
    "            z = [i for i in range(0, 231)],\n",
    "            colorbar=None,\n",
    "            showscale = False))\n",
    "Graphe.show()"
   ]
  },
  {
   "cell_type": "code",
   "execution_count": null,
   "metadata": {},
   "outputs": [
    {
     "ename": "ModuleNotFoundError",
     "evalue": "No module named 'matplotlib'",
     "output_type": "error",
     "traceback": [
      "\u001b[1;31m---------------------------------------------------------------------------\u001b[0m",
      "\u001b[1;31mModuleNotFoundError\u001b[0m                       Traceback (most recent call last)",
      "\u001b[1;32md:\\Documents\\Dev\\data_viz_JO\\test.ipynb Cell 8\u001b[0m line \u001b[0;36m1\n\u001b[1;32m----> <a href='vscode-notebook-cell:/d%3A/Documents/Dev/data_viz_JO/test.ipynb#X11sZmlsZQ%3D%3D?line=0'>1</a>\u001b[0m \u001b[39mimport\u001b[39;00m \u001b[39mmatplotlib\u001b[39;00m\u001b[39m.\u001b[39;00m\u001b[39mpyplot\u001b[39;00m \u001b[39mas\u001b[39;00m \u001b[39mplt\u001b[39;00m\n\u001b[0;32m      <a href='vscode-notebook-cell:/d%3A/Documents/Dev/data_viz_JO/test.ipynb#X11sZmlsZQ%3D%3D?line=1'>2</a>\u001b[0m \u001b[39mimport\u001b[39;00m \u001b[39mnumpy\u001b[39;00m \u001b[39mas\u001b[39;00m \u001b[39mnp\u001b[39;00m\n\u001b[0;32m      <a href='vscode-notebook-cell:/d%3A/Documents/Dev/data_viz_JO/test.ipynb#X11sZmlsZQ%3D%3D?line=3'>4</a>\u001b[0m species \u001b[39m=\u001b[39m (\u001b[39m\"\u001b[39m\u001b[39mAdelie\u001b[39m\u001b[39m\"\u001b[39m, \u001b[39m\"\u001b[39m\u001b[39mChinstrap\u001b[39m\u001b[39m\"\u001b[39m, \u001b[39m\"\u001b[39m\u001b[39mGentoo\u001b[39m\u001b[39m\"\u001b[39m)\n",
      "\u001b[1;31mModuleNotFoundError\u001b[0m: No module named 'matplotlib'"
     ]
    }
   ],
   "source": [
    "\n",
    "import matplotlib.pyplot as plt\n",
    "import numpy as np\n",
    "\n",
    "species = (\"Adelie\", \"Chinstrap\", \"Gentoo\")\n",
    "penguin_means = {\n",
    "    'Bill Depth': (18.35, 18.43, 14.98),\n",
    "    'Bill Length': (38.79, 48.83, 47.50),\n",
    "    'Flipper Length': (189.95, 195.82, 217.19),\n",
    "}\n",
    "\n",
    "x = np.arange(len(species))  # the label locations\n",
    "width = 0.25  # the width of the bars\n",
    "multiplier = 0\n",
    "\n",
    "fig, ax = plt.subplots(layout='constrained')\n",
    "\n",
    "for attribute, measurement in penguin_means.items():\n",
    "    offset = width * multiplier\n",
    "    rects = ax.bar(x + offset, measurement, width, label=attribute)\n",
    "    ax.bar_label(rects, padding=3)\n",
    "    multiplier += 1\n",
    "\n",
    "# Add some text for labels, title and custom x-axis tick labels, etc.\n",
    "ax.set_ylabel('Length (mm)')\n",
    "ax.set_title('Penguin attributes by species')\n",
    "ax.set_xticks(x + width, species)\n",
    "ax.legend(loc='upper left', ncols=3)\n",
    "ax.set_ylim(0, 250)\n",
    "\n",
    "plt.show()"
   ]
  },
  {
   "cell_type": "code",
   "execution_count": null,
   "metadata": {},
   "outputs": [],
   "source": [
    "import streamlit as st\n",
    "import pandas as pd\n",
    "import numpy as np\n",
    "import plotly.express as px\n",
    "import plotly.graph_objects as go \n",
    "\n",
    "\n",
    " )\n",
    "    # block a specific zoom on the map ( scope \"europe\" isn't complete for eurovision countries xD!)\n",
    "    Graphe.update_geos(\n",
    "    center=dict(lon= 23, lat= 54),\n",
    "    lataxis_range=[31.0529,-40.4296], lonaxis_range=[-24, 88.2421],\n",
    "    projection_scale=3\n",
    "    )\n",
    "    \n",
    "    # add trace for the specific country.\n",
    "    \n",
    "    \n",
    "    Graphes.append(Graphe)\n",
    "\n",
    "#creation selectbox to select country\n",
    "col12, col22 = st.beta_columns([0.2,0.8])   # I use columns to put the selector on a  side and the graph on other side \n",
    "Pays=list(Euro_tr.columns[1:-1]) # List containing country's name\n",
    "Selection_Pays = col12.selectbox('',(Pays)) #create a multiple selector with the different countries as possible choice\n",
    "\n",
    "\n",
    "# define action according to the selection.\n",
    "for country in Pays :\n",
    "        if Selection_Pays== country : #if country is selected\n",
    "            col22.plotly_chart(Graphes[Pays.index(country)]) # plot the corresponding map.\n"
   ]
  }
 ],
 "metadata": {
  "kernelspec": {
   "display_name": "visu_projet",
   "language": "python",
   "name": "python3"
  },
  "language_info": {
   "codemirror_mode": {
    "name": "ipython",
    "version": 3
   },
   "file_extension": ".py",
   "mimetype": "text/x-python",
   "name": "python",
   "nbconvert_exporter": "python",
   "pygments_lexer": "ipython3",
   "version": "3.11.5"
  }
 },
 "nbformat": 4,
 "nbformat_minor": 2
}
