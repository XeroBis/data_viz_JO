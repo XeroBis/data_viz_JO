{
 "cells": [
  {
   "cell_type": "code",
   "execution_count": 1,
   "metadata": {},
   "outputs": [],
   "source": [
    "from utils.graph import JO"
   ]
  },
  {
   "cell_type": "code",
   "execution_count": 2,
   "metadata": {},
   "outputs": [
    {
     "data": {
      "text/plain": [
       "'FRA'"
      ]
     },
     "execution_count": 2,
     "metadata": {},
     "output_type": "execute_result"
    }
   ],
   "source": [
    "\n",
    "jo_inst = JO()\n",
    "#jo_inst.get_repartitition_homme_femme()\n",
    "test = jo_inst.get_list_country()\n",
    "\n",
    "\n",
    "jo_inst.get_noc_of_country(\"France\")"
   ]
  },
  {
   "cell_type": "code",
   "execution_count": 23,
   "metadata": {},
   "outputs": [
    {
     "name": "stdout",
     "output_type": "stream",
     "text": [
      "['AFG', 'ARM', 'AZE', 'BRN', 'CHN', 'CYP', 'GEO', 'HKG', 'IND', 'IRQ', 'ISR', 'JOR', 'JPN', 'KAZ', 'KGZ', 'KOR', 'LAO', 'MDV', 'PAK', 'PRK', 'QAT', 'SYR', 'THA', 'TJK', 'TKM', 'TLS', 'TUR', 'UZB', 'VNM', 'YEM'] ['ALB', 'AND', 'AUT', 'BEL', 'BIH', 'BLR', 'CZE', 'ESP', 'EST', 'FIN', 'FRA', 'GBR', 'HUN', 'IRL', 'ISL', 'ITA', 'LIE', 'LTU', 'LUX', 'MDA', 'MKD', 'MLT', 'MNE', 'NOR', 'POL', 'ROU', 'RUS', 'SMR', 'SRB', 'SVK', 'SWE', 'UKR'] ['BDI', 'BEN', 'CAF', 'CIV', 'CMR', 'COD', 'COM', 'CPV', 'DJI', 'EGY', 'ERI', 'ETH', 'GAB', 'GHA', 'KEN', 'LBR', 'MAR', 'MLI', 'MOZ', 'NAM', 'RWA', 'SEN', 'SLE', 'SOM', 'SSD', 'STP', 'SWZ', 'TUN', 'UGA'] ['AUS', 'COK', 'FSM', 'GUM', 'KIR', 'MHL', 'NRU', 'NZL', 'PLW', 'PNG', 'TUV'] ['ARG', 'BOL', 'BRA', 'CAN', 'COL', 'CUB', 'DMA', 'DOM', 'ECU', 'GUY', 'JAM', 'LCA', 'MEX', 'PAN', 'PER', 'SUR', 'TTO', 'USA', 'VEN']\n"
     ]
    }
   ],
   "source": [
    "import pandas as pd\n",
    "data = pd.read_csv(\"data/all.csv\")\n",
    "\n",
    "list_asie = data[data[\"region\"] == \"Asia\"][\"alpha-3\"].tolist()\n",
    "list_europe = data[data[\"region\"] == \"Europe\"][\"alpha-3\"].tolist()\n",
    "list_afrique = data[data[\"region\"] == \"Africa\"][\"alpha-3\"].tolist()\n",
    "list_amerique = data[data[\"region\"] == \"Americas\"][\"alpha-3\"].tolist()\n",
    "liste_oceanie = data[data[\"region\"] == \"Oceania\"][\"alpha-3\"].tolist()\n",
    "\n",
    "ASIE = []\n",
    "EUROPE = []\n",
    "AFRIQUE = [] \n",
    "OCÉANIE = [] \n",
    "AMÉRIQUE = []\n",
    "\n",
    "df_noc = pd.read_csv(\"data/noc_regions.csv\")\n",
    "for key, row in df_noc.iterrows():\n",
    "    #print(\"row\", row[\"NOC\"])\n",
    "    if row[\"NOC\"] in list_asie:\n",
    "        ASIE.append(row[\"NOC\"])\n",
    "    if row[\"NOC\"] in list_europe:\n",
    "        EUROPE.append(row[\"NOC\"])\n",
    "    if row[\"NOC\"] in list_afrique:\n",
    "        AFRIQUE.append(row[\"NOC\"])\n",
    "    if row[\"NOC\"] in liste_oceanie:\n",
    "        OCÉANIE.append(row[\"NOC\"])\n",
    "    if row[\"NOC\"] in list_amerique:\n",
    "        AMÉRIQUE.append(row[\"NOC\"])\n",
    "        \n",
    "print(ASIE,\n",
    "EUROPE,\n",
    "AFRIQUE,\n",
    "OCÉANIE,\n",
    "AMÉRIQUE)"
   ]
  }
 ],
 "metadata": {
  "kernelspec": {
   "display_name": "visu_projet",
   "language": "python",
   "name": "python3"
  },
  "language_info": {
   "codemirror_mode": {
    "name": "ipython",
    "version": 3
   },
   "file_extension": ".py",
   "mimetype": "text/x-python",
   "name": "python",
   "nbconvert_exporter": "python",
   "pygments_lexer": "ipython3",
   "version": "3.11.5"
  }
 },
 "nbformat": 4,
 "nbformat_minor": 2
}
